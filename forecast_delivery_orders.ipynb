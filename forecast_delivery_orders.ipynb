{
 "cells": [
  {
   "cell_type": "code",
   "execution_count": 1,
   "metadata": {
    "id": "a2HzS7hWVGGo"
   },
   "outputs": [],
   "source": [
    "import pandas as pd\n",
    "from google.cloud import bigquery\n",
    "from google.oauth2 import service_account\n",
    "import numpy as np\n",
    "import json\n"
   ]
  },
  {
   "cell_type": "code",
   "execution_count": 2,
   "metadata": {},
   "outputs": [],
   "source": [
    "class BigQuery():\n",
    "    def __init__(self):\n",
    "        self.credentials =json.load(open(\"credentials.json\"))\n",
    "        self.client = bigquery.Client(\n",
    "            credentials=service_account.Credentials.from_service_account_info(self.credentials))\n",
    "\n",
    "    def query(self, project, chave_nota = None):\n",
    "\n",
    "        if project == \"Intelipost\":\n",
    "            query = f\"\"\"\n",
    "                    SELECT \n",
    "                   uf, transportadora, data_criacao, data_despacho,previsao_entrega_cliente,data_entrega,\n",
    "                   previsao_entrega_transp,status_transportador,prazo_transportadora_dias_uteis,praca,\n",
    "                   chave_da_nota,quantidade_de_ocorrencias\n",
    "                    FROM `caffeine-web-server.Intelipost.pedido_entrega`\n",
    "                    WHERE data_criacao > \"2023-06-01\"AND \n",
    "                    canal_de_vendas = \"Ecommerce\" AND\n",
    "                    data_entrega IS NOT NULL AND\n",
    "                    data_despacho IS NOT NULL\n",
    "                    \"\"\"\n",
    "        elif project == 'ecommerce':\n",
    "            query = f\"\"\"\n",
    "                    WITH chaves AS(\n",
    "                    SELECT numero_pedido_cliente, chave_acesso_NFe\n",
    "                    FROM `caffeine-web-server.Omie_Caffeine_ES.Pedidos` \n",
    "                    WHERE chave_acesso_NFe IN {chave_nota}\n",
    "                    )\n",
    "\n",
    "                    SELECT chaves.chave_acesso_NFe, DATE(LEFT(shopify.criado_em,10)) as criado_shopify, \n",
    "                    FROM `caffeine-web-server.Shopify_BR.Pedidos` as shopify\n",
    "                    INNER JOIN chaves ON shopify.id_pedido = chaves.numero_pedido_cliente\n",
    "                    WHERE shopify.status_financeiro = \"paid\"\n",
    "                    \"\"\"\n",
    "\n",
    "        result = self.bq_result(query)\n",
    "        return result\n",
    "\n",
    "    def bq_result(self, query_text):\n",
    "\n",
    "        query_job = self.client.query(query_text)\n",
    "        results = query_job.result()\n",
    "        dataframe = pd.DataFrame([dict(row) for row in results])\n",
    "        return dataframe\n",
    "    \n"
   ]
  },
  {
   "cell_type": "code",
   "execution_count": 3,
   "metadata": {},
   "outputs": [],
   "source": [
    "def get_date_order(chaves_de_nota):\n",
    "    df_notas = pd.DataFrame()\n",
    "    \n",
    "    chunk_size = 15000\n",
    "    num_chunks = len(chaves_de_nota) // chunk_size + (len(chaves_de_nota) % chunk_size > 0)\n",
    "\n",
    "    # Loop to divide the tuple into chunks\n",
    "    for i in range(num_chunks):\n",
    "        start_index = i * chunk_size\n",
    "        end_index = (i + 1) * chunk_size\n",
    "        current_chunk = chaves_de_nota[start_index:end_index]\n",
    "\n",
    "        df_temp = BigQuery().query(\"ecommerce\",current_chunk)\n",
    "        df_notas = pd.concat([df_temp,df_notas], axis=0, ignore_index = True)\n",
    "    return df_notas\n"
   ]
  },
  {
   "cell_type": "code",
   "execution_count": 4,
   "metadata": {},
   "outputs": [],
   "source": [
    "intelipost_data = BigQuery().query(\"Intelipost\")"
   ]
  },
  {
   "cell_type": "code",
   "execution_count": 6,
   "metadata": {},
   "outputs": [
    {
     "data": {
      "text/html": [
       "<div>\n",
       "<style scoped>\n",
       "    .dataframe tbody tr th:only-of-type {\n",
       "        vertical-align: middle;\n",
       "    }\n",
       "\n",
       "    .dataframe tbody tr th {\n",
       "        vertical-align: top;\n",
       "    }\n",
       "\n",
       "    .dataframe thead th {\n",
       "        text-align: right;\n",
       "    }\n",
       "</style>\n",
       "<table border=\"1\" class=\"dataframe\">\n",
       "  <thead>\n",
       "    <tr style=\"text-align: right;\">\n",
       "      <th></th>\n",
       "      <th>uf</th>\n",
       "      <th>transportadora</th>\n",
       "      <th>data_criacao</th>\n",
       "      <th>data_despacho</th>\n",
       "      <th>previsao_entrega_cliente</th>\n",
       "      <th>data_entrega</th>\n",
       "      <th>previsao_entrega_transp</th>\n",
       "      <th>status_transportador</th>\n",
       "      <th>prazo_transportadora_dias_uteis</th>\n",
       "      <th>praca</th>\n",
       "      <th>chave_da_nota</th>\n",
       "      <th>quantidade_de_ocorrencias</th>\n",
       "    </tr>\n",
       "  </thead>\n",
       "  <tbody>\n",
       "    <tr>\n",
       "      <th>0</th>\n",
       "      <td>AP</td>\n",
       "      <td>Loggi</td>\n",
       "      <td>2023-09-26 11:56:40.905000+00:00</td>\n",
       "      <td>2023-09-26 17:48:27+00:00</td>\n",
       "      <td>2023-10-15 23:58:59+00:00</td>\n",
       "      <td>2023-10-13 13:15:59+00:00</td>\n",
       "      <td>2023-10-13 23:59:59+00:00</td>\n",
       "      <td>Entregue</td>\n",
       "      <td>12.0</td>\n",
       "      <td>Capital</td>\n",
       "      <td>32230927403527000385550010003578101810720732</td>\n",
       "      <td>0.0</td>\n",
       "    </tr>\n",
       "    <tr>\n",
       "      <th>1</th>\n",
       "      <td>RO</td>\n",
       "      <td>Loggi</td>\n",
       "      <td>2023-09-30 10:16:37.745000+00:00</td>\n",
       "      <td>2023-10-02 18:12:46+00:00</td>\n",
       "      <td>2023-10-30 23:58:59+00:00</td>\n",
       "      <td>2023-10-16 16:51:59+00:00</td>\n",
       "      <td>2023-10-30 23:59:59+00:00</td>\n",
       "      <td>Entregue</td>\n",
       "      <td>19.0</td>\n",
       "      <td>Interior</td>\n",
       "      <td>32230927403527000385550010003602701198636133</td>\n",
       "      <td>0.0</td>\n",
       "    </tr>\n",
       "    <tr>\n",
       "      <th>2</th>\n",
       "      <td>MT</td>\n",
       "      <td>Loggi</td>\n",
       "      <td>2023-10-03 20:00:23.621000+00:00</td>\n",
       "      <td>2023-10-04 17:34:16+00:00</td>\n",
       "      <td>2023-10-25 23:58:59+00:00</td>\n",
       "      <td>2023-10-14 15:36:59+00:00</td>\n",
       "      <td>2023-10-25 23:59:59+00:00</td>\n",
       "      <td>Entregue</td>\n",
       "      <td>14.0</td>\n",
       "      <td>Interior</td>\n",
       "      <td>32231027403527000385550010003628761554909498</td>\n",
       "      <td>0.0</td>\n",
       "    </tr>\n",
       "    <tr>\n",
       "      <th>3</th>\n",
       "      <td>RO</td>\n",
       "      <td>Loggi</td>\n",
       "      <td>2023-10-04 07:49:10.653000+00:00</td>\n",
       "      <td>2023-10-04 17:34:16+00:00</td>\n",
       "      <td>2023-10-25 23:58:59+00:00</td>\n",
       "      <td>2023-10-25 10:14:59+00:00</td>\n",
       "      <td>2023-10-24 23:59:59+00:00</td>\n",
       "      <td>Entregue</td>\n",
       "      <td>13.0</td>\n",
       "      <td>Interior</td>\n",
       "      <td>32231027403527000385550010003630721997739887</td>\n",
       "      <td>0.0</td>\n",
       "    </tr>\n",
       "    <tr>\n",
       "      <th>4</th>\n",
       "      <td>RO</td>\n",
       "      <td>Loggi</td>\n",
       "      <td>2023-10-03 17:35:22.034000+00:00</td>\n",
       "      <td>2023-10-04 17:34:16+00:00</td>\n",
       "      <td>2023-10-24 23:58:59+00:00</td>\n",
       "      <td>2023-10-25 10:37:59+00:00</td>\n",
       "      <td>2023-10-24 23:59:59+00:00</td>\n",
       "      <td>Entregue</td>\n",
       "      <td>13.0</td>\n",
       "      <td>Interior</td>\n",
       "      <td>32231027403527000385550010003627351403916136</td>\n",
       "      <td>0.0</td>\n",
       "    </tr>\n",
       "  </tbody>\n",
       "</table>\n",
       "</div>"
      ],
      "text/plain": [
       "   uf transportadora                     data_criacao  \\\n",
       "0  AP          Loggi 2023-09-26 11:56:40.905000+00:00   \n",
       "1  RO          Loggi 2023-09-30 10:16:37.745000+00:00   \n",
       "2  MT          Loggi 2023-10-03 20:00:23.621000+00:00   \n",
       "3  RO          Loggi 2023-10-04 07:49:10.653000+00:00   \n",
       "4  RO          Loggi 2023-10-03 17:35:22.034000+00:00   \n",
       "\n",
       "              data_despacho  previsao_entrega_cliente  \\\n",
       "0 2023-09-26 17:48:27+00:00 2023-10-15 23:58:59+00:00   \n",
       "1 2023-10-02 18:12:46+00:00 2023-10-30 23:58:59+00:00   \n",
       "2 2023-10-04 17:34:16+00:00 2023-10-25 23:58:59+00:00   \n",
       "3 2023-10-04 17:34:16+00:00 2023-10-25 23:58:59+00:00   \n",
       "4 2023-10-04 17:34:16+00:00 2023-10-24 23:58:59+00:00   \n",
       "\n",
       "               data_entrega   previsao_entrega_transp status_transportador  \\\n",
       "0 2023-10-13 13:15:59+00:00 2023-10-13 23:59:59+00:00             Entregue   \n",
       "1 2023-10-16 16:51:59+00:00 2023-10-30 23:59:59+00:00             Entregue   \n",
       "2 2023-10-14 15:36:59+00:00 2023-10-25 23:59:59+00:00             Entregue   \n",
       "3 2023-10-25 10:14:59+00:00 2023-10-24 23:59:59+00:00             Entregue   \n",
       "4 2023-10-25 10:37:59+00:00 2023-10-24 23:59:59+00:00             Entregue   \n",
       "\n",
       "   prazo_transportadora_dias_uteis     praca  \\\n",
       "0                             12.0   Capital   \n",
       "1                             19.0  Interior   \n",
       "2                             14.0  Interior   \n",
       "3                             13.0  Interior   \n",
       "4                             13.0  Interior   \n",
       "\n",
       "                                  chave_da_nota  quantidade_de_ocorrencias  \n",
       "0  32230927403527000385550010003578101810720732                        0.0  \n",
       "1  32230927403527000385550010003602701198636133                        0.0  \n",
       "2  32231027403527000385550010003628761554909498                        0.0  \n",
       "3  32231027403527000385550010003630721997739887                        0.0  \n",
       "4  32231027403527000385550010003627351403916136                        0.0  "
      ]
     },
     "execution_count": 6,
     "metadata": {},
     "output_type": "execute_result"
    }
   ],
   "source": [
    "intelipost_data.head()"
   ]
  },
  {
   "cell_type": "markdown",
   "metadata": {},
   "source": [
    "## Importing Data"
   ]
  },
  {
   "cell_type": "code",
   "execution_count": 2,
   "metadata": {
    "id": "DMfdXeACVwQq"
   },
   "outputs": [],
   "source": [
    "#from dataprep.eda import create_report\n"
   ]
  },
  {
   "cell_type": "code",
   "execution_count": 4,
   "metadata": {
    "id": "BdnhePnmSnKa"
   },
   "outputs": [],
   "source": [
    "pd.set_option('display.max_columns', 500)\n"
   ]
  },
  {
   "cell_type": "markdown",
   "metadata": {},
   "source": [
    "### Visualizing all columns and defining the importants"
   ]
  },
  {
   "cell_type": "code",
   "execution_count": 7,
   "metadata": {},
   "outputs": [],
   "source": [
    "variaveis_interesse = intelipost_data"
   ]
  },
  {
   "cell_type": "code",
   "execution_count": 8,
   "metadata": {},
   "outputs": [
    {
     "name": "stdout",
     "output_type": "stream",
     "text": [
      "<class 'pandas.core.frame.DataFrame'>\n",
      "RangeIndex: 70327 entries, 0 to 70326\n",
      "Data columns (total 12 columns):\n",
      " #   Column                           Non-Null Count  Dtype              \n",
      "---  ------                           --------------  -----              \n",
      " 0   uf                               70327 non-null  object             \n",
      " 1   transportadora                   70327 non-null  object             \n",
      " 2   data_criacao                     70327 non-null  datetime64[ns, UTC]\n",
      " 3   data_despacho                    70327 non-null  datetime64[ns, UTC]\n",
      " 4   previsao_entrega_cliente         70173 non-null  datetime64[ns, UTC]\n",
      " 5   data_entrega                     70327 non-null  datetime64[ns, UTC]\n",
      " 6   previsao_entrega_transp          70327 non-null  datetime64[ns, UTC]\n",
      " 7   status_transportador             70327 non-null  object             \n",
      " 8   prazo_transportadora_dias_uteis  70327 non-null  float64            \n",
      " 9   praca                            70327 non-null  object             \n",
      " 10  chave_da_nota                    70327 non-null  object             \n",
      " 11  quantidade_de_ocorrencias        70327 non-null  float64            \n",
      "dtypes: datetime64[ns, UTC](5), float64(2), object(5)\n",
      "memory usage: 6.4+ MB\n"
     ]
    }
   ],
   "source": [
    "variaveis_interesse.info()"
   ]
  },
  {
   "cell_type": "code",
   "execution_count": 9,
   "metadata": {},
   "outputs": [],
   "source": [
    "variaveis_interesse['previsao_entrega_cliente'] = variaveis_interesse['previsao_entrega_cliente'].fillna(variaveis_interesse['previsao_entrega_transp'])"
   ]
  },
  {
   "cell_type": "code",
   "execution_count": 10,
   "metadata": {},
   "outputs": [],
   "source": [
    "variaveis_interesse['situacao'] = np.where((variaveis_interesse['previsao_entrega_cliente'] - variaveis_interesse['data_entrega'] ).dt.days.astype(int) < 0, \"Atrasado\",\"No prazo\")"
   ]
  },
  {
   "cell_type": "code",
   "execution_count": 11,
   "metadata": {
    "colab": {
     "base_uri": "https://localhost:8080/"
    },
    "id": "oS8_tI7yU0yB",
    "outputId": "ab2904f7-edd4-4942-9c5a-293f908efdf4"
   },
   "outputs": [
    {
     "data": {
      "text/plain": [
       "No prazo    59988\n",
       "Atrasado    10339\n",
       "Name: situacao, dtype: int64"
      ]
     },
     "execution_count": 11,
     "metadata": {},
     "output_type": "execute_result"
    }
   ],
   "source": [
    "variaveis_interesse['situacao'].value_counts()"
   ]
  },
  {
   "cell_type": "markdown",
   "metadata": {},
   "source": [
    "### Filter only orders that have already been delivered"
   ]
  },
  {
   "cell_type": "code",
   "execution_count": 12,
   "metadata": {},
   "outputs": [
    {
     "data": {
      "image/png": "[encoded data removed]",
      "text/plain": [
       "<Figure size 432x288 with 1 Axes>"
      ]
     },
     "metadata": {
      "needs_background": "light"
     },
     "output_type": "display_data"
    }
   ],
   "source": [
    "import pandas as pd\n",
    "import matplotlib.pyplot as plt\n",
    "\n",
    "# Supondo que 'variaveis_interesse' é o seu DataFrame\n",
    "# e 'situacao' é a coluna de interesse\n",
    "variaveis_interesse['situacao'].value_counts().plot(kind='bar')\n",
    "\n",
    "# Adicionando rótulos e título\n",
    "plt.xlabel('Situação')\n",
    "plt.ylabel('Contagem')\n",
    "plt.title('Contagem de Situações')\n",
    "\n",
    "# Exibindo o gráfico\n",
    "plt.show()\n"
   ]
  },
  {
   "cell_type": "code",
   "execution_count": 13,
   "metadata": {},
   "outputs": [
    {
     "name": "stderr",
     "output_type": "stream",
     "text": [
      "C:\\Users\\rodri\\anaconda3\\lib\\site-packages\\pandas\\core\\arrays\\datetimes.py:1162: UserWarning: Converting to PeriodArray/Index representation will drop timezone information.\n",
      "  warnings.warn(\n"
     ]
    },
    {
     "data": {
      "text/plain": [
       "<Figure size 720x432 with 0 Axes>"
      ]
     },
     "metadata": {},
     "output_type": "display_data"
    },
    {
     "data": {
      "image/png": "[encoded data removed]",
      "text/plain": [
       "<Figure size 432x288 with 1 Axes>"
      ]
     },
     "metadata": {
      "needs_background": "light"
     },
     "output_type": "display_data"
    }
   ],
   "source": [
    "variaveis_interesse['mes'] = variaveis_interesse['data_criacao'].dt.to_period('M')\n",
    "\n",
    "# Criando um gráfico de barras\n",
    "plt.figure(figsize=(10, 6))\n",
    "variaveis_interesse.groupby(['mes', 'situacao']).size().unstack().plot(kind='bar', stacked=True)\n",
    "\n",
    "# Adicionando rótulos e título\n",
    "plt.xlabel('Mês de Criação')\n",
    "plt.ylabel('Contagem')\n",
    "plt.title('Contagem de Situações por Mês')\n",
    "\n",
    "# Exibindo o gráfico\n",
    "plt.show()"
   ]
  },
  {
   "cell_type": "code",
   "execution_count": 32,
   "metadata": {},
   "outputs": [
    {
     "name": "stderr",
     "output_type": "stream",
     "text": [
      "C:\\Users\\rodri\\anaconda3\\lib\\site-packages\\pandas\\core\\arrays\\datetimes.py:1162: UserWarning: Converting to PeriodArray/Index representation will drop timezone information.\n",
      "  warnings.warn(\n"
     ]
    },
    {
     "data": {
      "text/plain": [
       "<Figure size 720x432 with 0 Axes>"
      ]
     },
     "metadata": {},
     "output_type": "display_data"
    },
    {
     "data": {
      "image/png": "[encoded data removed]",
      "text/plain": [
       "<Figure size 432x288 with 1 Axes>"
      ]
     },
     "metadata": {
      "needs_background": "light"
     },
     "output_type": "display_data"
    }
   ],
   "source": [
    "import matplotlib.pyplot as plt\n",
    "import pandas as pd\n",
    "\n",
    "# Sample data (replace this with your actual data)\n",
    "\n",
    "variaveis_interesse['mes'] = variaveis_interesse['data_criacao'].dt.to_period('M')\n",
    "\n",
    "# Define colors for each 'situacao'\n",
    "colors = {'No prazo': 'red',\n",
    "          'Atrasado': 'blue'}\n",
    "\n",
    "# Create a bar chart with specified colors\n",
    "plt.figure(figsize=(10, 6))\n",
    "variaveis_interesse.groupby(['mes', 'situacao']).size().unstack().plot(kind='bar', stacked=True, color=[colors.get(c, 'grey') for c in variaveis_interesse['situacao'].unique()])\n",
    "\n",
    "# Adding labels and title\n",
    "plt.xlabel('Mês de Criação')\n",
    "plt.ylabel('Contagem')\n",
    "plt.title('Contagem de Situações por Mês')\n",
    "\n",
    "# Display the chart\n",
    "plt.show()\n"
   ]
  },
  {
   "cell_type": "code",
   "execution_count": 14,
   "metadata": {},
   "outputs": [],
   "source": [
    "contagem_por_mes_situacao = variaveis_interesse.groupby(['mes', 'situacao']).size().unstack()\n",
    "contagem_por_mes_situacao['Porcentagem_Atrasado'] = (contagem_por_mes_situacao['Atrasado'] / contagem_por_mes_situacao.sum(axis=1)) * 100"
   ]
  },
  {
   "cell_type": "code",
   "execution_count": 15,
   "metadata": {},
   "outputs": [
    {
     "data": {
      "text/html": [
       "<div>\n",
       "<style scoped>\n",
       "    .dataframe tbody tr th:only-of-type {\n",
       "        vertical-align: middle;\n",
       "    }\n",
       "\n",
       "    .dataframe tbody tr th {\n",
       "        vertical-align: top;\n",
       "    }\n",
       "\n",
       "    .dataframe thead th {\n",
       "        text-align: right;\n",
       "    }\n",
       "</style>\n",
       "<table border=\"1\" class=\"dataframe\">\n",
       "  <thead>\n",
       "    <tr style=\"text-align: right;\">\n",
       "      <th>situacao</th>\n",
       "      <th>Atrasado</th>\n",
       "      <th>No prazo</th>\n",
       "      <th>Porcentagem_Atrasado</th>\n",
       "    </tr>\n",
       "    <tr>\n",
       "      <th>mes</th>\n",
       "      <th></th>\n",
       "      <th></th>\n",
       "      <th></th>\n",
       "    </tr>\n",
       "  </thead>\n",
       "  <tbody>\n",
       "    <tr>\n",
       "      <th>2023-06</th>\n",
       "      <td>437</td>\n",
       "      <td>7530</td>\n",
       "      <td>5.485126</td>\n",
       "    </tr>\n",
       "    <tr>\n",
       "      <th>2023-07</th>\n",
       "      <td>365</td>\n",
       "      <td>4082</td>\n",
       "      <td>8.207781</td>\n",
       "    </tr>\n",
       "    <tr>\n",
       "      <th>2023-08</th>\n",
       "      <td>1481</td>\n",
       "      <td>3367</td>\n",
       "      <td>30.548680</td>\n",
       "    </tr>\n",
       "    <tr>\n",
       "      <th>2023-09</th>\n",
       "      <td>3969</td>\n",
       "      <td>9194</td>\n",
       "      <td>30.152701</td>\n",
       "    </tr>\n",
       "    <tr>\n",
       "      <th>2023-10</th>\n",
       "      <td>336</td>\n",
       "      <td>6142</td>\n",
       "      <td>5.186786</td>\n",
       "    </tr>\n",
       "    <tr>\n",
       "      <th>2023-11</th>\n",
       "      <td>3606</td>\n",
       "      <td>27908</td>\n",
       "      <td>11.442533</td>\n",
       "    </tr>\n",
       "    <tr>\n",
       "      <th>2023-12</th>\n",
       "      <td>142</td>\n",
       "      <td>1629</td>\n",
       "      <td>8.018069</td>\n",
       "    </tr>\n",
       "    <tr>\n",
       "      <th>2024-01</th>\n",
       "      <td>3</td>\n",
       "      <td>136</td>\n",
       "      <td>2.158273</td>\n",
       "    </tr>\n",
       "  </tbody>\n",
       "</table>\n",
       "</div>"
      ],
      "text/plain": [
       "situacao  Atrasado  No prazo  Porcentagem_Atrasado\n",
       "mes                                               \n",
       "2023-06        437      7530              5.485126\n",
       "2023-07        365      4082              8.207781\n",
       "2023-08       1481      3367             30.548680\n",
       "2023-09       3969      9194             30.152701\n",
       "2023-10        336      6142              5.186786\n",
       "2023-11       3606     27908             11.442533\n",
       "2023-12        142      1629              8.018069\n",
       "2024-01          3       136              2.158273"
      ]
     },
     "execution_count": 15,
     "metadata": {},
     "output_type": "execute_result"
    }
   ],
   "source": [
    "contagem_por_mes_situacao"
   ]
  },
  {
   "cell_type": "code",
   "execution_count": 19,
   "metadata": {},
   "outputs": [
    {
     "data": {
      "image/png": "[encoded data removed]",
      "text/plain": [
       "<Figure size 720x432 with 1 Axes>"
      ]
     },
     "metadata": {
      "needs_background": "light"
     },
     "output_type": "display_data"
    }
   ],
   "source": [
    "contagem_por_mes_situacao.index = contagem_por_mes_situacao.index.astype(str)\n",
    "\n",
    "plt.figure(figsize=(10, 6))\n",
    "ax = contagem_por_mes_situacao['Porcentagem_Atrasado'].plot(kind='line')\n",
    "ax.set_ylim(0, 50)\n",
    "plt.xlabel('Mês de Criação')\n",
    "plt.ylabel('Porcentagem')\n",
    "plt.title('Porcentagem de Atrasado por Situação')\n",
    "\n",
    "for i, y in enumerate(contagem_por_mes_situacao['Porcentagem_Atrasado']):\n",
    "    ax.text(i, y, f'{y:.1f}%', ha='center', va='bottom')\n",
    "    \n",
    "# Exibindo o gráfico\n",
    "plt.show()"
   ]
  },
  {
   "cell_type": "code",
   "execution_count": 20,
   "metadata": {},
   "outputs": [
    {
     "data": {
      "text/plain": [
       "No prazo    59988\n",
       "Atrasado    10339\n",
       "Name: situacao, dtype: int64"
      ]
     },
     "execution_count": 20,
     "metadata": {},
     "output_type": "execute_result"
    }
   ],
   "source": [
    "variaveis_interesse['situacao'].value_counts()"
   ]
  },
  {
   "cell_type": "code",
   "execution_count": 21,
   "metadata": {},
   "outputs": [
    {
     "name": "stdout",
     "output_type": "stream",
     "text": [
      "Proporção de pedidos entregue atrasados 14.7 %\n"
     ]
    }
   ],
   "source": [
    "porcentagem = round(10214 / (59354 + 10214),3)*100\n",
    "print(f\"Proporção de pedidos entregue atrasados {porcentagem} %\")\n"
   ]
  },
  {
   "cell_type": "markdown",
   "metadata": {},
   "source": [
    "### Por transportadora"
   ]
  },
  {
   "cell_type": "code",
   "execution_count": 22,
   "metadata": {},
   "outputs": [
    {
     "data": {
      "text/html": [
       "<div>\n",
       "<style scoped>\n",
       "    .dataframe tbody tr th:only-of-type {\n",
       "        vertical-align: middle;\n",
       "    }\n",
       "\n",
       "    .dataframe tbody tr th {\n",
       "        vertical-align: top;\n",
       "    }\n",
       "\n",
       "    .dataframe thead th {\n",
       "        text-align: right;\n",
       "    }\n",
       "</style>\n",
       "<table border=\"1\" class=\"dataframe\">\n",
       "  <thead>\n",
       "    <tr style=\"text-align: right;\">\n",
       "      <th>situacao</th>\n",
       "      <th>Atrasado</th>\n",
       "      <th>No prazo</th>\n",
       "      <th>% entrega transp</th>\n",
       "      <th>% atraso totais</th>\n",
       "    </tr>\n",
       "    <tr>\n",
       "      <th>transportadora</th>\n",
       "      <th></th>\n",
       "      <th></th>\n",
       "      <th></th>\n",
       "      <th></th>\n",
       "    </tr>\n",
       "  </thead>\n",
       "  <tbody>\n",
       "    <tr>\n",
       "      <th>Braspress</th>\n",
       "      <td>50</td>\n",
       "      <td>31</td>\n",
       "      <td>61.73</td>\n",
       "      <td>0.48</td>\n",
       "    </tr>\n",
       "    <tr>\n",
       "      <th>Correios</th>\n",
       "      <td>46</td>\n",
       "      <td>209</td>\n",
       "      <td>18.04</td>\n",
       "      <td>0.44</td>\n",
       "    </tr>\n",
       "    <tr>\n",
       "      <th>Loggi</th>\n",
       "      <td>8737</td>\n",
       "      <td>42142</td>\n",
       "      <td>17.17</td>\n",
       "      <td>84.51</td>\n",
       "    </tr>\n",
       "    <tr>\n",
       "      <th>Total</th>\n",
       "      <td>1506</td>\n",
       "      <td>17606</td>\n",
       "      <td>7.88</td>\n",
       "      <td>14.57</td>\n",
       "    </tr>\n",
       "  </tbody>\n",
       "</table>\n",
       "</div>"
      ],
      "text/plain": [
       "situacao        Atrasado  No prazo  % entrega transp  % atraso totais\n",
       "transportadora                                                       \n",
       "Braspress             50        31             61.73             0.48\n",
       "Correios              46       209             18.04             0.44\n",
       "Loggi               8737     42142             17.17            84.51\n",
       "Total               1506     17606              7.88            14.57"
      ]
     },
     "execution_count": 22,
     "metadata": {},
     "output_type": "execute_result"
    }
   ],
   "source": [
    "# Criando um gráfico de barras\n",
    "transportadora_situacao = variaveis_interesse.groupby(['transportadora', 'situacao']).size().unstack()\n",
    "transportadora_situacao['% entrega transp'] = round(transportadora_situacao['Atrasado'] / transportadora_situacao.sum(axis=1) * 100,2)\n",
    "transportadora_situacao['% atraso totais'] =  round(transportadora_situacao['Atrasado'] / transportadora_situacao['Atrasado'].sum() *100,2)\n",
    "transportadora_situacao\n"
   ]
  },
  {
   "cell_type": "markdown",
   "metadata": {},
   "source": [
    "## Análise por Estado"
   ]
  },
  {
   "cell_type": "code",
   "execution_count": 23,
   "metadata": {},
   "outputs": [
    {
     "data": {
      "text/html": [
       "<div>\n",
       "<style scoped>\n",
       "    .dataframe tbody tr th:only-of-type {\n",
       "        vertical-align: middle;\n",
       "    }\n",
       "\n",
       "    .dataframe tbody tr th {\n",
       "        vertical-align: top;\n",
       "    }\n",
       "\n",
       "    .dataframe thead th {\n",
       "        text-align: right;\n",
       "    }\n",
       "</style>\n",
       "<table border=\"1\" class=\"dataframe\">\n",
       "  <thead>\n",
       "    <tr style=\"text-align: right;\">\n",
       "      <th>situacao</th>\n",
       "      <th>Atrasado</th>\n",
       "      <th>No prazo</th>\n",
       "      <th>% atraso totais</th>\n",
       "    </tr>\n",
       "    <tr>\n",
       "      <th>uf</th>\n",
       "      <th></th>\n",
       "      <th></th>\n",
       "      <th></th>\n",
       "    </tr>\n",
       "  </thead>\n",
       "  <tbody>\n",
       "    <tr>\n",
       "      <th>AC</th>\n",
       "      <td>2.0</td>\n",
       "      <td>62.0</td>\n",
       "      <td>0.02</td>\n",
       "    </tr>\n",
       "    <tr>\n",
       "      <th>AL</th>\n",
       "      <td>23.0</td>\n",
       "      <td>343.0</td>\n",
       "      <td>0.22</td>\n",
       "    </tr>\n",
       "    <tr>\n",
       "      <th>AM</th>\n",
       "      <td>41.0</td>\n",
       "      <td>111.0</td>\n",
       "      <td>0.40</td>\n",
       "    </tr>\n",
       "    <tr>\n",
       "      <th>AP</th>\n",
       "      <td>2.0</td>\n",
       "      <td>15.0</td>\n",
       "      <td>0.02</td>\n",
       "    </tr>\n",
       "    <tr>\n",
       "      <th>BA</th>\n",
       "      <td>347.0</td>\n",
       "      <td>2939.0</td>\n",
       "      <td>3.36</td>\n",
       "    </tr>\n",
       "    <tr>\n",
       "      <th>CE</th>\n",
       "      <td>53.0</td>\n",
       "      <td>643.0</td>\n",
       "      <td>0.51</td>\n",
       "    </tr>\n",
       "    <tr>\n",
       "      <th>DF</th>\n",
       "      <td>342.0</td>\n",
       "      <td>2199.0</td>\n",
       "      <td>3.31</td>\n",
       "    </tr>\n",
       "    <tr>\n",
       "      <th>ES</th>\n",
       "      <td>183.0</td>\n",
       "      <td>1351.0</td>\n",
       "      <td>1.77</td>\n",
       "    </tr>\n",
       "    <tr>\n",
       "      <th>GO</th>\n",
       "      <td>145.0</td>\n",
       "      <td>1422.0</td>\n",
       "      <td>1.40</td>\n",
       "    </tr>\n",
       "    <tr>\n",
       "      <th>MA</th>\n",
       "      <td>23.0</td>\n",
       "      <td>229.0</td>\n",
       "      <td>0.22</td>\n",
       "    </tr>\n",
       "    <tr>\n",
       "      <th>MG</th>\n",
       "      <td>903.0</td>\n",
       "      <td>7112.0</td>\n",
       "      <td>8.73</td>\n",
       "    </tr>\n",
       "    <tr>\n",
       "      <th>MS</th>\n",
       "      <td>36.0</td>\n",
       "      <td>576.0</td>\n",
       "      <td>0.35</td>\n",
       "    </tr>\n",
       "    <tr>\n",
       "      <th>MT</th>\n",
       "      <td>52.0</td>\n",
       "      <td>855.0</td>\n",
       "      <td>0.50</td>\n",
       "    </tr>\n",
       "    <tr>\n",
       "      <th>PA</th>\n",
       "      <td>45.0</td>\n",
       "      <td>274.0</td>\n",
       "      <td>0.44</td>\n",
       "    </tr>\n",
       "    <tr>\n",
       "      <th>PB</th>\n",
       "      <td>39.0</td>\n",
       "      <td>181.0</td>\n",
       "      <td>0.38</td>\n",
       "    </tr>\n",
       "    <tr>\n",
       "      <th>PE</th>\n",
       "      <td>176.0</td>\n",
       "      <td>863.0</td>\n",
       "      <td>1.70</td>\n",
       "    </tr>\n",
       "    <tr>\n",
       "      <th>PI</th>\n",
       "      <td>40.0</td>\n",
       "      <td>141.0</td>\n",
       "      <td>0.39</td>\n",
       "    </tr>\n",
       "    <tr>\n",
       "      <th>PR</th>\n",
       "      <td>545.0</td>\n",
       "      <td>3535.0</td>\n",
       "      <td>5.27</td>\n",
       "    </tr>\n",
       "    <tr>\n",
       "      <th>RJ</th>\n",
       "      <td>1070.0</td>\n",
       "      <td>7302.0</td>\n",
       "      <td>10.35</td>\n",
       "    </tr>\n",
       "    <tr>\n",
       "      <th>RN</th>\n",
       "      <td>38.0</td>\n",
       "      <td>294.0</td>\n",
       "      <td>0.37</td>\n",
       "    </tr>\n",
       "    <tr>\n",
       "      <th>RO</th>\n",
       "      <td>19.0</td>\n",
       "      <td>194.0</td>\n",
       "      <td>0.18</td>\n",
       "    </tr>\n",
       "    <tr>\n",
       "      <th>RR</th>\n",
       "      <td>NaN</td>\n",
       "      <td>31.0</td>\n",
       "      <td>NaN</td>\n",
       "    </tr>\n",
       "    <tr>\n",
       "      <th>RS</th>\n",
       "      <td>526.0</td>\n",
       "      <td>3383.0</td>\n",
       "      <td>5.09</td>\n",
       "    </tr>\n",
       "    <tr>\n",
       "      <th>SC</th>\n",
       "      <td>576.0</td>\n",
       "      <td>2846.0</td>\n",
       "      <td>5.57</td>\n",
       "    </tr>\n",
       "    <tr>\n",
       "      <th>SE</th>\n",
       "      <td>9.0</td>\n",
       "      <td>229.0</td>\n",
       "      <td>0.09</td>\n",
       "    </tr>\n",
       "    <tr>\n",
       "      <th>SP</th>\n",
       "      <td>5094.0</td>\n",
       "      <td>22698.0</td>\n",
       "      <td>49.27</td>\n",
       "    </tr>\n",
       "    <tr>\n",
       "      <th>TO</th>\n",
       "      <td>10.0</td>\n",
       "      <td>160.0</td>\n",
       "      <td>0.10</td>\n",
       "    </tr>\n",
       "  </tbody>\n",
       "</table>\n",
       "</div>"
      ],
      "text/plain": [
       "situacao  Atrasado  No prazo  % atraso totais\n",
       "uf                                           \n",
       "AC             2.0      62.0             0.02\n",
       "AL            23.0     343.0             0.22\n",
       "AM            41.0     111.0             0.40\n",
       "AP             2.0      15.0             0.02\n",
       "BA           347.0    2939.0             3.36\n",
       "CE            53.0     643.0             0.51\n",
       "DF           342.0    2199.0             3.31\n",
       "ES           183.0    1351.0             1.77\n",
       "GO           145.0    1422.0             1.40\n",
       "MA            23.0     229.0             0.22\n",
       "MG           903.0    7112.0             8.73\n",
       "MS            36.0     576.0             0.35\n",
       "MT            52.0     855.0             0.50\n",
       "PA            45.0     274.0             0.44\n",
       "PB            39.0     181.0             0.38\n",
       "PE           176.0     863.0             1.70\n",
       "PI            40.0     141.0             0.39\n",
       "PR           545.0    3535.0             5.27\n",
       "RJ          1070.0    7302.0            10.35\n",
       "RN            38.0     294.0             0.37\n",
       "RO            19.0     194.0             0.18\n",
       "RR             NaN      31.0              NaN\n",
       "RS           526.0    3383.0             5.09\n",
       "SC           576.0    2846.0             5.57\n",
       "SE             9.0     229.0             0.09\n",
       "SP          5094.0   22698.0            49.27\n",
       "TO            10.0     160.0             0.10"
      ]
     },
     "execution_count": 23,
     "metadata": {},
     "output_type": "execute_result"
    }
   ],
   "source": [
    "mapa = variaveis_interesse.groupby(['uf', 'situacao']).size().unstack()\n",
    "mapa['% atraso totais'] =  round(mapa['Atrasado'] / mapa['Atrasado'].sum() *100,2)\n",
    "mapa"
   ]
  },
  {
   "cell_type": "code",
   "execution_count": 24,
   "metadata": {
    "collapsed": true
   },
   "outputs": [
    {
     "ename": "KeyError",
     "evalue": "'region'",
     "output_type": "error",
     "traceback": [
      "\u001b[1;31m---------------------------------------------------------------------------\u001b[0m",
      "\u001b[1;31mKeyError\u001b[0m                                  Traceback (most recent call last)",
      "Input \u001b[1;32mIn [24]\u001b[0m, in \u001b[0;36m<cell line: 1>\u001b[1;34m()\u001b[0m\n\u001b[1;32m----> 1\u001b[0m mapa \u001b[38;5;241m=\u001b[39m \u001b[43mvariaveis_interesse\u001b[49m\u001b[38;5;241;43m.\u001b[39;49m\u001b[43mgroupby\u001b[49m\u001b[43m(\u001b[49m\u001b[43m[\u001b[49m\u001b[38;5;124;43m'\u001b[39;49m\u001b[38;5;124;43mregion\u001b[39;49m\u001b[38;5;124;43m'\u001b[39;49m\u001b[43m,\u001b[49m\u001b[43m \u001b[49m\u001b[38;5;124;43m'\u001b[39;49m\u001b[38;5;124;43msituacao\u001b[39;49m\u001b[38;5;124;43m'\u001b[39;49m\u001b[43m]\u001b[49m\u001b[43m)\u001b[49m\u001b[38;5;241m.\u001b[39msize()\u001b[38;5;241m.\u001b[39munstack()\n\u001b[0;32m      2\u001b[0m mapa[\u001b[38;5;124m'\u001b[39m\u001b[38;5;132;01m% a\u001b[39;00m\u001b[38;5;124mtraso totais\u001b[39m\u001b[38;5;124m'\u001b[39m] \u001b[38;5;241m=\u001b[39m  \u001b[38;5;28mround\u001b[39m(mapa[\u001b[38;5;124m'\u001b[39m\u001b[38;5;124mAtrasado\u001b[39m\u001b[38;5;124m'\u001b[39m] \u001b[38;5;241m/\u001b[39m mapa[\u001b[38;5;124m'\u001b[39m\u001b[38;5;124mAtrasado\u001b[39m\u001b[38;5;124m'\u001b[39m]\u001b[38;5;241m.\u001b[39msum() \u001b[38;5;241m*\u001b[39m\u001b[38;5;241m100\u001b[39m,\u001b[38;5;241m2\u001b[39m)\n\u001b[0;32m      3\u001b[0m mapa\n",
      "File \u001b[1;32m~\\anaconda3\\lib\\site-packages\\pandas\\core\\frame.py:7712\u001b[0m, in \u001b[0;36mDataFrame.groupby\u001b[1;34m(self, by, axis, level, as_index, sort, group_keys, squeeze, observed, dropna)\u001b[0m\n\u001b[0;32m   7707\u001b[0m axis \u001b[38;5;241m=\u001b[39m \u001b[38;5;28mself\u001b[39m\u001b[38;5;241m.\u001b[39m_get_axis_number(axis)\n\u001b[0;32m   7709\u001b[0m \u001b[38;5;66;03m# https://github.com/python/mypy/issues/7642\u001b[39;00m\n\u001b[0;32m   7710\u001b[0m \u001b[38;5;66;03m# error: Argument \"squeeze\" to \"DataFrameGroupBy\" has incompatible type\u001b[39;00m\n\u001b[0;32m   7711\u001b[0m \u001b[38;5;66;03m# \"Union[bool, NoDefault]\"; expected \"bool\"\u001b[39;00m\n\u001b[1;32m-> 7712\u001b[0m \u001b[38;5;28;01mreturn\u001b[39;00m \u001b[43mDataFrameGroupBy\u001b[49m\u001b[43m(\u001b[49m\n\u001b[0;32m   7713\u001b[0m \u001b[43m    \u001b[49m\u001b[43mobj\u001b[49m\u001b[38;5;241;43m=\u001b[39;49m\u001b[38;5;28;43mself\u001b[39;49m\u001b[43m,\u001b[49m\n\u001b[0;32m   7714\u001b[0m \u001b[43m    \u001b[49m\u001b[43mkeys\u001b[49m\u001b[38;5;241;43m=\u001b[39;49m\u001b[43mby\u001b[49m\u001b[43m,\u001b[49m\n\u001b[0;32m   7715\u001b[0m \u001b[43m    \u001b[49m\u001b[43maxis\u001b[49m\u001b[38;5;241;43m=\u001b[39;49m\u001b[43maxis\u001b[49m\u001b[43m,\u001b[49m\n\u001b[0;32m   7716\u001b[0m \u001b[43m    \u001b[49m\u001b[43mlevel\u001b[49m\u001b[38;5;241;43m=\u001b[39;49m\u001b[43mlevel\u001b[49m\u001b[43m,\u001b[49m\n\u001b[0;32m   7717\u001b[0m \u001b[43m    \u001b[49m\u001b[43mas_index\u001b[49m\u001b[38;5;241;43m=\u001b[39;49m\u001b[43mas_index\u001b[49m\u001b[43m,\u001b[49m\n\u001b[0;32m   7718\u001b[0m \u001b[43m    \u001b[49m\u001b[43msort\u001b[49m\u001b[38;5;241;43m=\u001b[39;49m\u001b[43msort\u001b[49m\u001b[43m,\u001b[49m\n\u001b[0;32m   7719\u001b[0m \u001b[43m    \u001b[49m\u001b[43mgroup_keys\u001b[49m\u001b[38;5;241;43m=\u001b[39;49m\u001b[43mgroup_keys\u001b[49m\u001b[43m,\u001b[49m\n\u001b[0;32m   7720\u001b[0m \u001b[43m    \u001b[49m\u001b[43msqueeze\u001b[49m\u001b[38;5;241;43m=\u001b[39;49m\u001b[43msqueeze\u001b[49m\u001b[43m,\u001b[49m\u001b[43m  \u001b[49m\u001b[38;5;66;43;03m# type: ignore[arg-type]\u001b[39;49;00m\n\u001b[0;32m   7721\u001b[0m \u001b[43m    \u001b[49m\u001b[43mobserved\u001b[49m\u001b[38;5;241;43m=\u001b[39;49m\u001b[43mobserved\u001b[49m\u001b[43m,\u001b[49m\n\u001b[0;32m   7722\u001b[0m \u001b[43m    \u001b[49m\u001b[43mdropna\u001b[49m\u001b[38;5;241;43m=\u001b[39;49m\u001b[43mdropna\u001b[49m\u001b[43m,\u001b[49m\n\u001b[0;32m   7723\u001b[0m \u001b[43m\u001b[49m\u001b[43m)\u001b[49m\n",
      "File \u001b[1;32m~\\anaconda3\\lib\\site-packages\\pandas\\core\\groupby\\groupby.py:882\u001b[0m, in \u001b[0;36mGroupBy.__init__\u001b[1;34m(self, obj, keys, axis, level, grouper, exclusions, selection, as_index, sort, group_keys, squeeze, observed, mutated, dropna)\u001b[0m\n\u001b[0;32m    879\u001b[0m \u001b[38;5;28;01mif\u001b[39;00m grouper \u001b[38;5;129;01mis\u001b[39;00m \u001b[38;5;28;01mNone\u001b[39;00m:\n\u001b[0;32m    880\u001b[0m     \u001b[38;5;28;01mfrom\u001b[39;00m \u001b[38;5;21;01mpandas\u001b[39;00m\u001b[38;5;21;01m.\u001b[39;00m\u001b[38;5;21;01mcore\u001b[39;00m\u001b[38;5;21;01m.\u001b[39;00m\u001b[38;5;21;01mgroupby\u001b[39;00m\u001b[38;5;21;01m.\u001b[39;00m\u001b[38;5;21;01mgrouper\u001b[39;00m \u001b[38;5;28;01mimport\u001b[39;00m get_grouper\n\u001b[1;32m--> 882\u001b[0m     grouper, exclusions, obj \u001b[38;5;241m=\u001b[39m \u001b[43mget_grouper\u001b[49m\u001b[43m(\u001b[49m\n\u001b[0;32m    883\u001b[0m \u001b[43m        \u001b[49m\u001b[43mobj\u001b[49m\u001b[43m,\u001b[49m\n\u001b[0;32m    884\u001b[0m \u001b[43m        \u001b[49m\u001b[43mkeys\u001b[49m\u001b[43m,\u001b[49m\n\u001b[0;32m    885\u001b[0m \u001b[43m        \u001b[49m\u001b[43maxis\u001b[49m\u001b[38;5;241;43m=\u001b[39;49m\u001b[43maxis\u001b[49m\u001b[43m,\u001b[49m\n\u001b[0;32m    886\u001b[0m \u001b[43m        \u001b[49m\u001b[43mlevel\u001b[49m\u001b[38;5;241;43m=\u001b[39;49m\u001b[43mlevel\u001b[49m\u001b[43m,\u001b[49m\n\u001b[0;32m    887\u001b[0m \u001b[43m        \u001b[49m\u001b[43msort\u001b[49m\u001b[38;5;241;43m=\u001b[39;49m\u001b[43msort\u001b[49m\u001b[43m,\u001b[49m\n\u001b[0;32m    888\u001b[0m \u001b[43m        \u001b[49m\u001b[43mobserved\u001b[49m\u001b[38;5;241;43m=\u001b[39;49m\u001b[43mobserved\u001b[49m\u001b[43m,\u001b[49m\n\u001b[0;32m    889\u001b[0m \u001b[43m        \u001b[49m\u001b[43mmutated\u001b[49m\u001b[38;5;241;43m=\u001b[39;49m\u001b[38;5;28;43mself\u001b[39;49m\u001b[38;5;241;43m.\u001b[39;49m\u001b[43mmutated\u001b[49m\u001b[43m,\u001b[49m\n\u001b[0;32m    890\u001b[0m \u001b[43m        \u001b[49m\u001b[43mdropna\u001b[49m\u001b[38;5;241;43m=\u001b[39;49m\u001b[38;5;28;43mself\u001b[39;49m\u001b[38;5;241;43m.\u001b[39;49m\u001b[43mdropna\u001b[49m\u001b[43m,\u001b[49m\n\u001b[0;32m    891\u001b[0m \u001b[43m    \u001b[49m\u001b[43m)\u001b[49m\n\u001b[0;32m    893\u001b[0m \u001b[38;5;28mself\u001b[39m\u001b[38;5;241m.\u001b[39mobj \u001b[38;5;241m=\u001b[39m obj\n\u001b[0;32m    894\u001b[0m \u001b[38;5;28mself\u001b[39m\u001b[38;5;241m.\u001b[39maxis \u001b[38;5;241m=\u001b[39m obj\u001b[38;5;241m.\u001b[39m_get_axis_number(axis)\n",
      "File \u001b[1;32m~\\anaconda3\\lib\\site-packages\\pandas\\core\\groupby\\grouper.py:882\u001b[0m, in \u001b[0;36mget_grouper\u001b[1;34m(obj, key, axis, level, sort, observed, mutated, validate, dropna)\u001b[0m\n\u001b[0;32m    880\u001b[0m         in_axis, level, gpr \u001b[38;5;241m=\u001b[39m \u001b[38;5;28;01mFalse\u001b[39;00m, gpr, \u001b[38;5;28;01mNone\u001b[39;00m\n\u001b[0;32m    881\u001b[0m     \u001b[38;5;28;01melse\u001b[39;00m:\n\u001b[1;32m--> 882\u001b[0m         \u001b[38;5;28;01mraise\u001b[39;00m \u001b[38;5;167;01mKeyError\u001b[39;00m(gpr)\n\u001b[0;32m    883\u001b[0m \u001b[38;5;28;01melif\u001b[39;00m \u001b[38;5;28misinstance\u001b[39m(gpr, Grouper) \u001b[38;5;129;01mand\u001b[39;00m gpr\u001b[38;5;241m.\u001b[39mkey \u001b[38;5;129;01mis\u001b[39;00m \u001b[38;5;129;01mnot\u001b[39;00m \u001b[38;5;28;01mNone\u001b[39;00m:\n\u001b[0;32m    884\u001b[0m     \u001b[38;5;66;03m# Add key to exclusions\u001b[39;00m\n\u001b[0;32m    885\u001b[0m     exclusions\u001b[38;5;241m.\u001b[39madd(gpr\u001b[38;5;241m.\u001b[39mkey)\n",
      "\u001b[1;31mKeyError\u001b[0m: 'region'"
     ]
    }
   ],
   "source": [
    "mapa = variaveis_interesse.groupby(['region', 'situacao']).size().unstack()\n",
    "mapa['% atraso totais'] =  round(mapa['Atrasado'] / mapa['Atrasado'].sum() *100,2)\n",
    "mapa"
   ]
  },
  {
   "cell_type": "markdown",
   "metadata": {},
   "source": [
    "## Capital Interior"
   ]
  },
  {
   "cell_type": "code",
   "execution_count": 25,
   "metadata": {},
   "outputs": [
    {
     "data": {
      "text/html": [
       "<div>\n",
       "<style scoped>\n",
       "    .dataframe tbody tr th:only-of-type {\n",
       "        vertical-align: middle;\n",
       "    }\n",
       "\n",
       "    .dataframe tbody tr th {\n",
       "        vertical-align: top;\n",
       "    }\n",
       "\n",
       "    .dataframe thead th {\n",
       "        text-align: right;\n",
       "    }\n",
       "</style>\n",
       "<table border=\"1\" class=\"dataframe\">\n",
       "  <thead>\n",
       "    <tr style=\"text-align: right;\">\n",
       "      <th>situacao</th>\n",
       "      <th>Atrasado</th>\n",
       "      <th>No prazo</th>\n",
       "      <th>% atraso totais</th>\n",
       "    </tr>\n",
       "    <tr>\n",
       "      <th>praca</th>\n",
       "      <th></th>\n",
       "      <th></th>\n",
       "      <th></th>\n",
       "    </tr>\n",
       "  </thead>\n",
       "  <tbody>\n",
       "    <tr>\n",
       "      <th>Capital</th>\n",
       "      <td>7864</td>\n",
       "      <td>39752</td>\n",
       "      <td>76.06</td>\n",
       "    </tr>\n",
       "    <tr>\n",
       "      <th>Interior</th>\n",
       "      <td>2475</td>\n",
       "      <td>20236</td>\n",
       "      <td>23.94</td>\n",
       "    </tr>\n",
       "  </tbody>\n",
       "</table>\n",
       "</div>"
      ],
      "text/plain": [
       "situacao  Atrasado  No prazo  % atraso totais\n",
       "praca                                        \n",
       "Capital       7864     39752            76.06\n",
       "Interior      2475     20236            23.94"
      ]
     },
     "execution_count": 25,
     "metadata": {},
     "output_type": "execute_result"
    }
   ],
   "source": [
    "mapa = variaveis_interesse.groupby(['praca', 'situacao']).size().unstack()\n",
    "mapa['% atraso totais'] =  round(mapa['Atrasado'] / mapa['Atrasado'].sum() *100,2)\n",
    "mapa"
   ]
  },
  {
   "cell_type": "markdown",
   "metadata": {},
   "source": [
    "### Transform a data retirando o UTC e hora"
   ]
  },
  {
   "cell_type": "code",
   "execution_count": 410,
   "metadata": {},
   "outputs": [],
   "source": [
    "colunas_ajustar_data = ['data_entrega','data_criacao','previsao_entrega_transp',\n",
    "                        'previsao_entrega_cliente','data_despacho']\n",
    "\n",
    "for column in colunas_ajustar_data:\n",
    "    base_modelo[column] = base_modelo[column].dt.date"
   ]
  },
  {
   "cell_type": "code",
   "execution_count": 12,
   "metadata": {},
   "outputs": [
    {
     "name": "stderr",
     "output_type": "stream",
     "text": [
      "C:\\Users\\rodri\\AppData\\Local\\Temp\\ipykernel_15256\\3699523633.py:1: SettingWithCopyWarning: \n",
      "A value is trying to be set on a copy of a slice from a DataFrame.\n",
      "Try using .loc[row_indexer,col_indexer] = value instead\n",
      "\n",
      "See the caveats in the documentation: https://pandas.pydata.org/pandas-docs/stable/user_guide/indexing.html#returning-a-view-versus-a-copy\n",
      "  base_modelo['tempo_dias_despacho'] = (base_modelo['data_despacho'] - base_modelo['data_criacao']).dt.days.astype(int)\n"
     ]
    }
   ],
   "source": [
    "base_modelo['tempo_dias_despacho'] = (base_modelo['data_despacho'] - base_modelo['data_criacao']).dt.days.astype(int)"
   ]
  },
  {
   "cell_type": "code",
   "execution_count": 55,
   "metadata": {},
   "outputs": [
    {
     "data": {
      "text/html": [
       "<div>\n",
       "<style scoped>\n",
       "    .dataframe tbody tr th:only-of-type {\n",
       "        vertical-align: middle;\n",
       "    }\n",
       "\n",
       "    .dataframe tbody tr th {\n",
       "        vertical-align: top;\n",
       "    }\n",
       "\n",
       "    .dataframe thead th {\n",
       "        text-align: right;\n",
       "    }\n",
       "</style>\n",
       "<table border=\"1\" class=\"dataframe\">\n",
       "  <thead>\n",
       "    <tr style=\"text-align: right;\">\n",
       "      <th></th>\n",
       "      <th>uf</th>\n",
       "      <th>transportadora</th>\n",
       "      <th>data_criacao</th>\n",
       "      <th>data_despacho</th>\n",
       "      <th>previsao_entrega_cliente</th>\n",
       "      <th>data_entrega</th>\n",
       "      <th>previsao_entrega_transp</th>\n",
       "      <th>status_transportador</th>\n",
       "      <th>prazo_transportadora_dias_uteis</th>\n",
       "      <th>praca</th>\n",
       "      <th>...</th>\n",
       "      <th>quantidade_de_ocorrencias</th>\n",
       "      <th>situacao</th>\n",
       "      <th>mes</th>\n",
       "      <th>chave_acesso_NFe</th>\n",
       "      <th>criado_shopify</th>\n",
       "      <th>tempo_total_despacho</th>\n",
       "      <th>transportadora_Braspress</th>\n",
       "      <th>transportadora_Correios</th>\n",
       "      <th>transportadora_Loggi</th>\n",
       "      <th>transportadora_Total</th>\n",
       "    </tr>\n",
       "  </thead>\n",
       "  <tbody>\n",
       "    <tr>\n",
       "      <th>0</th>\n",
       "      <td>AP</td>\n",
       "      <td>Loggi</td>\n",
       "      <td>2023-09-26 11:56:40.905000+00:00</td>\n",
       "      <td>2023-09-26 17:48:27+00:00</td>\n",
       "      <td>2023-10-15 23:58:59+00:00</td>\n",
       "      <td>2023-10-13 13:15:59+00:00</td>\n",
       "      <td>2023-10-13 23:59:59+00:00</td>\n",
       "      <td>Entregue</td>\n",
       "      <td>12.0</td>\n",
       "      <td>1</td>\n",
       "      <td>...</td>\n",
       "      <td>0.0</td>\n",
       "      <td>0</td>\n",
       "      <td>2023-09</td>\n",
       "      <td>32230927403527000385550010003578101810720732</td>\n",
       "      <td>2023-09-26 00:00:00+00:00</td>\n",
       "      <td>0</td>\n",
       "      <td>0</td>\n",
       "      <td>0</td>\n",
       "      <td>1</td>\n",
       "      <td>0</td>\n",
       "    </tr>\n",
       "    <tr>\n",
       "      <th>1</th>\n",
       "      <td>RO</td>\n",
       "      <td>Loggi</td>\n",
       "      <td>2023-09-30 10:16:37.745000+00:00</td>\n",
       "      <td>2023-10-02 18:12:46+00:00</td>\n",
       "      <td>2023-10-30 23:58:59+00:00</td>\n",
       "      <td>2023-10-16 16:51:59+00:00</td>\n",
       "      <td>2023-10-30 23:59:59+00:00</td>\n",
       "      <td>Entregue</td>\n",
       "      <td>19.0</td>\n",
       "      <td>0</td>\n",
       "      <td>...</td>\n",
       "      <td>0.0</td>\n",
       "      <td>0</td>\n",
       "      <td>2023-09</td>\n",
       "      <td>32230927403527000385550010003602701198636133</td>\n",
       "      <td>2023-09-30 00:00:00+00:00</td>\n",
       "      <td>2</td>\n",
       "      <td>0</td>\n",
       "      <td>0</td>\n",
       "      <td>1</td>\n",
       "      <td>0</td>\n",
       "    </tr>\n",
       "    <tr>\n",
       "      <th>2</th>\n",
       "      <td>MT</td>\n",
       "      <td>Loggi</td>\n",
       "      <td>2023-10-03 20:00:23.621000+00:00</td>\n",
       "      <td>2023-10-04 17:34:16+00:00</td>\n",
       "      <td>2023-10-25 23:58:59+00:00</td>\n",
       "      <td>2023-10-14 15:36:59+00:00</td>\n",
       "      <td>2023-10-25 23:59:59+00:00</td>\n",
       "      <td>Entregue</td>\n",
       "      <td>14.0</td>\n",
       "      <td>0</td>\n",
       "      <td>...</td>\n",
       "      <td>0.0</td>\n",
       "      <td>0</td>\n",
       "      <td>2023-10</td>\n",
       "      <td>32231027403527000385550010003628761554909498</td>\n",
       "      <td>2023-10-03 00:00:00+00:00</td>\n",
       "      <td>1</td>\n",
       "      <td>0</td>\n",
       "      <td>0</td>\n",
       "      <td>1</td>\n",
       "      <td>0</td>\n",
       "    </tr>\n",
       "    <tr>\n",
       "      <th>3</th>\n",
       "      <td>RO</td>\n",
       "      <td>Loggi</td>\n",
       "      <td>2023-10-04 07:49:10.653000+00:00</td>\n",
       "      <td>2023-10-04 17:34:16+00:00</td>\n",
       "      <td>2023-10-25 23:58:59+00:00</td>\n",
       "      <td>2023-10-25 10:14:59+00:00</td>\n",
       "      <td>2023-10-24 23:59:59+00:00</td>\n",
       "      <td>Entregue</td>\n",
       "      <td>13.0</td>\n",
       "      <td>0</td>\n",
       "      <td>...</td>\n",
       "      <td>0.0</td>\n",
       "      <td>0</td>\n",
       "      <td>2023-10</td>\n",
       "      <td>32231027403527000385550010003630721997739887</td>\n",
       "      <td>2023-10-04 00:00:00+00:00</td>\n",
       "      <td>0</td>\n",
       "      <td>0</td>\n",
       "      <td>0</td>\n",
       "      <td>1</td>\n",
       "      <td>0</td>\n",
       "    </tr>\n",
       "    <tr>\n",
       "      <th>4</th>\n",
       "      <td>RO</td>\n",
       "      <td>Loggi</td>\n",
       "      <td>2023-10-03 17:35:22.034000+00:00</td>\n",
       "      <td>2023-10-04 17:34:16+00:00</td>\n",
       "      <td>2023-10-24 23:58:59+00:00</td>\n",
       "      <td>2023-10-25 10:37:59+00:00</td>\n",
       "      <td>2023-10-24 23:59:59+00:00</td>\n",
       "      <td>Entregue</td>\n",
       "      <td>13.0</td>\n",
       "      <td>0</td>\n",
       "      <td>...</td>\n",
       "      <td>0.0</td>\n",
       "      <td>1</td>\n",
       "      <td>2023-10</td>\n",
       "      <td>32231027403527000385550010003627351403916136</td>\n",
       "      <td>2023-10-03 00:00:00+00:00</td>\n",
       "      <td>1</td>\n",
       "      <td>0</td>\n",
       "      <td>0</td>\n",
       "      <td>1</td>\n",
       "      <td>0</td>\n",
       "    </tr>\n",
       "  </tbody>\n",
       "</table>\n",
       "<p>5 rows × 21 columns</p>\n",
       "</div>"
      ],
      "text/plain": [
       "   uf transportadora                     data_criacao  \\\n",
       "0  AP          Loggi 2023-09-26 11:56:40.905000+00:00   \n",
       "1  RO          Loggi 2023-09-30 10:16:37.745000+00:00   \n",
       "2  MT          Loggi 2023-10-03 20:00:23.621000+00:00   \n",
       "3  RO          Loggi 2023-10-04 07:49:10.653000+00:00   \n",
       "4  RO          Loggi 2023-10-03 17:35:22.034000+00:00   \n",
       "\n",
       "              data_despacho  previsao_entrega_cliente  \\\n",
       "0 2023-09-26 17:48:27+00:00 2023-10-15 23:58:59+00:00   \n",
       "1 2023-10-02 18:12:46+00:00 2023-10-30 23:58:59+00:00   \n",
       "2 2023-10-04 17:34:16+00:00 2023-10-25 23:58:59+00:00   \n",
       "3 2023-10-04 17:34:16+00:00 2023-10-25 23:58:59+00:00   \n",
       "4 2023-10-04 17:34:16+00:00 2023-10-24 23:58:59+00:00   \n",
       "\n",
       "               data_entrega   previsao_entrega_transp status_transportador  \\\n",
       "0 2023-10-13 13:15:59+00:00 2023-10-13 23:59:59+00:00             Entregue   \n",
       "1 2023-10-16 16:51:59+00:00 2023-10-30 23:59:59+00:00             Entregue   \n",
       "2 2023-10-14 15:36:59+00:00 2023-10-25 23:59:59+00:00             Entregue   \n",
       "3 2023-10-25 10:14:59+00:00 2023-10-24 23:59:59+00:00             Entregue   \n",
       "4 2023-10-25 10:37:59+00:00 2023-10-24 23:59:59+00:00             Entregue   \n",
       "\n",
       "   prazo_transportadora_dias_uteis  praca  ... quantidade_de_ocorrencias  \\\n",
       "0                             12.0      1  ...                       0.0   \n",
       "1                             19.0      0  ...                       0.0   \n",
       "2                             14.0      0  ...                       0.0   \n",
       "3                             13.0      0  ...                       0.0   \n",
       "4                             13.0      0  ...                       0.0   \n",
       "\n",
       "   situacao      mes                              chave_acesso_NFe  \\\n",
       "0         0  2023-09  32230927403527000385550010003578101810720732   \n",
       "1         0  2023-09  32230927403527000385550010003602701198636133   \n",
       "2         0  2023-10  32231027403527000385550010003628761554909498   \n",
       "3         0  2023-10  32231027403527000385550010003630721997739887   \n",
       "4         1  2023-10  32231027403527000385550010003627351403916136   \n",
       "\n",
       "             criado_shopify tempo_total_despacho  transportadora_Braspress  \\\n",
       "0 2023-09-26 00:00:00+00:00                    0                         0   \n",
       "1 2023-09-30 00:00:00+00:00                    2                         0   \n",
       "2 2023-10-03 00:00:00+00:00                    1                         0   \n",
       "3 2023-10-04 00:00:00+00:00                    0                         0   \n",
       "4 2023-10-03 00:00:00+00:00                    1                         0   \n",
       "\n",
       "   transportadora_Correios  transportadora_Loggi  transportadora_Total  \n",
       "0                        0                     1                     0  \n",
       "1                        0                     1                     0  \n",
       "2                        0                     1                     0  \n",
       "3                        0                     1                     0  \n",
       "4                        0                     1                     0  \n",
       "\n",
       "[5 rows x 21 columns]"
      ]
     },
     "execution_count": 55,
     "metadata": {},
     "output_type": "execute_result"
    }
   ],
   "source": [
    "dummy_df = pd.get_dummies(variaveis_interesse['transportadora'], prefix='transportadora')\n",
    "variaveis_interesse = pd.concat([variaveis_interesse, dummy_df], axis=1)\n",
    "variaveis_interesse.head()"
   ]
  },
  {
   "cell_type": "code",
   "execution_count": 57,
   "metadata": {},
   "outputs": [
    {
     "name": "stdout",
     "output_type": "stream",
     "text": [
      "<class 'pandas.core.frame.DataFrame'>\n",
      "Int64Index: 70327 entries, 0 to 70326\n",
      "Data columns (total 21 columns):\n",
      " #   Column                           Non-Null Count  Dtype              \n",
      "---  ------                           --------------  -----              \n",
      " 0   uf                               70327 non-null  object             \n",
      " 1   transportadora                   70327 non-null  object             \n",
      " 2   data_criacao                     70327 non-null  datetime64[ns, UTC]\n",
      " 3   data_despacho                    70327 non-null  datetime64[ns, UTC]\n",
      " 4   previsao_entrega_cliente         70327 non-null  datetime64[ns, UTC]\n",
      " 5   data_entrega                     70327 non-null  datetime64[ns, UTC]\n",
      " 6   previsao_entrega_transp          70327 non-null  datetime64[ns, UTC]\n",
      " 7   status_transportador             70327 non-null  object             \n",
      " 8   prazo_transportadora_dias_uteis  70327 non-null  float64            \n",
      " 9   praca                            70327 non-null  int64              \n",
      " 10  chave_da_nota                    70327 non-null  object             \n",
      " 11  quantidade_de_ocorrencias        70327 non-null  float64            \n",
      " 12  situacao                         70327 non-null  int64              \n",
      " 13  mes                              70327 non-null  period[M]          \n",
      " 14  chave_acesso_NFe                 69322 non-null  object             \n",
      " 15  criado_shopify                   70327 non-null  datetime64[ns, UTC]\n",
      " 16  tempo_total_despacho             70327 non-null  int32              \n",
      " 17  transportadora_Braspress         70327 non-null  uint8              \n",
      " 18  transportadora_Correios          70327 non-null  uint8              \n",
      " 19  transportadora_Loggi             70327 non-null  uint8              \n",
      " 20  transportadora_Total             70327 non-null  uint8              \n",
      "dtypes: datetime64[ns, UTC](6), float64(2), int32(1), int64(2), object(5), period[M](1), uint8(4)\n",
      "memory usage: 9.7+ MB\n"
     ]
    }
   ],
   "source": [
    "variaveis_interesse.info()"
   ]
  },
  {
   "cell_type": "markdown",
   "metadata": {
    "colab": {
     "base_uri": "https://localhost:8080/"
    },
    "id": "WMnY8I2ogxXI",
    "outputId": "5ce2bae6-2e0f-4202-d953-4da98aa3d900"
   },
   "source": [
    "## Transform states in regions"
   ]
  },
  {
   "cell_type": "code",
   "execution_count": 213,
   "metadata": {},
   "outputs": [],
   "source": [
    "state_to_region = {\n",
    "    'AC': 'Norte',\n",
    "    'AL': 'Nordeste',\n",
    "    'AP': 'Norte',\n",
    "    'AM': 'Norte',\n",
    "    'BA': 'Nordeste',\n",
    "    'CE': 'Nordeste',\n",
    "    'DF': 'Centro-Oeste',\n",
    "    'ES': 'Sudeste',\n",
    "    'GO': 'Centro-Oeste',\n",
    "    'MA': 'Nordeste',\n",
    "    'MT': 'Centro-Oeste',\n",
    "    'MS': 'Centro-Oeste',\n",
    "    'MG': 'Sudeste',\n",
    "    'PA': 'Norte',\n",
    "    'PB': 'Nordeste',\n",
    "    'PR': 'Sul',\n",
    "    'PE': 'Nordeste',\n",
    "    'PI': 'Nordeste',\n",
    "    'RJ': 'Sudeste',\n",
    "    'RN': 'Nordeste',\n",
    "    'RS': 'Sul',\n",
    "    'RO': 'Norte',\n",
    "    'RR': 'Norte',\n",
    "    'SC': 'Sul',\n",
    "    'SP': 'Sudeste',\n",
    "    'SE': 'Nordeste',\n",
    "    'TO': 'Norte',\n",
    "}\n",
    "variaveis_interesse['region'] = variaveis_interesse['uf'].map(state_to_region)"
   ]
  },
  {
   "cell_type": "code",
   "execution_count": 16,
   "metadata": {},
   "outputs": [
    {
     "data": {
      "text/html": [
       "<div>\n",
       "<style scoped>\n",
       "    .dataframe tbody tr th:only-of-type {\n",
       "        vertical-align: middle;\n",
       "    }\n",
       "\n",
       "    .dataframe tbody tr th {\n",
       "        vertical-align: top;\n",
       "    }\n",
       "\n",
       "    .dataframe thead th {\n",
       "        text-align: right;\n",
       "    }\n",
       "</style>\n",
       "<table border=\"1\" class=\"dataframe\">\n",
       "  <thead>\n",
       "    <tr style=\"text-align: right;\">\n",
       "      <th></th>\n",
       "      <th>uf</th>\n",
       "      <th>transportadora</th>\n",
       "      <th>data_despacho</th>\n",
       "      <th>status_transportador</th>\n",
       "      <th>data_do_ultimo_status</th>\n",
       "      <th>data_entrega</th>\n",
       "      <th>atualizado_em</th>\n",
       "      <th>previsao_entrega_cliente</th>\n",
       "      <th>situacao</th>\n",
       "      <th>performance</th>\n",
       "      <th>previsao_entrega_transp</th>\n",
       "      <th>previsao_entrega_transp_original</th>\n",
       "      <th>situacao_transp</th>\n",
       "      <th>performance_transp</th>\n",
       "      <th>data_criacao</th>\n",
       "      <th>prazo_transportadora_dias_uteis</th>\n",
       "      <th>praca</th>\n",
       "      <th>chave_da_nota</th>\n",
       "      <th>quantidade_de_ocorrencias</th>\n",
       "      <th>tempo_dias_despacho</th>\n",
       "      <th>transportadora_Braspress</th>\n",
       "      <th>transportadora_Correios</th>\n",
       "      <th>transportadora_Loggi</th>\n",
       "      <th>transportadora_Total</th>\n",
       "      <th>region</th>\n",
       "      <th>regiao_Nordeste</th>\n",
       "      <th>regiao_Norte</th>\n",
       "      <th>regiao_Sudeste</th>\n",
       "      <th>regiao_Sul</th>\n",
       "    </tr>\n",
       "  </thead>\n",
       "  <tbody>\n",
       "    <tr>\n",
       "      <th>5235</th>\n",
       "      <td>MG</td>\n",
       "      <td>Total</td>\n",
       "      <td>2023-10-02</td>\n",
       "      <td>Entregue</td>\n",
       "      <td>2023-10-09</td>\n",
       "      <td>2023-10-09</td>\n",
       "      <td>2023-10-09</td>\n",
       "      <td>2023-10-17</td>\n",
       "      <td>No prazo</td>\n",
       "      <td>Entregue no prazo</td>\n",
       "      <td>2023-10-10</td>\n",
       "      <td>2023-10-10</td>\n",
       "      <td>No prazo</td>\n",
       "      <td>Entregue no prazo</td>\n",
       "      <td>2023-10-02</td>\n",
       "      <td>6.0</td>\n",
       "      <td>Interior</td>\n",
       "      <td>32231027403527000385550010003615231547080454</td>\n",
       "      <td>1.0</td>\n",
       "      <td>0</td>\n",
       "      <td>0</td>\n",
       "      <td>0</td>\n",
       "      <td>0</td>\n",
       "      <td>1</td>\n",
       "      <td>Sudeste</td>\n",
       "      <td>0</td>\n",
       "      <td>0</td>\n",
       "      <td>1</td>\n",
       "      <td>0</td>\n",
       "    </tr>\n",
       "    <tr>\n",
       "      <th>5236</th>\n",
       "      <td>SC</td>\n",
       "      <td>Loggi</td>\n",
       "      <td>2023-10-04</td>\n",
       "      <td>Entregue</td>\n",
       "      <td>2023-10-10</td>\n",
       "      <td>2023-10-10</td>\n",
       "      <td>2023-10-10</td>\n",
       "      <td>2023-10-17</td>\n",
       "      <td>No prazo</td>\n",
       "      <td>Entregue no prazo</td>\n",
       "      <td>2023-10-10</td>\n",
       "      <td>2023-10-10</td>\n",
       "      <td>No prazo</td>\n",
       "      <td>Entregue no prazo</td>\n",
       "      <td>2023-10-04</td>\n",
       "      <td>4.0</td>\n",
       "      <td>Interior</td>\n",
       "      <td>32231027403527000385550010003636441539962073</td>\n",
       "      <td>1.0</td>\n",
       "      <td>0</td>\n",
       "      <td>0</td>\n",
       "      <td>0</td>\n",
       "      <td>1</td>\n",
       "      <td>0</td>\n",
       "      <td>Sul</td>\n",
       "      <td>0</td>\n",
       "      <td>0</td>\n",
       "      <td>0</td>\n",
       "      <td>1</td>\n",
       "    </tr>\n",
       "    <tr>\n",
       "      <th>5237</th>\n",
       "      <td>SP</td>\n",
       "      <td>Loggi</td>\n",
       "      <td>2023-10-05</td>\n",
       "      <td>Entregue</td>\n",
       "      <td>2023-10-10</td>\n",
       "      <td>2023-10-10</td>\n",
       "      <td>2023-10-10</td>\n",
       "      <td>2023-10-17</td>\n",
       "      <td>No prazo</td>\n",
       "      <td>Entregue no prazo</td>\n",
       "      <td>2023-10-10</td>\n",
       "      <td>2023-10-10</td>\n",
       "      <td>No prazo</td>\n",
       "      <td>Entregue no prazo</td>\n",
       "      <td>2023-10-04</td>\n",
       "      <td>3.0</td>\n",
       "      <td>Capital</td>\n",
       "      <td>32231027403527000385550010003640741291237886</td>\n",
       "      <td>2.0</td>\n",
       "      <td>1</td>\n",
       "      <td>0</td>\n",
       "      <td>0</td>\n",
       "      <td>1</td>\n",
       "      <td>0</td>\n",
       "      <td>Sudeste</td>\n",
       "      <td>0</td>\n",
       "      <td>0</td>\n",
       "      <td>1</td>\n",
       "      <td>0</td>\n",
       "    </tr>\n",
       "    <tr>\n",
       "      <th>5238</th>\n",
       "      <td>PR</td>\n",
       "      <td>Loggi</td>\n",
       "      <td>2023-10-05</td>\n",
       "      <td>Entregue</td>\n",
       "      <td>2023-10-11</td>\n",
       "      <td>2023-10-11</td>\n",
       "      <td>2023-10-11</td>\n",
       "      <td>2023-10-17</td>\n",
       "      <td>No prazo</td>\n",
       "      <td>Entregue no prazo</td>\n",
       "      <td>2023-10-10</td>\n",
       "      <td>2023-10-10</td>\n",
       "      <td>Atrasado</td>\n",
       "      <td>Entregue fora do prazo</td>\n",
       "      <td>2023-10-04</td>\n",
       "      <td>3.0</td>\n",
       "      <td>Capital</td>\n",
       "      <td>32231027403527000385550010003641311786182782</td>\n",
       "      <td>2.0</td>\n",
       "      <td>1</td>\n",
       "      <td>0</td>\n",
       "      <td>0</td>\n",
       "      <td>1</td>\n",
       "      <td>0</td>\n",
       "      <td>Sul</td>\n",
       "      <td>0</td>\n",
       "      <td>0</td>\n",
       "      <td>0</td>\n",
       "      <td>1</td>\n",
       "    </tr>\n",
       "    <tr>\n",
       "      <th>5239</th>\n",
       "      <td>SC</td>\n",
       "      <td>Loggi</td>\n",
       "      <td>2023-10-05</td>\n",
       "      <td>Entregue</td>\n",
       "      <td>2023-10-13</td>\n",
       "      <td>2023-10-13</td>\n",
       "      <td>2023-10-13</td>\n",
       "      <td>2023-10-17</td>\n",
       "      <td>No prazo</td>\n",
       "      <td>Entregue no prazo</td>\n",
       "      <td>2023-10-10</td>\n",
       "      <td>2023-10-10</td>\n",
       "      <td>Atrasado</td>\n",
       "      <td>Entregue fora do prazo</td>\n",
       "      <td>2023-10-04</td>\n",
       "      <td>3.0</td>\n",
       "      <td>Capital</td>\n",
       "      <td>32231027403527000385550010003642241313504295</td>\n",
       "      <td>2.0</td>\n",
       "      <td>1</td>\n",
       "      <td>0</td>\n",
       "      <td>0</td>\n",
       "      <td>1</td>\n",
       "      <td>0</td>\n",
       "      <td>Sul</td>\n",
       "      <td>0</td>\n",
       "      <td>0</td>\n",
       "      <td>0</td>\n",
       "      <td>1</td>\n",
       "    </tr>\n",
       "  </tbody>\n",
       "</table>\n",
       "</div>"
      ],
      "text/plain": [
       "      uf transportadora data_despacho status_transportador  \\\n",
       "5235  MG          Total    2023-10-02             Entregue   \n",
       "5236  SC          Loggi    2023-10-04             Entregue   \n",
       "5237  SP          Loggi    2023-10-05             Entregue   \n",
       "5238  PR          Loggi    2023-10-05             Entregue   \n",
       "5239  SC          Loggi    2023-10-05             Entregue   \n",
       "\n",
       "     data_do_ultimo_status data_entrega atualizado_em  \\\n",
       "5235            2023-10-09   2023-10-09    2023-10-09   \n",
       "5236            2023-10-10   2023-10-10    2023-10-10   \n",
       "5237            2023-10-10   2023-10-10    2023-10-10   \n",
       "5238            2023-10-11   2023-10-11    2023-10-11   \n",
       "5239            2023-10-13   2023-10-13    2023-10-13   \n",
       "\n",
       "     previsao_entrega_cliente  situacao        performance  \\\n",
       "5235               2023-10-17  No prazo  Entregue no prazo   \n",
       "5236               2023-10-17  No prazo  Entregue no prazo   \n",
       "5237               2023-10-17  No prazo  Entregue no prazo   \n",
       "5238               2023-10-17  No prazo  Entregue no prazo   \n",
       "5239               2023-10-17  No prazo  Entregue no prazo   \n",
       "\n",
       "     previsao_entrega_transp previsao_entrega_transp_original situacao_transp  \\\n",
       "5235              2023-10-10                       2023-10-10        No prazo   \n",
       "5236              2023-10-10                       2023-10-10        No prazo   \n",
       "5237              2023-10-10                       2023-10-10        No prazo   \n",
       "5238              2023-10-10                       2023-10-10        Atrasado   \n",
       "5239              2023-10-10                       2023-10-10        Atrasado   \n",
       "\n",
       "          performance_transp data_criacao  prazo_transportadora_dias_uteis  \\\n",
       "5235       Entregue no prazo   2023-10-02                              6.0   \n",
       "5236       Entregue no prazo   2023-10-04                              4.0   \n",
       "5237       Entregue no prazo   2023-10-04                              3.0   \n",
       "5238  Entregue fora do prazo   2023-10-04                              3.0   \n",
       "5239  Entregue fora do prazo   2023-10-04                              3.0   \n",
       "\n",
       "         praca                                 chave_da_nota  \\\n",
       "5235  Interior  32231027403527000385550010003615231547080454   \n",
       "5236  Interior  32231027403527000385550010003636441539962073   \n",
       "5237   Capital  32231027403527000385550010003640741291237886   \n",
       "5238   Capital  32231027403527000385550010003641311786182782   \n",
       "5239   Capital  32231027403527000385550010003642241313504295   \n",
       "\n",
       "      quantidade_de_ocorrencias  tempo_dias_despacho  \\\n",
       "5235                        1.0                    0   \n",
       "5236                        1.0                    0   \n",
       "5237                        2.0                    1   \n",
       "5238                        2.0                    1   \n",
       "5239                        2.0                    1   \n",
       "\n",
       "      transportadora_Braspress  transportadora_Correios  transportadora_Loggi  \\\n",
       "5235                         0                        0                     0   \n",
       "5236                         0                        0                     1   \n",
       "5237                         0                        0                     1   \n",
       "5238                         0                        0                     1   \n",
       "5239                         0                        0                     1   \n",
       "\n",
       "      transportadora_Total   region  regiao_Nordeste  regiao_Norte  \\\n",
       "5235                     1  Sudeste                0             0   \n",
       "5236                     0      Sul                0             0   \n",
       "5237                     0  Sudeste                0             0   \n",
       "5238                     0      Sul                0             0   \n",
       "5239                     0      Sul                0             0   \n",
       "\n",
       "      regiao_Sudeste  regiao_Sul  \n",
       "5235               1           0  \n",
       "5236               0           1  \n",
       "5237               1           0  \n",
       "5238               0           1  \n",
       "5239               0           1  "
      ]
     },
     "execution_count": 16,
     "metadata": {},
     "output_type": "execute_result"
    }
   ],
   "source": [
    "dummy_df = pd.get_dummies(base_modelo['region'], prefix='regiao',drop_first=True)\n",
    "base_modelo = pd.concat([base_modelo, dummy_df], axis=1)\n",
    "base_modelo.head()"
   ]
  },
  {
   "cell_type": "markdown",
   "metadata": {},
   "source": [
    "## Tempo de faturamento"
   ]
  },
  {
   "cell_type": "code",
   "execution_count": 26,
   "metadata": {},
   "outputs": [],
   "source": [
    "notas = tuple(variaveis_interesse['chave_da_nota'])"
   ]
  },
  {
   "cell_type": "code",
   "execution_count": 27,
   "metadata": {},
   "outputs": [],
   "source": [
    "df_notas = get_date_order(notas)"
   ]
  },
  {
   "cell_type": "code",
   "execution_count": 29,
   "metadata": {},
   "outputs": [
    {
     "data": {
      "text/html": [
       "<div>\n",
       "<style scoped>\n",
       "    .dataframe tbody tr th:only-of-type {\n",
       "        vertical-align: middle;\n",
       "    }\n",
       "\n",
       "    .dataframe tbody tr th {\n",
       "        vertical-align: top;\n",
       "    }\n",
       "\n",
       "    .dataframe thead th {\n",
       "        text-align: right;\n",
       "    }\n",
       "</style>\n",
       "<table border=\"1\" class=\"dataframe\">\n",
       "  <thead>\n",
       "    <tr style=\"text-align: right;\">\n",
       "      <th></th>\n",
       "      <th>chave_acesso_NFe</th>\n",
       "      <th>criado_shopify</th>\n",
       "    </tr>\n",
       "  </thead>\n",
       "  <tbody>\n",
       "    <tr>\n",
       "      <th>0</th>\n",
       "      <td>32230627403527000385550010002895111923492112</td>\n",
       "      <td>2023-06-05</td>\n",
       "    </tr>\n",
       "    <tr>\n",
       "      <th>1</th>\n",
       "      <td>32230627403527000385550010002895251502594283</td>\n",
       "      <td>2023-06-05</td>\n",
       "    </tr>\n",
       "    <tr>\n",
       "      <th>2</th>\n",
       "      <td>32230627403527000385550010002895281999504143</td>\n",
       "      <td>2023-06-05</td>\n",
       "    </tr>\n",
       "    <tr>\n",
       "      <th>3</th>\n",
       "      <td>32230627403527000385550010002895321624548680</td>\n",
       "      <td>2023-06-05</td>\n",
       "    </tr>\n",
       "    <tr>\n",
       "      <th>4</th>\n",
       "      <td>32230627403527000385550010002895361048196820</td>\n",
       "      <td>2023-06-05</td>\n",
       "    </tr>\n",
       "  </tbody>\n",
       "</table>\n",
       "</div>"
      ],
      "text/plain": [
       "                               chave_acesso_NFe criado_shopify\n",
       "0  32230627403527000385550010002895111923492112     2023-06-05\n",
       "1  32230627403527000385550010002895251502594283     2023-06-05\n",
       "2  32230627403527000385550010002895281999504143     2023-06-05\n",
       "3  32230627403527000385550010002895321624548680     2023-06-05\n",
       "4  32230627403527000385550010002895361048196820     2023-06-05"
      ]
     },
     "execution_count": 29,
     "metadata": {},
     "output_type": "execute_result"
    }
   ],
   "source": [
    "df_notas.head()"
   ]
  },
  {
   "cell_type": "code",
   "execution_count": 32,
   "metadata": {},
   "outputs": [
    {
     "name": "stdout",
     "output_type": "stream",
     "text": [
      "<class 'pandas.core.frame.DataFrame'>\n",
      "RangeIndex: 69322 entries, 0 to 69321\n",
      "Data columns (total 2 columns):\n",
      " #   Column            Non-Null Count  Dtype         \n",
      "---  ------            --------------  -----         \n",
      " 0   chave_acesso_NFe  69322 non-null  object        \n",
      " 1   criado_shopify    69322 non-null  datetime64[ns]\n",
      "dtypes: datetime64[ns](1), object(1)\n",
      "memory usage: 1.1+ MB\n"
     ]
    }
   ],
   "source": [
    "df_notas.info()\n"
   ]
  },
  {
   "cell_type": "code",
   "execution_count": 38,
   "metadata": {},
   "outputs": [],
   "source": [
    "df_notas['criado_shopify'] = pd.to_datetime(df_notas['criado_shopify'])"
   ]
  },
  {
   "cell_type": "code",
   "execution_count": 33,
   "metadata": {},
   "outputs": [],
   "source": [
    "variaveis_interesse = variaveis_interesse.merge(\n",
    "    df_notas, \n",
    "    left_on = 'chave_da_nota', right_on = 'chave_acesso_NFe', \n",
    "    how = 'left'\n",
    ")"
   ]
  },
  {
   "cell_type": "code",
   "execution_count": 34,
   "metadata": {},
   "outputs": [
    {
     "name": "stdout",
     "output_type": "stream",
     "text": [
      "<class 'pandas.core.frame.DataFrame'>\n",
      "Int64Index: 70327 entries, 0 to 70326\n",
      "Data columns (total 16 columns):\n",
      " #   Column                           Non-Null Count  Dtype              \n",
      "---  ------                           --------------  -----              \n",
      " 0   uf                               70327 non-null  object             \n",
      " 1   transportadora                   70327 non-null  object             \n",
      " 2   data_criacao                     70327 non-null  datetime64[ns, UTC]\n",
      " 3   data_despacho                    70327 non-null  datetime64[ns, UTC]\n",
      " 4   previsao_entrega_cliente         70327 non-null  datetime64[ns, UTC]\n",
      " 5   data_entrega                     70327 non-null  datetime64[ns, UTC]\n",
      " 6   previsao_entrega_transp          70327 non-null  datetime64[ns, UTC]\n",
      " 7   status_transportador             70327 non-null  object             \n",
      " 8   prazo_transportadora_dias_uteis  70327 non-null  float64            \n",
      " 9   praca                            70327 non-null  object             \n",
      " 10  chave_da_nota                    70327 non-null  object             \n",
      " 11  quantidade_de_ocorrencias        70327 non-null  float64            \n",
      " 12  situacao                         70327 non-null  object             \n",
      " 13  mes                              70327 non-null  period[M]          \n",
      " 14  chave_acesso_NFe                 69322 non-null  object             \n",
      " 15  criado_shopify                   69322 non-null  datetime64[ns]     \n",
      "dtypes: datetime64[ns, UTC](5), datetime64[ns](1), float64(2), object(7), period[M](1)\n",
      "memory usage: 9.1+ MB\n"
     ]
    }
   ],
   "source": [
    "variaveis_interesse.info()"
   ]
  },
  {
   "cell_type": "code",
   "execution_count": 35,
   "metadata": {},
   "outputs": [
    {
     "data": {
      "text/plain": [
       "1005"
      ]
     },
     "execution_count": 35,
     "metadata": {},
     "output_type": "execute_result"
    }
   ],
   "source": [
    "variaveis_interesse['criado_shopify'].isnull().sum()"
   ]
  },
  {
   "cell_type": "code",
   "execution_count": 36,
   "metadata": {},
   "outputs": [],
   "source": [
    "variaveis_interesse['criado_shopify'] = variaveis_interesse['criado_shopify'].fillna(variaveis_interesse['data_criacao'])"
   ]
  },
  {
   "cell_type": "code",
   "execution_count": 44,
   "metadata": {},
   "outputs": [
    {
     "data": {
      "text/plain": [
       "0       2023-09-26 00:00:00+00:00\n",
       "1       2023-09-30 00:00:00+00:00\n",
       "2       2023-10-03 00:00:00+00:00\n",
       "3       2023-10-04 00:00:00+00:00\n",
       "4       2023-10-03 00:00:00+00:00\n",
       "                   ...           \n",
       "70322   2023-06-07 00:00:00+00:00\n",
       "70323   2023-06-07 00:00:00+00:00\n",
       "70324   2023-06-07 00:00:00+00:00\n",
       "70325   2023-06-07 00:00:00+00:00\n",
       "70326   2023-06-07 00:00:00+00:00\n",
       "Name: criado_shopify, Length: 70327, dtype: datetime64[ns, UTC]"
      ]
     },
     "execution_count": 44,
     "metadata": {},
     "output_type": "execute_result"
    }
   ],
   "source": [
    "variaveis_interesse['criado_shopify']"
   ]
  },
  {
   "cell_type": "markdown",
   "metadata": {},
   "source": [
    "# Tempo integração até despacho"
   ]
  },
  {
   "cell_type": "code",
   "execution_count": 43,
   "metadata": {},
   "outputs": [
    {
     "name": "stdout",
     "output_type": "stream",
     "text": [
      "<class 'pandas.core.frame.DataFrame'>\n",
      "Int64Index: 70327 entries, 0 to 70326\n",
      "Data columns (total 16 columns):\n",
      " #   Column                           Non-Null Count  Dtype              \n",
      "---  ------                           --------------  -----              \n",
      " 0   uf                               70327 non-null  object             \n",
      " 1   transportadora                   70327 non-null  object             \n",
      " 2   data_criacao                     70327 non-null  datetime64[ns, UTC]\n",
      " 3   data_despacho                    70327 non-null  datetime64[ns, UTC]\n",
      " 4   previsao_entrega_cliente         70327 non-null  datetime64[ns, UTC]\n",
      " 5   data_entrega                     70327 non-null  datetime64[ns, UTC]\n",
      " 6   previsao_entrega_transp          70327 non-null  datetime64[ns, UTC]\n",
      " 7   status_transportador             70327 non-null  object             \n",
      " 8   prazo_transportadora_dias_uteis  70327 non-null  float64            \n",
      " 9   praca                            70327 non-null  object             \n",
      " 10  chave_da_nota                    70327 non-null  object             \n",
      " 11  quantidade_de_ocorrencias        70327 non-null  float64            \n",
      " 12  situacao                         70327 non-null  object             \n",
      " 13  mes                              70327 non-null  period[M]          \n",
      " 14  chave_acesso_NFe                 69322 non-null  object             \n",
      " 15  criado_shopify                   70327 non-null  datetime64[ns, UTC]\n",
      "dtypes: datetime64[ns, UTC](6), float64(2), object(7), period[M](1)\n",
      "memory usage: 9.1+ MB\n"
     ]
    }
   ],
   "source": [
    "variaveis_interesse.info()"
   ]
  },
  {
   "cell_type": "code",
   "execution_count": 104,
   "metadata": {},
   "outputs": [
    {
     "data": {
      "text/html": [
       "<div>\n",
       "<style scoped>\n",
       "    .dataframe tbody tr th:only-of-type {\n",
       "        vertical-align: middle;\n",
       "    }\n",
       "\n",
       "    .dataframe tbody tr th {\n",
       "        vertical-align: top;\n",
       "    }\n",
       "\n",
       "    .dataframe thead th {\n",
       "        text-align: right;\n",
       "    }\n",
       "</style>\n",
       "<table border=\"1\" class=\"dataframe\">\n",
       "  <thead>\n",
       "    <tr style=\"text-align: right;\">\n",
       "      <th></th>\n",
       "      <th>uf</th>\n",
       "      <th>transportadora</th>\n",
       "      <th>data_criacao</th>\n",
       "      <th>data_despacho</th>\n",
       "      <th>previsao_entrega_cliente</th>\n",
       "      <th>data_entrega</th>\n",
       "      <th>previsao_entrega_transp</th>\n",
       "      <th>status_transportador</th>\n",
       "      <th>prazo_transportadora_dias_uteis</th>\n",
       "      <th>praca</th>\n",
       "      <th>...</th>\n",
       "      <th>quantidade_de_ocorrencias</th>\n",
       "      <th>situacao</th>\n",
       "      <th>mes</th>\n",
       "      <th>chave_acesso_NFe</th>\n",
       "      <th>criado_shopify</th>\n",
       "      <th>tempo_total_despacho</th>\n",
       "      <th>transportadora_Braspress</th>\n",
       "      <th>transportadora_Correios</th>\n",
       "      <th>transportadora_Loggi</th>\n",
       "      <th>transportadora_Total</th>\n",
       "    </tr>\n",
       "  </thead>\n",
       "  <tbody>\n",
       "    <tr>\n",
       "      <th>0</th>\n",
       "      <td>AP</td>\n",
       "      <td>Loggi</td>\n",
       "      <td>2023-09-26 11:56:40.905000+00:00</td>\n",
       "      <td>2023-09-26 17:48:27+00:00</td>\n",
       "      <td>2023-10-15 23:58:59+00:00</td>\n",
       "      <td>2023-10-13 13:15:59+00:00</td>\n",
       "      <td>2023-10-13 23:59:59+00:00</td>\n",
       "      <td>Entregue</td>\n",
       "      <td>12.0</td>\n",
       "      <td>1</td>\n",
       "      <td>...</td>\n",
       "      <td>0.0</td>\n",
       "      <td>0</td>\n",
       "      <td>2023-09</td>\n",
       "      <td>32230927403527000385550010003578101810720732</td>\n",
       "      <td>2023-09-26 00:00:00+00:00</td>\n",
       "      <td>0</td>\n",
       "      <td>0</td>\n",
       "      <td>0</td>\n",
       "      <td>1</td>\n",
       "      <td>0</td>\n",
       "    </tr>\n",
       "    <tr>\n",
       "      <th>1</th>\n",
       "      <td>RO</td>\n",
       "      <td>Loggi</td>\n",
       "      <td>2023-09-30 10:16:37.745000+00:00</td>\n",
       "      <td>2023-10-02 18:12:46+00:00</td>\n",
       "      <td>2023-10-30 23:58:59+00:00</td>\n",
       "      <td>2023-10-16 16:51:59+00:00</td>\n",
       "      <td>2023-10-30 23:59:59+00:00</td>\n",
       "      <td>Entregue</td>\n",
       "      <td>19.0</td>\n",
       "      <td>0</td>\n",
       "      <td>...</td>\n",
       "      <td>0.0</td>\n",
       "      <td>0</td>\n",
       "      <td>2023-09</td>\n",
       "      <td>32230927403527000385550010003602701198636133</td>\n",
       "      <td>2023-09-30 00:00:00+00:00</td>\n",
       "      <td>2</td>\n",
       "      <td>0</td>\n",
       "      <td>0</td>\n",
       "      <td>1</td>\n",
       "      <td>0</td>\n",
       "    </tr>\n",
       "    <tr>\n",
       "      <th>2</th>\n",
       "      <td>MT</td>\n",
       "      <td>Loggi</td>\n",
       "      <td>2023-10-03 20:00:23.621000+00:00</td>\n",
       "      <td>2023-10-04 17:34:16+00:00</td>\n",
       "      <td>2023-10-25 23:58:59+00:00</td>\n",
       "      <td>2023-10-14 15:36:59+00:00</td>\n",
       "      <td>2023-10-25 23:59:59+00:00</td>\n",
       "      <td>Entregue</td>\n",
       "      <td>14.0</td>\n",
       "      <td>0</td>\n",
       "      <td>...</td>\n",
       "      <td>0.0</td>\n",
       "      <td>0</td>\n",
       "      <td>2023-10</td>\n",
       "      <td>32231027403527000385550010003628761554909498</td>\n",
       "      <td>2023-10-03 00:00:00+00:00</td>\n",
       "      <td>1</td>\n",
       "      <td>0</td>\n",
       "      <td>0</td>\n",
       "      <td>1</td>\n",
       "      <td>0</td>\n",
       "    </tr>\n",
       "    <tr>\n",
       "      <th>3</th>\n",
       "      <td>RO</td>\n",
       "      <td>Loggi</td>\n",
       "      <td>2023-10-04 07:49:10.653000+00:00</td>\n",
       "      <td>2023-10-04 17:34:16+00:00</td>\n",
       "      <td>2023-10-25 23:58:59+00:00</td>\n",
       "      <td>2023-10-25 10:14:59+00:00</td>\n",
       "      <td>2023-10-24 23:59:59+00:00</td>\n",
       "      <td>Entregue</td>\n",
       "      <td>13.0</td>\n",
       "      <td>0</td>\n",
       "      <td>...</td>\n",
       "      <td>0.0</td>\n",
       "      <td>0</td>\n",
       "      <td>2023-10</td>\n",
       "      <td>32231027403527000385550010003630721997739887</td>\n",
       "      <td>2023-10-04 00:00:00+00:00</td>\n",
       "      <td>0</td>\n",
       "      <td>0</td>\n",
       "      <td>0</td>\n",
       "      <td>1</td>\n",
       "      <td>0</td>\n",
       "    </tr>\n",
       "    <tr>\n",
       "      <th>4</th>\n",
       "      <td>RO</td>\n",
       "      <td>Loggi</td>\n",
       "      <td>2023-10-03 17:35:22.034000+00:00</td>\n",
       "      <td>2023-10-04 17:34:16+00:00</td>\n",
       "      <td>2023-10-24 23:58:59+00:00</td>\n",
       "      <td>2023-10-25 10:37:59+00:00</td>\n",
       "      <td>2023-10-24 23:59:59+00:00</td>\n",
       "      <td>Entregue</td>\n",
       "      <td>13.0</td>\n",
       "      <td>0</td>\n",
       "      <td>...</td>\n",
       "      <td>0.0</td>\n",
       "      <td>1</td>\n",
       "      <td>2023-10</td>\n",
       "      <td>32231027403527000385550010003627351403916136</td>\n",
       "      <td>2023-10-03 00:00:00+00:00</td>\n",
       "      <td>1</td>\n",
       "      <td>0</td>\n",
       "      <td>0</td>\n",
       "      <td>1</td>\n",
       "      <td>0</td>\n",
       "    </tr>\n",
       "  </tbody>\n",
       "</table>\n",
       "<p>5 rows × 21 columns</p>\n",
       "</div>"
      ],
      "text/plain": [
       "   uf transportadora                     data_criacao  \\\n",
       "0  AP          Loggi 2023-09-26 11:56:40.905000+00:00   \n",
       "1  RO          Loggi 2023-09-30 10:16:37.745000+00:00   \n",
       "2  MT          Loggi 2023-10-03 20:00:23.621000+00:00   \n",
       "3  RO          Loggi 2023-10-04 07:49:10.653000+00:00   \n",
       "4  RO          Loggi 2023-10-03 17:35:22.034000+00:00   \n",
       "\n",
       "              data_despacho  previsao_entrega_cliente  \\\n",
       "0 2023-09-26 17:48:27+00:00 2023-10-15 23:58:59+00:00   \n",
       "1 2023-10-02 18:12:46+00:00 2023-10-30 23:58:59+00:00   \n",
       "2 2023-10-04 17:34:16+00:00 2023-10-25 23:58:59+00:00   \n",
       "3 2023-10-04 17:34:16+00:00 2023-10-25 23:58:59+00:00   \n",
       "4 2023-10-04 17:34:16+00:00 2023-10-24 23:58:59+00:00   \n",
       "\n",
       "               data_entrega   previsao_entrega_transp status_transportador  \\\n",
       "0 2023-10-13 13:15:59+00:00 2023-10-13 23:59:59+00:00             Entregue   \n",
       "1 2023-10-16 16:51:59+00:00 2023-10-30 23:59:59+00:00             Entregue   \n",
       "2 2023-10-14 15:36:59+00:00 2023-10-25 23:59:59+00:00             Entregue   \n",
       "3 2023-10-25 10:14:59+00:00 2023-10-24 23:59:59+00:00             Entregue   \n",
       "4 2023-10-25 10:37:59+00:00 2023-10-24 23:59:59+00:00             Entregue   \n",
       "\n",
       "   prazo_transportadora_dias_uteis  praca  ... quantidade_de_ocorrencias  \\\n",
       "0                             12.0      1  ...                       0.0   \n",
       "1                             19.0      0  ...                       0.0   \n",
       "2                             14.0      0  ...                       0.0   \n",
       "3                             13.0      0  ...                       0.0   \n",
       "4                             13.0      0  ...                       0.0   \n",
       "\n",
       "   situacao      mes                              chave_acesso_NFe  \\\n",
       "0         0  2023-09  32230927403527000385550010003578101810720732   \n",
       "1         0  2023-09  32230927403527000385550010003602701198636133   \n",
       "2         0  2023-10  32231027403527000385550010003628761554909498   \n",
       "3         0  2023-10  32231027403527000385550010003630721997739887   \n",
       "4         1  2023-10  32231027403527000385550010003627351403916136   \n",
       "\n",
       "             criado_shopify tempo_total_despacho  transportadora_Braspress  \\\n",
       "0 2023-09-26 00:00:00+00:00                    0                         0   \n",
       "1 2023-09-30 00:00:00+00:00                    2                         0   \n",
       "2 2023-10-03 00:00:00+00:00                    1                         0   \n",
       "3 2023-10-04 00:00:00+00:00                    0                         0   \n",
       "4 2023-10-03 00:00:00+00:00                    1                         0   \n",
       "\n",
       "   transportadora_Correios  transportadora_Loggi  transportadora_Total  \n",
       "0                        0                     1                     0  \n",
       "1                        0                     1                     0  \n",
       "2                        0                     1                     0  \n",
       "3                        0                     1                     0  \n",
       "4                        0                     1                     0  \n",
       "\n",
       "[5 rows x 21 columns]"
      ]
     },
     "execution_count": 104,
     "metadata": {},
     "output_type": "execute_result"
    }
   ],
   "source": [
    "variaveis_interesse.head()"
   ]
  },
  {
   "cell_type": "code",
   "execution_count": 42,
   "metadata": {},
   "outputs": [],
   "source": [
    "variaveis_interesse['criado_shopify'] = pd.to_datetime(variaveis_interesse['criado_shopify'],utc = True)"
   ]
  },
  {
   "cell_type": "code",
   "execution_count": 45,
   "metadata": {},
   "outputs": [],
   "source": [
    "variaveis_interesse['tempo_total_despacho'] = (variaveis_interesse['data_despacho'] - variaveis_interesse['criado_shopify']).dt.days.astype(int)"
   ]
  },
  {
   "cell_type": "code",
   "execution_count": 47,
   "metadata": {},
   "outputs": [
    {
     "data": {
      "text/plain": [
       "count    70327.000000\n",
       "mean         2.380778\n",
       "std          2.011309\n",
       "min          0.000000\n",
       "25%          1.000000\n",
       "50%          2.000000\n",
       "75%          4.000000\n",
       "max         38.000000\n",
       "Name: tempo_total_despacho, dtype: float64"
      ]
     },
     "execution_count": 47,
     "metadata": {},
     "output_type": "execute_result"
    }
   ],
   "source": [
    "variaveis_interesse['tempo_total_despacho'].describe()"
   ]
  },
  {
   "cell_type": "code",
   "execution_count": 49,
   "metadata": {},
   "outputs": [
    {
     "data": {
      "text/plain": [
       "<AxesSubplot:>"
      ]
     },
     "execution_count": 49,
     "metadata": {},
     "output_type": "execute_result"
    },
    {
     "data": {
      "image/png": "[encoded data removed]",
      "text/plain": [
       "<Figure size 432x288 with 1 Axes>"
      ]
     },
     "metadata": {
      "needs_background": "light"
     },
     "output_type": "display_data"
    }
   ],
   "source": [
    "variaveis_interesse['tempo_total_despacho'].value_counts().sort_index().plot(kind='bar')\n"
   ]
  },
  {
   "cell_type": "code",
   "execution_count": 62,
   "metadata": {},
   "outputs": [
    {
     "data": {
      "image/png": "[encoded data removed]",
      "text/plain": [
       "<Figure size 576x432 with 2 Axes>"
      ]
     },
     "metadata": {
      "needs_background": "light"
     },
     "output_type": "display_data"
    }
   ],
   "source": [
    "import seaborn as sns\n",
    "import matplotlib.pyplot as plt\n",
    "import pandas as pd\n",
    "\n",
    "# Sample data (replace this with your actual data)\n",
    "# Assuming df is your DataFrame with numerical columns\n",
    "\n",
    "# Calculate the correlation matrix\n",
    "correlation_matrix = variaveis_interesse.corr()\n",
    "\n",
    "# Create a heatmap\n",
    "plt.figure(figsize=(8, 6))\n",
    "sns.heatmap(correlation_matrix, annot=True, cmap='coolwarm', fmt=\".2f\", linewidths=.5)\n",
    "\n",
    "# Adding title\n",
    "plt.title('Variable Correlation Heatmap')\n",
    "\n",
    "# Display the chart\n",
    "plt.show()\n"
   ]
  },
  {
   "cell_type": "markdown",
   "metadata": {
    "id": "pxgmJ0Cef0J2"
   },
   "source": [
    "## Mudar as variáveis para binárias -> fora do prazo e praça"
   ]
  },
  {
   "cell_type": "code",
   "execution_count": 50,
   "metadata": {
    "id": "BIDO8KitfyUE"
   },
   "outputs": [],
   "source": [
    "mapeamento = {\n",
    "    \"No prazo\": 0, \"Atrasado\": 1,\n",
    "    \"Capital\":1, \"Interior\":0,}\n"
   ]
  },
  {
   "cell_type": "code",
   "execution_count": 53,
   "metadata": {
    "colab": {
     "base_uri": "https://localhost:8080/"
    },
    "id": "OBfgjtHUgYDP",
    "outputId": "a3fe2340-e344-4334-f294-ac32c418f9b9"
   },
   "outputs": [],
   "source": [
    "variaveis_interesse[['situacao','praca']] = variaveis_interesse[['situacao','praca']].replace(mapeamento)"
   ]
  },
  {
   "cell_type": "markdown",
   "metadata": {
    "id": "OgqGSTlWjbi7"
   },
   "source": [
    "### Definindo Variáveis X e Y"
   ]
  },
  {
   "cell_type": "code",
   "execution_count": 87,
   "metadata": {
    "id": "0QFTEeRQjbGx"
   },
   "outputs": [],
   "source": [
    "y = variaveis_interesse['situacao']\n",
    "X = variaveis_interesse[['prazo_transportadora_dias_uteis','praca','tempo_total_despacho','quantidade_de_ocorrencias',\n",
    "                 'transportadora_Braspress','transportadora_Correios','transportadora_Loggi','transportadora_Total']]"
   ]
  },
  {
   "cell_type": "code",
   "execution_count": 88,
   "metadata": {},
   "outputs": [
    {
     "data": {
      "text/plain": [
       "0    59988\n",
       "1    10339\n",
       "Name: situacao, dtype: int64"
      ]
     },
     "execution_count": 88,
     "metadata": {},
     "output_type": "execute_result"
    }
   ],
   "source": [
    "y.value_counts()"
   ]
  },
  {
   "cell_type": "code",
   "execution_count": 109,
   "metadata": {},
   "outputs": [
    {
     "ename": "KeyboardInterrupt",
     "evalue": "",
     "output_type": "error",
     "traceback": [
      "\u001b[1;31m---------------------------------------------------------------------------\u001b[0m",
      "\u001b[1;31mKeyboardInterrupt\u001b[0m                         Traceback (most recent call last)",
      "Input \u001b[1;32mIn [109]\u001b[0m, in \u001b[0;36m<cell line: 31>\u001b[1;34m()\u001b[0m\n\u001b[0;32m     28\u001b[0m data \u001b[38;5;241m=\u001b[39m pd\u001b[38;5;241m.\u001b[39mconcat([X, y], axis\u001b[38;5;241m=\u001b[39m\u001b[38;5;241m1\u001b[39m)\n\u001b[0;32m     30\u001b[0m \u001b[38;5;66;03m# Perform forward stepwise selection\u001b[39;00m\n\u001b[1;32m---> 31\u001b[0m result \u001b[38;5;241m=\u001b[39m \u001b[43mforward_selected\u001b[49m\u001b[43m(\u001b[49m\u001b[43mdata\u001b[49m\u001b[43m,\u001b[49m\u001b[43m \u001b[49m\u001b[38;5;124;43m'\u001b[39;49m\u001b[38;5;124;43msituacao\u001b[39;49m\u001b[38;5;124;43m'\u001b[39;49m\u001b[43m)\u001b[49m\n\u001b[0;32m     33\u001b[0m \u001b[38;5;66;03m# Display the selected features and summary\u001b[39;00m\n\u001b[0;32m     34\u001b[0m \u001b[38;5;28mprint\u001b[39m(result\u001b[38;5;241m.\u001b[39mmodel\u001b[38;5;241m.\u001b[39mformula)\n",
      "Input \u001b[1;32mIn [109]\u001b[0m, in \u001b[0;36mforward_selected\u001b[1;34m(data, response)\u001b[0m\n\u001b[0;32m     11\u001b[0m formula \u001b[38;5;241m=\u001b[39m \u001b[38;5;124m\"\u001b[39m\u001b[38;5;132;01m{}\u001b[39;00m\u001b[38;5;124m ~ \u001b[39m\u001b[38;5;132;01m{}\u001b[39;00m\u001b[38;5;124m\"\u001b[39m\u001b[38;5;241m.\u001b[39mformat(response, \u001b[38;5;124m'\u001b[39m\u001b[38;5;124m + \u001b[39m\u001b[38;5;124m'\u001b[39m\u001b[38;5;241m.\u001b[39mjoin(selected \u001b[38;5;241m+\u001b[39m [candidate]))\n\u001b[0;32m     12\u001b[0m model \u001b[38;5;241m=\u001b[39m sm\u001b[38;5;241m.\u001b[39mOLS\u001b[38;5;241m.\u001b[39mfrom_formula(formula, data)\n\u001b[1;32m---> 13\u001b[0m result \u001b[38;5;241m=\u001b[39m \u001b[43mmodel\u001b[49m\u001b[38;5;241;43m.\u001b[39;49m\u001b[43mfit\u001b[49m\u001b[43m(\u001b[49m\u001b[43m)\u001b[49m\n\u001b[0;32m     14\u001b[0m score \u001b[38;5;241m=\u001b[39m result\u001b[38;5;241m.\u001b[39mrsquared_adj\n\u001b[0;32m     15\u001b[0m scores_with_candidates\u001b[38;5;241m.\u001b[39mappend((score, candidate))\n",
      "File \u001b[1;32m~\\anaconda3\\lib\\site-packages\\statsmodels\\regression\\linear_model.py:307\u001b[0m, in \u001b[0;36mRegressionModel.fit\u001b[1;34m(self, method, cov_type, cov_kwds, use_t, **kwargs)\u001b[0m\n\u001b[0;32m    302\u001b[0m \u001b[38;5;28;01mif\u001b[39;00m \u001b[38;5;129;01mnot\u001b[39;00m (\u001b[38;5;28mhasattr\u001b[39m(\u001b[38;5;28mself\u001b[39m, \u001b[38;5;124m'\u001b[39m\u001b[38;5;124mpinv_wexog\u001b[39m\u001b[38;5;124m'\u001b[39m) \u001b[38;5;129;01mand\u001b[39;00m\n\u001b[0;32m    303\u001b[0m         \u001b[38;5;28mhasattr\u001b[39m(\u001b[38;5;28mself\u001b[39m, \u001b[38;5;124m'\u001b[39m\u001b[38;5;124mnormalized_cov_params\u001b[39m\u001b[38;5;124m'\u001b[39m) \u001b[38;5;129;01mand\u001b[39;00m\n\u001b[0;32m    304\u001b[0m         \u001b[38;5;28mhasattr\u001b[39m(\u001b[38;5;28mself\u001b[39m, \u001b[38;5;124m'\u001b[39m\u001b[38;5;124mrank\u001b[39m\u001b[38;5;124m'\u001b[39m)):\n\u001b[0;32m    306\u001b[0m     \u001b[38;5;28mself\u001b[39m\u001b[38;5;241m.\u001b[39mpinv_wexog, singular_values \u001b[38;5;241m=\u001b[39m pinv_extended(\u001b[38;5;28mself\u001b[39m\u001b[38;5;241m.\u001b[39mwexog)\n\u001b[1;32m--> 307\u001b[0m     \u001b[38;5;28mself\u001b[39m\u001b[38;5;241m.\u001b[39mnormalized_cov_params \u001b[38;5;241m=\u001b[39m \u001b[43mnp\u001b[49m\u001b[38;5;241;43m.\u001b[39;49m\u001b[43mdot\u001b[49m\u001b[43m(\u001b[49m\n\u001b[0;32m    308\u001b[0m \u001b[43m        \u001b[49m\u001b[38;5;28;43mself\u001b[39;49m\u001b[38;5;241;43m.\u001b[39;49m\u001b[43mpinv_wexog\u001b[49m\u001b[43m,\u001b[49m\u001b[43m \u001b[49m\u001b[43mnp\u001b[49m\u001b[38;5;241;43m.\u001b[39;49m\u001b[43mtranspose\u001b[49m\u001b[43m(\u001b[49m\u001b[38;5;28;43mself\u001b[39;49m\u001b[38;5;241;43m.\u001b[39;49m\u001b[43mpinv_wexog\u001b[49m\u001b[43m)\u001b[49m\u001b[43m)\u001b[49m\n\u001b[0;32m    310\u001b[0m     \u001b[38;5;66;03m# Cache these singular values for use later.\u001b[39;00m\n\u001b[0;32m    311\u001b[0m     \u001b[38;5;28mself\u001b[39m\u001b[38;5;241m.\u001b[39mwexog_singular_values \u001b[38;5;241m=\u001b[39m singular_values\n",
      "File \u001b[1;32m<__array_function__ internals>:5\u001b[0m, in \u001b[0;36mdot\u001b[1;34m(*args, **kwargs)\u001b[0m\n",
      "\u001b[1;31mKeyboardInterrupt\u001b[0m: "
     ]
    }
   ],
   "source": [
    "import statsmodels.api as sm\n",
    "\n",
    "# Function for stepwise forward selection\n",
    "def forward_selected(data, response):\n",
    "    remaining = set(data.columns)\n",
    "    selected = []\n",
    "    current_score, best_new_score = float('inf'), float('inf')\n",
    "    while remaining and current_score == best_new_score:\n",
    "        scores_with_candidates = []\n",
    "        for candidate in remaining:\n",
    "            formula = \"{} ~ {}\".format(response, ' + '.join(selected + [candidate]))\n",
    "            model = sm.OLS.from_formula(formula, data)\n",
    "            result = model.fit()\n",
    "            score = result.rsquared_adj\n",
    "            scores_with_candidates.append((score, candidate))\n",
    "        scores_with_candidates.sort()\n",
    "        best_new_score, best_candidate = scores_with_candidates.pop()\n",
    "        if current_score > best_new_score:\n",
    "            remaining.remove(best_candidate)\n",
    "            selected.append(best_candidate)\n",
    "            current_score = best_new_score\n",
    "    formula = \"{} ~ {}\".format(response, ' + '.join(selected))\n",
    "    model = sm.OLS.from_formula(formula, data)\n",
    "    result = model.fit()\n",
    "    return result\n",
    "\n",
    "# Combine X and y into a single DataFrame\n",
    "data = pd.concat([X, y], axis=1)\n",
    "\n",
    "# Perform forward stepwise selection\n",
    "result = forward_selected(data, 'situacao')\n",
    "\n",
    "# Display the selected features and summary\n",
    "print(result.model.formula)\n",
    "print(result.summary())"
   ]
  },
  {
   "cell_type": "markdown",
   "metadata": {
    "id": "SkGpp4zfjG7J"
   },
   "source": [
    "### Separando em base e treino"
   ]
  },
  {
   "cell_type": "code",
   "execution_count": 101,
   "metadata": {
    "id": "cf03LsPLjJmx"
   },
   "outputs": [],
   "source": [
    "#Regressão Logística\n",
    "\n",
    "from sklearn.model_selection import train_test_split\n",
    "from sklearn.linear_model import LogisticRegression\n",
    "from sklearn import metrics\n",
    "\n",
    "X_train, X_test, y_train, y_test = train_test_split(X,y,test_size=0.25,random_state=0)\n",
    "\n",
    "logistic_regression = LogisticRegression(class_weight='balanced')\n",
    "logistic_regression.fit(X_train,y_train)\n",
    "ypred = logistic_regression.predict(X_test)"
   ]
  },
  {
   "cell_type": "code",
   "execution_count": 102,
   "metadata": {
    "id": "nh_Z6CbPlF4B",
    "scrolled": false
   },
   "outputs": [
    {
     "name": "stdout",
     "output_type": "stream",
     "text": [
      "variaveis independentes: Index(['prazo_transportadora_dias_uteis', 'praca', 'tempo_total_despacho',\n",
      "       'quantidade_de_ocorrencias', 'transportadora_Braspress',\n",
      "       'transportadora_Correios', 'transportadora_Loggi',\n",
      "       'transportadora_Total'],\n",
      "      dtype='object')\n",
      "\n",
      "Acurácia: 0.6656239335684222\n",
      "\n",
      "Log loss: 11.549163942955094\n",
      "\n",
      "Curva Roc: 0.6520955387037475\n",
      "\n",
      "Classification Report\n",
      "              precision    recall  f1-score   support\n",
      "\n",
      "           0       0.91      0.67      0.77     14970\n",
      "           1       0.25      0.63      0.36      2612\n",
      "\n",
      "    accuracy                           0.67     17582\n",
      "   macro avg       0.58      0.65      0.57     17582\n",
      "weighted avg       0.81      0.67      0.71     17582\n",
      "\n",
      "matriz de confusão:\n",
      "[[10050  4920]\n",
      " [  959  1653]]\n"
     ]
    }
   ],
   "source": [
    "acuracia = metrics.accuracy_score(y_test,ypred)\n",
    "log_loss = metrics.log_loss(y_test,ypred)\n",
    "roc_auc = metrics.roc_auc_score(y_test,ypred)\n",
    "classification = metrics.classification_report(y_test, ypred)\n",
    "cm = metrics.confusion_matrix(y_test, ypred)\n",
    "\n",
    "\n",
    "print(f\"variaveis independentes: {X.columns}\\n\")\n",
    "print(f\"Acurácia: {acuracia}\\n\")\n",
    "print(f\"Log loss: {log_loss}\\n\")\n",
    "print(f\"Curva Roc: {roc_auc}\\n\")\n",
    "print(f\"Classification Report\")\n",
    "print(classification)\n",
    "print(f\"matriz de confusão:\")\n",
    "print(cm)\n"
   ]
  },
  {
   "cell_type": "markdown",
   "metadata": {},
   "source": [
    "### Ploting  Confusion Matrix"
   ]
  },
  {
   "cell_type": "code",
   "execution_count": 58,
   "metadata": {},
   "outputs": [
    {
     "data": {
      "image/png": "[encoded data removed]",
      "text/plain": [
       "<Figure size 432x432 with 1 Axes>"
      ]
     },
     "metadata": {
      "needs_background": "light"
     },
     "output_type": "display_data"
    }
   ],
   "source": [
    "import matplotlib.pyplot as plt\n",
    "import seaborn as sns\n",
    "\n",
    "\n",
    "plt.figure(figsize=(6, 6))\n",
    "sns.heatmap(cm, annot=True, fmt=\"d\", cmap=\"Blues\", cbar=False,\n",
    "            annot_kws={\"size\": 14}, xticklabels=[\"Não Atrasado\", \"Atrasado\"],\n",
    "            yticklabels=[\"Não Atrasado\", \"Atrasado\"])\n",
    "plt.xlabel('Predito')\n",
    "plt.ylabel('Verdadeiro')\n",
    "plt.title('Matriz de Confusão')\n",
    "plt.show()"
   ]
  },
  {
   "cell_type": "markdown",
   "metadata": {},
   "source": [
    "### Backlog"
   ]
  },
  {
   "cell_type": "code",
   "execution_count": 99,
   "metadata": {},
   "outputs": [],
   "source": [
    "#Random Forest\n",
    "\n",
    "from sklearn.ensemble import RandomForestClassifier\n",
    "\n",
    "# Example with class_weight parameter\n",
    "model = RandomForestClassifier(class_weight='balanced')\n",
    "model.fit(X_train,y_train)\n",
    "ypred = model.predict(X_test)"
   ]
  },
  {
   "cell_type": "markdown",
   "metadata": {},
   "source": [
    "# ANOTAÇÕES"
   ]
  },
  {
   "cell_type": "code",
   "execution_count": 317,
   "metadata": {},
   "outputs": [],
   "source": [
    "## Calcular manualmente a performance"
   ]
  }
 ],
 "metadata": {
  "colab": {
   "provenance": []
  },
  "kernelspec": {
   "display_name": "Python 3 (ipykernel)",
   "language": "python",
   "name": "python3"
  },
  "language_info": {
   "codemirror_mode": {
    "name": "ipython",
    "version": 3
   },
   "file_extension": ".py",
   "mimetype": "text/x-python",
   "name": "python",
   "nbconvert_exporter": "python",
   "pygments_lexer": "ipython3",
   "version": "3.9.12"
  }
 },
 "nbformat": 4,
 "nbformat_minor": 1
}
