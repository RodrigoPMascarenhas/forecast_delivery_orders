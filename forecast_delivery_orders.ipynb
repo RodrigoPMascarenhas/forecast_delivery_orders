{
 "cells": [
  {
   "cell_type": "code",
   "execution_count": 50,
   "metadata": {
    "id": "a2HzS7hWVGGo"
   },
   "outputs": [],
   "source": [
    "import pandas as pd\n",
    "from google.cloud import bigquery\n",
    "from google.oauth2 import service_account\n",
    "import numpy as np\n",
    "import json\n"
   ]
  },
  {
   "cell_type": "code",
   "execution_count": 51,
   "metadata": {},
   "outputs": [],
   "source": [
    "class BigQuery():\n",
    "    def __init__(self):\n",
    "        self.credentials =json.load(open(\"credentials.json\"))\n",
    "        self.client = bigquery.Client(\n",
    "            credentials=service_account.Credentials.from_service_account_info(self.credentials))\n",
    "\n",
    "    def query(self, project, chave_nota = None):\n",
    "\n",
    "        if project == \"Intelipost\":\n",
    "            query = f\"\"\"\n",
    "                    SELECT \n",
    "                   uf, transportadora, data_criacao, data_despacho,previsao_entrega_cliente,data_entrega,\n",
    "                   previsao_entrega_transp,status_transportador,prazo_transportadora_dias_uteis,praca,\n",
    "                   chave_da_nota,quantidade_de_ocorrencias\n",
    "                    FROM `caffeine-web-server.Intelipost.pedido_entrega`\n",
    "                    WHERE data_criacao > \"2023-06-01\"AND \n",
    "                    canal_de_vendas = \"Ecommerce\" AND\n",
    "                    data_entrega IS NOT NULL AND\n",
    "                    data_despacho IS NOT NULL\n",
    "                    \"\"\"\n",
    "        elif project == 'ecommerce':\n",
    "            query = f\"\"\"\n",
    "                    WITH chaves AS(\n",
    "                    SELECT numero_pedido_cliente, chave_acesso_NFe\n",
    "                    FROM `caffeine-web-server.Omie_Caffeine_ES.Pedidos` \n",
    "                    WHERE chave_acesso_NFe IN {chave_nota}\n",
    "                    )\n",
    "\n",
    "                    SELECT chaves.chave_acesso_NFe, DATE(LEFT(shopify.criado_em,10)) as criado_shopify, \n",
    "                    FROM `caffeine-web-server.Shopify_BR.Pedidos` as shopify\n",
    "                    INNER JOIN chaves ON shopify.id_pedido = chaves.numero_pedido_cliente\n",
    "                    WHERE shopify.status_financeiro = \"paid\"\n",
    "                    \"\"\"\n",
    "\n",
    "        result = self.bq_result(query)\n",
    "        return result\n",
    "\n",
    "    def bq_result(self, query_text):\n",
    "\n",
    "        query_job = self.client.query(query_text)\n",
    "        results = query_job.result()\n",
    "        dataframe = pd.DataFrame([dict(row) for row in results])\n",
    "        return dataframe\n",
    "    \n"
   ]
  },
  {
   "cell_type": "code",
   "execution_count": 52,
   "metadata": {},
   "outputs": [],
   "source": [
    "def get_date_order(chaves_de_nota):\n",
    "    df_notas = pd.DataFrame()\n",
    "    \n",
    "    chunk_size = 15000\n",
    "    num_chunks = len(chaves_de_nota) // chunk_size + (len(chaves_de_nota) % chunk_size > 0)\n",
    "\n",
    "    # Loop to divide the tuple into chunks\n",
    "    for i in range(num_chunks):\n",
    "        start_index = i * chunk_size\n",
    "        end_index = (i + 1) * chunk_size\n",
    "        current_chunk = chaves_de_nota[start_index:end_index]\n",
    "\n",
    "        df_temp = BigQuery().query(\"ecommerce\",current_chunk)\n",
    "        df_notas = pd.concat([df_temp,df_notas], axis=0, ignore_index = True)\n",
    "    return df_notas\n"
   ]
  },
  {
   "cell_type": "code",
   "execution_count": 53,
   "metadata": {},
   "outputs": [],
   "source": [
    "intelipost_data = BigQuery().query(\"Intelipost\")"
   ]
  },
  {
   "cell_type": "code",
   "execution_count": 54,
   "metadata": {},
   "outputs": [
    {
     "data": {
      "text/html": [
       "<div>\n",
       "<style scoped>\n",
       "    .dataframe tbody tr th:only-of-type {\n",
       "        vertical-align: middle;\n",
       "    }\n",
       "\n",
       "    .dataframe tbody tr th {\n",
       "        vertical-align: top;\n",
       "    }\n",
       "\n",
       "    .dataframe thead th {\n",
       "        text-align: right;\n",
       "    }\n",
       "</style>\n",
       "<table border=\"1\" class=\"dataframe\">\n",
       "  <thead>\n",
       "    <tr style=\"text-align: right;\">\n",
       "      <th></th>\n",
       "      <th>uf</th>\n",
       "      <th>transportadora</th>\n",
       "      <th>data_criacao</th>\n",
       "      <th>data_despacho</th>\n",
       "      <th>previsao_entrega_cliente</th>\n",
       "      <th>data_entrega</th>\n",
       "      <th>previsao_entrega_transp</th>\n",
       "      <th>status_transportador</th>\n",
       "      <th>prazo_transportadora_dias_uteis</th>\n",
       "      <th>praca</th>\n",
       "      <th>chave_da_nota</th>\n",
       "      <th>quantidade_de_ocorrencias</th>\n",
       "    </tr>\n",
       "  </thead>\n",
       "  <tbody>\n",
       "    <tr>\n",
       "      <th>0</th>\n",
       "      <td>MS</td>\n",
       "      <td>Total</td>\n",
       "      <td>2023-10-15 08:28:05.999000+00:00</td>\n",
       "      <td>2023-10-17 18:19:46+00:00</td>\n",
       "      <td>2023-11-01 23:58:59+00:00</td>\n",
       "      <td>2023-10-24 14:43:59+00:00</td>\n",
       "      <td>2023-10-30 23:59:59+00:00</td>\n",
       "      <td>Entregue</td>\n",
       "      <td>9.0</td>\n",
       "      <td>Capital</td>\n",
       "      <td>32231027403527000385550010003694421223920208</td>\n",
       "      <td>1.0</td>\n",
       "    </tr>\n",
       "    <tr>\n",
       "      <th>1</th>\n",
       "      <td>MT</td>\n",
       "      <td>Total</td>\n",
       "      <td>2023-10-16 18:04:51.632000+00:00</td>\n",
       "      <td>2023-10-17 18:19:46+00:00</td>\n",
       "      <td>2023-11-01 23:58:59+00:00</td>\n",
       "      <td>2023-10-27 11:54:59+00:00</td>\n",
       "      <td>2023-10-30 23:59:59+00:00</td>\n",
       "      <td>Entregue</td>\n",
       "      <td>9.0</td>\n",
       "      <td>Interior</td>\n",
       "      <td>32231027403527000385550010003704651604294733</td>\n",
       "      <td>1.0</td>\n",
       "    </tr>\n",
       "    <tr>\n",
       "      <th>2</th>\n",
       "      <td>SC</td>\n",
       "      <td>Loggi</td>\n",
       "      <td>2023-10-18 10:20:17.853000+00:00</td>\n",
       "      <td>2023-10-18 17:42:27+00:00</td>\n",
       "      <td>2023-11-01 23:58:59+00:00</td>\n",
       "      <td>2023-10-27 14:40:59+00:00</td>\n",
       "      <td>2023-10-26 23:59:59+00:00</td>\n",
       "      <td>Entregue</td>\n",
       "      <td>6.0</td>\n",
       "      <td>Interior</td>\n",
       "      <td>32231027403527000385550010003713691968754968</td>\n",
       "      <td>1.0</td>\n",
       "    </tr>\n",
       "    <tr>\n",
       "      <th>3</th>\n",
       "      <td>SP</td>\n",
       "      <td>Loggi</td>\n",
       "      <td>2023-10-18 08:07:42.429000+00:00</td>\n",
       "      <td>2023-10-18 17:42:27+00:00</td>\n",
       "      <td>2023-11-01 23:58:59+00:00</td>\n",
       "      <td>2023-10-25 18:23:59+00:00</td>\n",
       "      <td>2023-10-26 23:59:59+00:00</td>\n",
       "      <td>Entregue</td>\n",
       "      <td>6.0</td>\n",
       "      <td>Interior</td>\n",
       "      <td>32231027403527000385550010003711891757010537</td>\n",
       "      <td>1.0</td>\n",
       "    </tr>\n",
       "    <tr>\n",
       "      <th>4</th>\n",
       "      <td>SP</td>\n",
       "      <td>Loggi</td>\n",
       "      <td>2023-10-18 17:25:29.989000+00:00</td>\n",
       "      <td>2023-10-19 17:58:44+00:00</td>\n",
       "      <td>2023-10-24 23:58:59+00:00</td>\n",
       "      <td>2023-10-23 10:48:59+00:00</td>\n",
       "      <td>2023-10-24 23:59:59+00:00</td>\n",
       "      <td>Entregue</td>\n",
       "      <td>3.0</td>\n",
       "      <td>Capital</td>\n",
       "      <td>32231027403527000385550010003715971896074902</td>\n",
       "      <td>0.0</td>\n",
       "    </tr>\n",
       "  </tbody>\n",
       "</table>\n",
       "</div>"
      ],
      "text/plain": [
       "   uf transportadora                     data_criacao  \\\n",
       "0  MS          Total 2023-10-15 08:28:05.999000+00:00   \n",
       "1  MT          Total 2023-10-16 18:04:51.632000+00:00   \n",
       "2  SC          Loggi 2023-10-18 10:20:17.853000+00:00   \n",
       "3  SP          Loggi 2023-10-18 08:07:42.429000+00:00   \n",
       "4  SP          Loggi 2023-10-18 17:25:29.989000+00:00   \n",
       "\n",
       "              data_despacho  previsao_entrega_cliente  \\\n",
       "0 2023-10-17 18:19:46+00:00 2023-11-01 23:58:59+00:00   \n",
       "1 2023-10-17 18:19:46+00:00 2023-11-01 23:58:59+00:00   \n",
       "2 2023-10-18 17:42:27+00:00 2023-11-01 23:58:59+00:00   \n",
       "3 2023-10-18 17:42:27+00:00 2023-11-01 23:58:59+00:00   \n",
       "4 2023-10-19 17:58:44+00:00 2023-10-24 23:58:59+00:00   \n",
       "\n",
       "               data_entrega   previsao_entrega_transp status_transportador  \\\n",
       "0 2023-10-24 14:43:59+00:00 2023-10-30 23:59:59+00:00             Entregue   \n",
       "1 2023-10-27 11:54:59+00:00 2023-10-30 23:59:59+00:00             Entregue   \n",
       "2 2023-10-27 14:40:59+00:00 2023-10-26 23:59:59+00:00             Entregue   \n",
       "3 2023-10-25 18:23:59+00:00 2023-10-26 23:59:59+00:00             Entregue   \n",
       "4 2023-10-23 10:48:59+00:00 2023-10-24 23:59:59+00:00             Entregue   \n",
       "\n",
       "   prazo_transportadora_dias_uteis     praca  \\\n",
       "0                              9.0   Capital   \n",
       "1                              9.0  Interior   \n",
       "2                              6.0  Interior   \n",
       "3                              6.0  Interior   \n",
       "4                              3.0   Capital   \n",
       "\n",
       "                                  chave_da_nota  quantidade_de_ocorrencias  \n",
       "0  32231027403527000385550010003694421223920208                        1.0  \n",
       "1  32231027403527000385550010003704651604294733                        1.0  \n",
       "2  32231027403527000385550010003713691968754968                        1.0  \n",
       "3  32231027403527000385550010003711891757010537                        1.0  \n",
       "4  32231027403527000385550010003715971896074902                        0.0  "
      ]
     },
     "execution_count": 54,
     "metadata": {},
     "output_type": "execute_result"
    }
   ],
   "source": [
    "pd.set_option('display.max_columns', 500)\n",
    "intelipost_data.head()"
   ]
  },
  {
   "cell_type": "markdown",
   "metadata": {},
   "source": [
    "### Visualizing all columns and defining the importants"
   ]
  },
  {
   "cell_type": "code",
   "execution_count": 56,
   "metadata": {},
   "outputs": [],
   "source": [
    "variaveis_interesse = intelipost_data"
   ]
  },
  {
   "cell_type": "code",
   "execution_count": 57,
   "metadata": {},
   "outputs": [
    {
     "name": "stdout",
     "output_type": "stream",
     "text": [
      "<class 'pandas.core.frame.DataFrame'>\n",
      "RangeIndex: 71290 entries, 0 to 71289\n",
      "Data columns (total 12 columns):\n",
      " #   Column                           Non-Null Count  Dtype              \n",
      "---  ------                           --------------  -----              \n",
      " 0   uf                               71290 non-null  object             \n",
      " 1   transportadora                   71290 non-null  object             \n",
      " 2   data_criacao                     71290 non-null  datetime64[ns, UTC]\n",
      " 3   data_despacho                    71290 non-null  datetime64[ns, UTC]\n",
      " 4   previsao_entrega_cliente         71132 non-null  datetime64[ns, UTC]\n",
      " 5   data_entrega                     71290 non-null  datetime64[ns, UTC]\n",
      " 6   previsao_entrega_transp          71290 non-null  datetime64[ns, UTC]\n",
      " 7   status_transportador             71290 non-null  object             \n",
      " 8   prazo_transportadora_dias_uteis  71290 non-null  float64            \n",
      " 9   praca                            71290 non-null  object             \n",
      " 10  chave_da_nota                    71290 non-null  object             \n",
      " 11  quantidade_de_ocorrencias        71290 non-null  float64            \n",
      "dtypes: datetime64[ns, UTC](5), float64(2), object(5)\n",
      "memory usage: 6.5+ MB\n"
     ]
    }
   ],
   "source": [
    "variaveis_interesse.info()"
   ]
  },
  {
   "cell_type": "code",
   "execution_count": 58,
   "metadata": {},
   "outputs": [],
   "source": [
    "variaveis_interesse['previsao_entrega_cliente'] = variaveis_interesse['previsao_entrega_cliente'].fillna(variaveis_interesse['previsao_entrega_transp'])"
   ]
  },
  {
   "cell_type": "code",
   "execution_count": 350,
   "metadata": {},
   "outputs": [],
   "source": [
    "variaveis_interesse['situacao'] = np.where((variaveis_interesse['previsao_entrega_cliente'] - variaveis_interesse['data_entrega'] ).dt.days.astype(int) < 0, \"Atrasado\",\"No prazo\")"
   ]
  },
  {
   "cell_type": "code",
   "execution_count": 60,
   "metadata": {
    "colab": {
     "base_uri": "https://localhost:8080/"
    },
    "id": "oS8_tI7yU0yB",
    "outputId": "ab2904f7-edd4-4942-9c5a-293f908efdf4"
   },
   "outputs": [
    {
     "data": {
      "text/plain": [
       "No prazo    60936\n",
       "Atrasado    10354\n",
       "Name: situacao, dtype: int64"
      ]
     },
     "execution_count": 60,
     "metadata": {},
     "output_type": "execute_result"
    }
   ],
   "source": [
    "variaveis_interesse['situacao'].value_counts()"
   ]
  },
  {
   "cell_type": "markdown",
   "metadata": {},
   "source": [
    "### Filter only orders that have already been delivered"
   ]
  },
  {
   "cell_type": "code",
   "execution_count": 14,
   "metadata": {},
   "outputs": [
    {
     "data": {
      "image/png": "[encoded data removed]",
      "text/plain": [
       "<Figure size 432x288 with 1 Axes>"
      ]
     },
     "metadata": {
      "needs_background": "light"
     },
     "output_type": "display_data"
    }
   ],
   "source": [
    "import pandas as pd\n",
    "import matplotlib.pyplot as plt\n",
    "\n",
    "# Supondo que 'variaveis_interesse' é o seu DataFrame\n",
    "# e 'situacao' é a coluna de interesse\n",
    "variaveis_interesse['situacao'].value_counts().plot(kind='bar')\n",
    "\n",
    "# Adicionando rótulos e título\n",
    "plt.xlabel('Situação')\n",
    "plt.ylabel('Contagem')\n",
    "plt.title('Contagem de Situações')\n",
    "\n",
    "# Exibindo o gráfico\n",
    "plt.show()\n"
   ]
  },
  {
   "cell_type": "code",
   "execution_count": 62,
   "metadata": {},
   "outputs": [
    {
     "name": "stderr",
     "output_type": "stream",
     "text": [
      "C:\\Users\\rodri\\anaconda3\\lib\\site-packages\\pandas\\core\\arrays\\datetimes.py:1162: UserWarning: Converting to PeriodArray/Index representation will drop timezone information.\n",
      "  warnings.warn(\n"
     ]
    },
    {
     "data": {
      "text/plain": [
       "<Figure size 720x432 with 0 Axes>"
      ]
     },
     "metadata": {},
     "output_type": "display_data"
    },
    {
     "data": {
      "image/png": "[encoded data removed]",
      "text/plain": [
       "<Figure size 432x288 with 1 Axes>"
      ]
     },
     "metadata": {
      "needs_background": "light"
     },
     "output_type": "display_data"
    }
   ],
   "source": [
    "variaveis_interesse['mes'] = variaveis_interesse['data_criacao'].dt.to_period('M')\n",
    "\n",
    "# Criando um gráfico de barras\n",
    "plt.figure(figsize=(10, 6))\n",
    "variaveis_interesse.groupby(['mes', 'situacao']).size().unstack().plot(kind='bar', stacked=True)\n",
    "\n",
    "# Adicionando rótulos e título\n",
    "plt.xlabel('Mês de Criação')\n",
    "plt.ylabel('Contagem')\n",
    "plt.title('Contagem de Situações por Mês')\n",
    "\n",
    "# Exibindo o gráfico\n",
    "plt.show()"
   ]
  },
  {
   "cell_type": "code",
   "execution_count": 315,
   "metadata": {},
   "outputs": [
    {
     "name": "stdout",
     "output_type": "stream",
     "text": [
      "Correlation between column1 and column2: 0.1799081443213204\n"
     ]
    }
   ],
   "source": [
    "df_volume = variaveis_interesse.groupby(['mes', 'situacao']).size().unstack()\n",
    "df_volume['total'] = df_volume[0] + df_volume[1]\n",
    "df_volume['prop'] = df_volume[1]/df_volume['total'] \n",
    "correlation = df_volume['prop'].corr(df_volume['total'])\n",
    "\n",
    "print(f'Correlation between proportion late delivery and the volume total: {correlation}')\n"
   ]
  },
  {
   "cell_type": "code",
   "execution_count": 319,
   "metadata": {},
   "outputs": [
    {
     "data": {
      "text/plain": [
       "mes\n",
       "2023-06    0.054851\n",
       "2023-07    0.082078\n",
       "2023-08    0.305487\n",
       "2023-09    0.301527\n",
       "2023-10    0.051868\n",
       "2023-11    0.114510\n",
       "2023-12    0.080492\n",
       "2024-01    0.012026\n",
       "Freq: M, Name: prop, dtype: float64"
      ]
     },
     "execution_count": 319,
     "metadata": {},
     "output_type": "execute_result"
    }
   ],
   "source": [
    "df_volume['prop']\n"
   ]
  },
  {
   "cell_type": "code",
   "execution_count": 64,
   "metadata": {},
   "outputs": [],
   "source": [
    "contagem_por_mes_situacao = variaveis_interesse.groupby(['mes', 'situacao']).size().unstack()\n",
    "contagem_por_mes_situacao['Porcentagem_Atrasado'] = (contagem_por_mes_situacao['Atrasado'] / contagem_por_mes_situacao.sum(axis=1)) * 100"
   ]
  },
  {
   "cell_type": "code",
   "execution_count": 65,
   "metadata": {},
   "outputs": [
    {
     "data": {
      "text/html": [
       "<div>\n",
       "<style scoped>\n",
       "    .dataframe tbody tr th:only-of-type {\n",
       "        vertical-align: middle;\n",
       "    }\n",
       "\n",
       "    .dataframe tbody tr th {\n",
       "        vertical-align: top;\n",
       "    }\n",
       "\n",
       "    .dataframe thead th {\n",
       "        text-align: right;\n",
       "    }\n",
       "</style>\n",
       "<table border=\"1\" class=\"dataframe\">\n",
       "  <thead>\n",
       "    <tr style=\"text-align: right;\">\n",
       "      <th>situacao</th>\n",
       "      <th>Atrasado</th>\n",
       "      <th>No prazo</th>\n",
       "      <th>Porcentagem_Atrasado</th>\n",
       "    </tr>\n",
       "    <tr>\n",
       "      <th>mes</th>\n",
       "      <th></th>\n",
       "      <th></th>\n",
       "      <th></th>\n",
       "    </tr>\n",
       "  </thead>\n",
       "  <tbody>\n",
       "    <tr>\n",
       "      <th>2023-06</th>\n",
       "      <td>437</td>\n",
       "      <td>7530</td>\n",
       "      <td>5.485126</td>\n",
       "    </tr>\n",
       "    <tr>\n",
       "      <th>2023-07</th>\n",
       "      <td>365</td>\n",
       "      <td>4082</td>\n",
       "      <td>8.207781</td>\n",
       "    </tr>\n",
       "    <tr>\n",
       "      <th>2023-08</th>\n",
       "      <td>1481</td>\n",
       "      <td>3367</td>\n",
       "      <td>30.548680</td>\n",
       "    </tr>\n",
       "    <tr>\n",
       "      <th>2023-09</th>\n",
       "      <td>3969</td>\n",
       "      <td>9194</td>\n",
       "      <td>30.152701</td>\n",
       "    </tr>\n",
       "    <tr>\n",
       "      <th>2023-10</th>\n",
       "      <td>336</td>\n",
       "      <td>6142</td>\n",
       "      <td>5.186786</td>\n",
       "    </tr>\n",
       "    <tr>\n",
       "      <th>2023-11</th>\n",
       "      <td>3609</td>\n",
       "      <td>27908</td>\n",
       "      <td>11.450963</td>\n",
       "    </tr>\n",
       "    <tr>\n",
       "      <th>2023-12</th>\n",
       "      <td>144</td>\n",
       "      <td>1645</td>\n",
       "      <td>8.049189</td>\n",
       "    </tr>\n",
       "    <tr>\n",
       "      <th>2024-01</th>\n",
       "      <td>13</td>\n",
       "      <td>1068</td>\n",
       "      <td>1.202590</td>\n",
       "    </tr>\n",
       "  </tbody>\n",
       "</table>\n",
       "</div>"
      ],
      "text/plain": [
       "situacao  Atrasado  No prazo  Porcentagem_Atrasado\n",
       "mes                                               \n",
       "2023-06        437      7530              5.485126\n",
       "2023-07        365      4082              8.207781\n",
       "2023-08       1481      3367             30.548680\n",
       "2023-09       3969      9194             30.152701\n",
       "2023-10        336      6142              5.186786\n",
       "2023-11       3609     27908             11.450963\n",
       "2023-12        144      1645              8.049189\n",
       "2024-01         13      1068              1.202590"
      ]
     },
     "execution_count": 65,
     "metadata": {},
     "output_type": "execute_result"
    }
   ],
   "source": [
    "contagem_por_mes_situacao"
   ]
  },
  {
   "cell_type": "code",
   "execution_count": 66,
   "metadata": {},
   "outputs": [
    {
     "data": {
      "image/png": "[encoded data removed]",
      "text/plain": [
       "<Figure size 720x432 with 1 Axes>"
      ]
     },
     "metadata": {
      "needs_background": "light"
     },
     "output_type": "display_data"
    }
   ],
   "source": [
    "contagem_por_mes_situacao.index = contagem_por_mes_situacao.index.astype(str)\n",
    "\n",
    "plt.figure(figsize=(10, 6))\n",
    "ax = contagem_por_mes_situacao['Porcentagem_Atrasado'].plot(kind='line')\n",
    "ax.set_ylim(0, 50)\n",
    "plt.xlabel('Mês de Criação')\n",
    "plt.ylabel('Porcentagem')\n",
    "plt.title('Porcentagem de Atrasado por Situação')\n",
    "\n",
    "for i, y in enumerate(contagem_por_mes_situacao['Porcentagem_Atrasado']):\n",
    "    ax.text(i, y, f'{y:.1f}%', ha='center', va='bottom')\n",
    "    \n",
    "# Exibindo o gráfico\n",
    "plt.show()"
   ]
  },
  {
   "cell_type": "code",
   "execution_count": 67,
   "metadata": {},
   "outputs": [
    {
     "data": {
      "text/plain": [
       "No prazo    60936\n",
       "Atrasado    10354\n",
       "Name: situacao, dtype: int64"
      ]
     },
     "execution_count": 67,
     "metadata": {},
     "output_type": "execute_result"
    }
   ],
   "source": [
    "variaveis_interesse['situacao'].value_counts()"
   ]
  },
  {
   "cell_type": "code",
   "execution_count": 68,
   "metadata": {},
   "outputs": [
    {
     "name": "stdout",
     "output_type": "stream",
     "text": [
      "Proporção de pedidos entregue atrasados 14.7 %\n"
     ]
    }
   ],
   "source": [
    "porcentagem = round(10214 / (59354 + 10214),3)*100\n",
    "print(f\"Proporção de pedidos entregue atrasados {porcentagem} %\")\n"
   ]
  },
  {
   "cell_type": "markdown",
   "metadata": {},
   "source": [
    "### Por transportadora"
   ]
  },
  {
   "cell_type": "code",
   "execution_count": 69,
   "metadata": {},
   "outputs": [
    {
     "data": {
      "text/html": [
       "<div>\n",
       "<style scoped>\n",
       "    .dataframe tbody tr th:only-of-type {\n",
       "        vertical-align: middle;\n",
       "    }\n",
       "\n",
       "    .dataframe tbody tr th {\n",
       "        vertical-align: top;\n",
       "    }\n",
       "\n",
       "    .dataframe thead th {\n",
       "        text-align: right;\n",
       "    }\n",
       "</style>\n",
       "<table border=\"1\" class=\"dataframe\">\n",
       "  <thead>\n",
       "    <tr style=\"text-align: right;\">\n",
       "      <th>situacao</th>\n",
       "      <th>Atrasado</th>\n",
       "      <th>No prazo</th>\n",
       "      <th>% entrega transp</th>\n",
       "      <th>% atraso totais</th>\n",
       "    </tr>\n",
       "    <tr>\n",
       "      <th>transportadora</th>\n",
       "      <th></th>\n",
       "      <th></th>\n",
       "      <th></th>\n",
       "      <th></th>\n",
       "    </tr>\n",
       "  </thead>\n",
       "  <tbody>\n",
       "    <tr>\n",
       "      <th>Braspress</th>\n",
       "      <td>50</td>\n",
       "      <td>32</td>\n",
       "      <td>60.98</td>\n",
       "      <td>0.48</td>\n",
       "    </tr>\n",
       "    <tr>\n",
       "      <th>Correios</th>\n",
       "      <td>47</td>\n",
       "      <td>230</td>\n",
       "      <td>16.97</td>\n",
       "      <td>0.45</td>\n",
       "    </tr>\n",
       "    <tr>\n",
       "      <th>Loggi</th>\n",
       "      <td>8749</td>\n",
       "      <td>42929</td>\n",
       "      <td>16.93</td>\n",
       "      <td>84.50</td>\n",
       "    </tr>\n",
       "    <tr>\n",
       "      <th>Total</th>\n",
       "      <td>1508</td>\n",
       "      <td>17745</td>\n",
       "      <td>7.83</td>\n",
       "      <td>14.56</td>\n",
       "    </tr>\n",
       "  </tbody>\n",
       "</table>\n",
       "</div>"
      ],
      "text/plain": [
       "situacao        Atrasado  No prazo  % entrega transp  % atraso totais\n",
       "transportadora                                                       \n",
       "Braspress             50        32             60.98             0.48\n",
       "Correios              47       230             16.97             0.45\n",
       "Loggi               8749     42929             16.93            84.50\n",
       "Total               1508     17745              7.83            14.56"
      ]
     },
     "execution_count": 69,
     "metadata": {},
     "output_type": "execute_result"
    }
   ],
   "source": [
    "# Criando um gráfico de barras\n",
    "transportadora_situacao = variaveis_interesse.groupby(['transportadora', 'situacao']).size().unstack()\n",
    "transportadora_situacao['% entrega transp'] = round(transportadora_situacao['Atrasado'] / transportadora_situacao.sum(axis=1) * 100,2)\n",
    "transportadora_situacao['% atraso totais'] =  round(transportadora_situacao['Atrasado'] / transportadora_situacao['Atrasado'].sum() *100,2)\n",
    "transportadora_situacao\n"
   ]
  },
  {
   "cell_type": "markdown",
   "metadata": {},
   "source": [
    "## Análise por Estado"
   ]
  },
  {
   "cell_type": "code",
   "execution_count": 70,
   "metadata": {},
   "outputs": [
    {
     "data": {
      "text/html": [
       "<div>\n",
       "<style scoped>\n",
       "    .dataframe tbody tr th:only-of-type {\n",
       "        vertical-align: middle;\n",
       "    }\n",
       "\n",
       "    .dataframe tbody tr th {\n",
       "        vertical-align: top;\n",
       "    }\n",
       "\n",
       "    .dataframe thead th {\n",
       "        text-align: right;\n",
       "    }\n",
       "</style>\n",
       "<table border=\"1\" class=\"dataframe\">\n",
       "  <thead>\n",
       "    <tr style=\"text-align: right;\">\n",
       "      <th>situacao</th>\n",
       "      <th>Atrasado</th>\n",
       "      <th>No prazo</th>\n",
       "      <th>% atraso totais</th>\n",
       "    </tr>\n",
       "    <tr>\n",
       "      <th>uf</th>\n",
       "      <th></th>\n",
       "      <th></th>\n",
       "      <th></th>\n",
       "    </tr>\n",
       "  </thead>\n",
       "  <tbody>\n",
       "    <tr>\n",
       "      <th>AC</th>\n",
       "      <td>2.0</td>\n",
       "      <td>62.0</td>\n",
       "      <td>0.02</td>\n",
       "    </tr>\n",
       "    <tr>\n",
       "      <th>AL</th>\n",
       "      <td>23.0</td>\n",
       "      <td>344.0</td>\n",
       "      <td>0.22</td>\n",
       "    </tr>\n",
       "    <tr>\n",
       "      <th>AM</th>\n",
       "      <td>42.0</td>\n",
       "      <td>111.0</td>\n",
       "      <td>0.41</td>\n",
       "    </tr>\n",
       "    <tr>\n",
       "      <th>AP</th>\n",
       "      <td>2.0</td>\n",
       "      <td>15.0</td>\n",
       "      <td>0.02</td>\n",
       "    </tr>\n",
       "    <tr>\n",
       "      <th>BA</th>\n",
       "      <td>348.0</td>\n",
       "      <td>2969.0</td>\n",
       "      <td>3.36</td>\n",
       "    </tr>\n",
       "    <tr>\n",
       "      <th>CE</th>\n",
       "      <td>53.0</td>\n",
       "      <td>645.0</td>\n",
       "      <td>0.51</td>\n",
       "    </tr>\n",
       "    <tr>\n",
       "      <th>DF</th>\n",
       "      <td>342.0</td>\n",
       "      <td>2222.0</td>\n",
       "      <td>3.30</td>\n",
       "    </tr>\n",
       "    <tr>\n",
       "      <th>ES</th>\n",
       "      <td>183.0</td>\n",
       "      <td>1367.0</td>\n",
       "      <td>1.77</td>\n",
       "    </tr>\n",
       "    <tr>\n",
       "      <th>GO</th>\n",
       "      <td>145.0</td>\n",
       "      <td>1431.0</td>\n",
       "      <td>1.40</td>\n",
       "    </tr>\n",
       "    <tr>\n",
       "      <th>MA</th>\n",
       "      <td>23.0</td>\n",
       "      <td>229.0</td>\n",
       "      <td>0.22</td>\n",
       "    </tr>\n",
       "    <tr>\n",
       "      <th>MG</th>\n",
       "      <td>905.0</td>\n",
       "      <td>7198.0</td>\n",
       "      <td>8.74</td>\n",
       "    </tr>\n",
       "    <tr>\n",
       "      <th>MS</th>\n",
       "      <td>36.0</td>\n",
       "      <td>585.0</td>\n",
       "      <td>0.35</td>\n",
       "    </tr>\n",
       "    <tr>\n",
       "      <th>MT</th>\n",
       "      <td>52.0</td>\n",
       "      <td>866.0</td>\n",
       "      <td>0.50</td>\n",
       "    </tr>\n",
       "    <tr>\n",
       "      <th>PA</th>\n",
       "      <td>46.0</td>\n",
       "      <td>276.0</td>\n",
       "      <td>0.44</td>\n",
       "    </tr>\n",
       "    <tr>\n",
       "      <th>PB</th>\n",
       "      <td>39.0</td>\n",
       "      <td>182.0</td>\n",
       "      <td>0.38</td>\n",
       "    </tr>\n",
       "    <tr>\n",
       "      <th>PE</th>\n",
       "      <td>176.0</td>\n",
       "      <td>867.0</td>\n",
       "      <td>1.70</td>\n",
       "    </tr>\n",
       "    <tr>\n",
       "      <th>PI</th>\n",
       "      <td>40.0</td>\n",
       "      <td>143.0</td>\n",
       "      <td>0.39</td>\n",
       "    </tr>\n",
       "    <tr>\n",
       "      <th>PR</th>\n",
       "      <td>546.0</td>\n",
       "      <td>3592.0</td>\n",
       "      <td>5.27</td>\n",
       "    </tr>\n",
       "    <tr>\n",
       "      <th>RJ</th>\n",
       "      <td>1071.0</td>\n",
       "      <td>7420.0</td>\n",
       "      <td>10.34</td>\n",
       "    </tr>\n",
       "    <tr>\n",
       "      <th>RN</th>\n",
       "      <td>38.0</td>\n",
       "      <td>295.0</td>\n",
       "      <td>0.37</td>\n",
       "    </tr>\n",
       "    <tr>\n",
       "      <th>RO</th>\n",
       "      <td>19.0</td>\n",
       "      <td>194.0</td>\n",
       "      <td>0.18</td>\n",
       "    </tr>\n",
       "    <tr>\n",
       "      <th>RR</th>\n",
       "      <td>NaN</td>\n",
       "      <td>31.0</td>\n",
       "      <td>NaN</td>\n",
       "    </tr>\n",
       "    <tr>\n",
       "      <th>RS</th>\n",
       "      <td>527.0</td>\n",
       "      <td>3421.0</td>\n",
       "      <td>5.09</td>\n",
       "    </tr>\n",
       "    <tr>\n",
       "      <th>SC</th>\n",
       "      <td>576.0</td>\n",
       "      <td>2886.0</td>\n",
       "      <td>5.56</td>\n",
       "    </tr>\n",
       "    <tr>\n",
       "      <th>SE</th>\n",
       "      <td>9.0</td>\n",
       "      <td>233.0</td>\n",
       "      <td>0.09</td>\n",
       "    </tr>\n",
       "    <tr>\n",
       "      <th>SP</th>\n",
       "      <td>5101.0</td>\n",
       "      <td>23192.0</td>\n",
       "      <td>49.27</td>\n",
       "    </tr>\n",
       "    <tr>\n",
       "      <th>TO</th>\n",
       "      <td>10.0</td>\n",
       "      <td>160.0</td>\n",
       "      <td>0.10</td>\n",
       "    </tr>\n",
       "  </tbody>\n",
       "</table>\n",
       "</div>"
      ],
      "text/plain": [
       "situacao  Atrasado  No prazo  % atraso totais\n",
       "uf                                           \n",
       "AC             2.0      62.0             0.02\n",
       "AL            23.0     344.0             0.22\n",
       "AM            42.0     111.0             0.41\n",
       "AP             2.0      15.0             0.02\n",
       "BA           348.0    2969.0             3.36\n",
       "CE            53.0     645.0             0.51\n",
       "DF           342.0    2222.0             3.30\n",
       "ES           183.0    1367.0             1.77\n",
       "GO           145.0    1431.0             1.40\n",
       "MA            23.0     229.0             0.22\n",
       "MG           905.0    7198.0             8.74\n",
       "MS            36.0     585.0             0.35\n",
       "MT            52.0     866.0             0.50\n",
       "PA            46.0     276.0             0.44\n",
       "PB            39.0     182.0             0.38\n",
       "PE           176.0     867.0             1.70\n",
       "PI            40.0     143.0             0.39\n",
       "PR           546.0    3592.0             5.27\n",
       "RJ          1071.0    7420.0            10.34\n",
       "RN            38.0     295.0             0.37\n",
       "RO            19.0     194.0             0.18\n",
       "RR             NaN      31.0              NaN\n",
       "RS           527.0    3421.0             5.09\n",
       "SC           576.0    2886.0             5.56\n",
       "SE             9.0     233.0             0.09\n",
       "SP          5101.0   23192.0            49.27\n",
       "TO            10.0     160.0             0.10"
      ]
     },
     "execution_count": 70,
     "metadata": {},
     "output_type": "execute_result"
    }
   ],
   "source": [
    "mapa = variaveis_interesse.groupby(['uf', 'situacao']).size().unstack()\n",
    "mapa['% atraso totais'] =  round(mapa['Atrasado'] / mapa['Atrasado'].sum() *100,2)\n",
    "mapa"
   ]
  },
  {
   "cell_type": "code",
   "execution_count": 322,
   "metadata": {},
   "outputs": [],
   "source": [
    "state_to_region = {\n",
    "    'AC': 'Norte',\n",
    "    'AL': 'Nordeste',\n",
    "    'AP': 'Norte',\n",
    "    'AM': 'Norte',\n",
    "    'BA': 'Nordeste',\n",
    "    'CE': 'Nordeste',\n",
    "    'DF': 'CentroOeste',\n",
    "    'ES': 'Sudeste',\n",
    "    'GO': 'CentroOeste',\n",
    "    'MA': 'Nordeste',\n",
    "    'MT': 'CentroOeste',\n",
    "    'MS': 'CentroOeste',\n",
    "    'MG': 'Sudeste',\n",
    "    'PA': 'Norte',\n",
    "    'PB': 'Nordeste',\n",
    "    'PR': 'Sul',\n",
    "    'PE': 'Nordeste',\n",
    "    'PI': 'Nordeste',\n",
    "    'RJ': 'Sudeste',\n",
    "    'RN': 'Nordeste',\n",
    "    'RS': 'Sul',\n",
    "    'RO': 'Norte',\n",
    "    'RR': 'Norte',\n",
    "    'SC': 'Sul',\n",
    "    'SP': 'Sudeste',\n",
    "    'SE': 'Nordeste',\n",
    "    'TO': 'Norte',\n",
    "}\n",
    "variaveis_interesse['region'] = variaveis_interesse['uf'].map(state_to_region)"
   ]
  },
  {
   "cell_type": "code",
   "execution_count": 323,
   "metadata": {},
   "outputs": [
    {
     "data": {
      "text/html": [
       "<div>\n",
       "<style scoped>\n",
       "    .dataframe tbody tr th:only-of-type {\n",
       "        vertical-align: middle;\n",
       "    }\n",
       "\n",
       "    .dataframe tbody tr th {\n",
       "        vertical-align: top;\n",
       "    }\n",
       "\n",
       "    .dataframe thead th {\n",
       "        text-align: right;\n",
       "    }\n",
       "</style>\n",
       "<table border=\"1\" class=\"dataframe\">\n",
       "  <thead>\n",
       "    <tr style=\"text-align: right;\">\n",
       "      <th>situacao</th>\n",
       "      <th>Atrasado</th>\n",
       "      <th>No prazo</th>\n",
       "      <th>% atraso totais</th>\n",
       "    </tr>\n",
       "    <tr>\n",
       "      <th>region</th>\n",
       "      <th></th>\n",
       "      <th></th>\n",
       "      <th></th>\n",
       "    </tr>\n",
       "  </thead>\n",
       "  <tbody>\n",
       "    <tr>\n",
       "      <th>CentroOeste</th>\n",
       "      <td>575</td>\n",
       "      <td>5104</td>\n",
       "      <td>5.55</td>\n",
       "    </tr>\n",
       "    <tr>\n",
       "      <th>Nordeste</th>\n",
       "      <td>749</td>\n",
       "      <td>5907</td>\n",
       "      <td>7.23</td>\n",
       "    </tr>\n",
       "    <tr>\n",
       "      <th>Norte</th>\n",
       "      <td>121</td>\n",
       "      <td>849</td>\n",
       "      <td>1.17</td>\n",
       "    </tr>\n",
       "    <tr>\n",
       "      <th>Sudeste</th>\n",
       "      <td>7260</td>\n",
       "      <td>39177</td>\n",
       "      <td>70.12</td>\n",
       "    </tr>\n",
       "    <tr>\n",
       "      <th>Sul</th>\n",
       "      <td>1649</td>\n",
       "      <td>9899</td>\n",
       "      <td>15.93</td>\n",
       "    </tr>\n",
       "  </tbody>\n",
       "</table>\n",
       "</div>"
      ],
      "text/plain": [
       "situacao     Atrasado  No prazo  % atraso totais\n",
       "region                                          \n",
       "CentroOeste       575      5104             5.55\n",
       "Nordeste          749      5907             7.23\n",
       "Norte             121       849             1.17\n",
       "Sudeste          7260     39177            70.12\n",
       "Sul              1649      9899            15.93"
      ]
     },
     "execution_count": 323,
     "metadata": {},
     "output_type": "execute_result"
    }
   ],
   "source": [
    "mapa = variaveis_interesse.groupby(['region', 'situacao']).size().unstack()\n",
    "mapa['% atraso totais'] =  round(mapa['Atrasado'] / mapa['Atrasado'].sum() *100,2)\n",
    "mapa"
   ]
  },
  {
   "cell_type": "markdown",
   "metadata": {},
   "source": [
    "## Capital Interior"
   ]
  },
  {
   "cell_type": "code",
   "execution_count": 73,
   "metadata": {},
   "outputs": [
    {
     "data": {
      "text/html": [
       "<div>\n",
       "<style scoped>\n",
       "    .dataframe tbody tr th:only-of-type {\n",
       "        vertical-align: middle;\n",
       "    }\n",
       "\n",
       "    .dataframe tbody tr th {\n",
       "        vertical-align: top;\n",
       "    }\n",
       "\n",
       "    .dataframe thead th {\n",
       "        text-align: right;\n",
       "    }\n",
       "</style>\n",
       "<table border=\"1\" class=\"dataframe\">\n",
       "  <thead>\n",
       "    <tr style=\"text-align: right;\">\n",
       "      <th>situacao</th>\n",
       "      <th>Atrasado</th>\n",
       "      <th>No prazo</th>\n",
       "      <th>% atraso totais</th>\n",
       "    </tr>\n",
       "    <tr>\n",
       "      <th>praca</th>\n",
       "      <th></th>\n",
       "      <th></th>\n",
       "      <th></th>\n",
       "    </tr>\n",
       "  </thead>\n",
       "  <tbody>\n",
       "    <tr>\n",
       "      <th>Capital</th>\n",
       "      <td>7876</td>\n",
       "      <td>40390</td>\n",
       "      <td>76.07</td>\n",
       "    </tr>\n",
       "    <tr>\n",
       "      <th>Interior</th>\n",
       "      <td>2478</td>\n",
       "      <td>20546</td>\n",
       "      <td>23.93</td>\n",
       "    </tr>\n",
       "  </tbody>\n",
       "</table>\n",
       "</div>"
      ],
      "text/plain": [
       "situacao  Atrasado  No prazo  % atraso totais\n",
       "praca                                        \n",
       "Capital       7876     40390            76.07\n",
       "Interior      2478     20546            23.93"
      ]
     },
     "execution_count": 73,
     "metadata": {},
     "output_type": "execute_result"
    }
   ],
   "source": [
    "mapa = variaveis_interesse.groupby(['praca', 'situacao']).size().unstack()\n",
    "mapa['% atraso totais'] =  round(mapa['Atrasado'] / mapa['Atrasado'].sum() *100,2)\n",
    "mapa"
   ]
  },
  {
   "cell_type": "markdown",
   "metadata": {},
   "source": [
    "### Transform a data retirando o UTC e hora"
   ]
  },
  {
   "cell_type": "code",
   "execution_count": 74,
   "metadata": {
    "collapsed": true
   },
   "outputs": [
    {
     "ename": "NameError",
     "evalue": "name 'base_modelo' is not defined",
     "output_type": "error",
     "traceback": [
      "\u001b[1;31m---------------------------------------------------------------------------\u001b[0m",
      "\u001b[1;31mNameError\u001b[0m                                 Traceback (most recent call last)",
      "Input \u001b[1;32mIn [74]\u001b[0m, in \u001b[0;36m<cell line: 4>\u001b[1;34m()\u001b[0m\n\u001b[0;32m      1\u001b[0m colunas_ajustar_data \u001b[38;5;241m=\u001b[39m [\u001b[38;5;124m'\u001b[39m\u001b[38;5;124mdata_entrega\u001b[39m\u001b[38;5;124m'\u001b[39m,\u001b[38;5;124m'\u001b[39m\u001b[38;5;124mdata_criacao\u001b[39m\u001b[38;5;124m'\u001b[39m,\u001b[38;5;124m'\u001b[39m\u001b[38;5;124mprevisao_entrega_transp\u001b[39m\u001b[38;5;124m'\u001b[39m,\n\u001b[0;32m      2\u001b[0m                         \u001b[38;5;124m'\u001b[39m\u001b[38;5;124mprevisao_entrega_cliente\u001b[39m\u001b[38;5;124m'\u001b[39m,\u001b[38;5;124m'\u001b[39m\u001b[38;5;124mdata_despacho\u001b[39m\u001b[38;5;124m'\u001b[39m]\n\u001b[0;32m      4\u001b[0m \u001b[38;5;28;01mfor\u001b[39;00m column \u001b[38;5;129;01min\u001b[39;00m colunas_ajustar_data:\n\u001b[1;32m----> 5\u001b[0m     base_modelo[column] \u001b[38;5;241m=\u001b[39m \u001b[43mbase_modelo\u001b[49m[column]\u001b[38;5;241m.\u001b[39mdt\u001b[38;5;241m.\u001b[39mdate\n",
      "\u001b[1;31mNameError\u001b[0m: name 'base_modelo' is not defined"
     ]
    }
   ],
   "source": [
    "colunas_ajustar_data = ['data_entrega','data_criacao','previsao_entrega_transp',\n",
    "                        'previsao_entrega_cliente','data_despacho']\n",
    "\n",
    "for column in colunas_ajustar_data:\n",
    "    base_modelo[column] = base_modelo[column].dt.date"
   ]
  },
  {
   "cell_type": "code",
   "execution_count": null,
   "metadata": {},
   "outputs": [],
   "source": [
    "base_modelo['tempo_dias_despacho'] = (base_modelo['data_despacho'] - base_modelo['data_criacao']).dt.days.astype(int)"
   ]
  },
  {
   "cell_type": "code",
   "execution_count": 100,
   "metadata": {},
   "outputs": [
    {
     "data": {
      "text/html": [
       "<div>\n",
       "<style scoped>\n",
       "    .dataframe tbody tr th:only-of-type {\n",
       "        vertical-align: middle;\n",
       "    }\n",
       "\n",
       "    .dataframe tbody tr th {\n",
       "        vertical-align: top;\n",
       "    }\n",
       "\n",
       "    .dataframe thead th {\n",
       "        text-align: right;\n",
       "    }\n",
       "</style>\n",
       "<table border=\"1\" class=\"dataframe\">\n",
       "  <thead>\n",
       "    <tr style=\"text-align: right;\">\n",
       "      <th></th>\n",
       "      <th>uf</th>\n",
       "      <th>transportadora</th>\n",
       "      <th>data_criacao</th>\n",
       "      <th>data_despacho</th>\n",
       "      <th>previsao_entrega_cliente</th>\n",
       "      <th>data_entrega</th>\n",
       "      <th>previsao_entrega_transp</th>\n",
       "      <th>status_transportador</th>\n",
       "      <th>prazo_transportadora_dias_uteis</th>\n",
       "      <th>praca</th>\n",
       "      <th>chave_da_nota</th>\n",
       "      <th>quantidade_de_ocorrencias</th>\n",
       "      <th>situacao</th>\n",
       "      <th>mes</th>\n",
       "      <th>region</th>\n",
       "      <th>regiao_Centro-Oeste</th>\n",
       "      <th>regiao_Nordeste</th>\n",
       "      <th>regiao_Norte</th>\n",
       "      <th>regiao_Sudeste</th>\n",
       "      <th>regiao_Sul</th>\n",
       "      <th>chave_acesso_NFe</th>\n",
       "      <th>criado_shopify</th>\n",
       "      <th>tempo_total_despacho</th>\n",
       "      <th>campaing</th>\n",
       "      <th>transportadora_Braspress</th>\n",
       "      <th>transportadora_Correios</th>\n",
       "      <th>transportadora_Loggi</th>\n",
       "      <th>transportadora_Total</th>\n",
       "    </tr>\n",
       "  </thead>\n",
       "  <tbody>\n",
       "    <tr>\n",
       "      <th>0</th>\n",
       "      <td>MS</td>\n",
       "      <td>Total</td>\n",
       "      <td>2023-10-15 08:28:05.999000+00:00</td>\n",
       "      <td>2023-10-17 18:19:46+00:00</td>\n",
       "      <td>2023-11-01 23:58:59+00:00</td>\n",
       "      <td>2023-10-24 14:43:59+00:00</td>\n",
       "      <td>2023-10-30 23:59:59+00:00</td>\n",
       "      <td>Entregue</td>\n",
       "      <td>9.0</td>\n",
       "      <td>1</td>\n",
       "      <td>32231027403527000385550010003694421223920208</td>\n",
       "      <td>1.0</td>\n",
       "      <td>0</td>\n",
       "      <td>2023-10</td>\n",
       "      <td>Centro-Oeste</td>\n",
       "      <td>1</td>\n",
       "      <td>0</td>\n",
       "      <td>0</td>\n",
       "      <td>0</td>\n",
       "      <td>0</td>\n",
       "      <td>32231027403527000385550010003694421223920208</td>\n",
       "      <td>2023-10-15 00:00:00+00:00</td>\n",
       "      <td>2</td>\n",
       "      <td>0</td>\n",
       "      <td>0</td>\n",
       "      <td>0</td>\n",
       "      <td>0</td>\n",
       "      <td>1</td>\n",
       "    </tr>\n",
       "    <tr>\n",
       "      <th>1</th>\n",
       "      <td>MT</td>\n",
       "      <td>Total</td>\n",
       "      <td>2023-10-16 18:04:51.632000+00:00</td>\n",
       "      <td>2023-10-17 18:19:46+00:00</td>\n",
       "      <td>2023-11-01 23:58:59+00:00</td>\n",
       "      <td>2023-10-27 11:54:59+00:00</td>\n",
       "      <td>2023-10-30 23:59:59+00:00</td>\n",
       "      <td>Entregue</td>\n",
       "      <td>9.0</td>\n",
       "      <td>0</td>\n",
       "      <td>32231027403527000385550010003704651604294733</td>\n",
       "      <td>1.0</td>\n",
       "      <td>0</td>\n",
       "      <td>2023-10</td>\n",
       "      <td>Centro-Oeste</td>\n",
       "      <td>1</td>\n",
       "      <td>0</td>\n",
       "      <td>0</td>\n",
       "      <td>0</td>\n",
       "      <td>0</td>\n",
       "      <td>32231027403527000385550010003704651604294733</td>\n",
       "      <td>2023-10-16 00:00:00+00:00</td>\n",
       "      <td>1</td>\n",
       "      <td>0</td>\n",
       "      <td>0</td>\n",
       "      <td>0</td>\n",
       "      <td>0</td>\n",
       "      <td>1</td>\n",
       "    </tr>\n",
       "    <tr>\n",
       "      <th>2</th>\n",
       "      <td>SC</td>\n",
       "      <td>Loggi</td>\n",
       "      <td>2023-10-18 10:20:17.853000+00:00</td>\n",
       "      <td>2023-10-18 17:42:27+00:00</td>\n",
       "      <td>2023-11-01 23:58:59+00:00</td>\n",
       "      <td>2023-10-27 14:40:59+00:00</td>\n",
       "      <td>2023-10-26 23:59:59+00:00</td>\n",
       "      <td>Entregue</td>\n",
       "      <td>6.0</td>\n",
       "      <td>0</td>\n",
       "      <td>32231027403527000385550010003713691968754968</td>\n",
       "      <td>1.0</td>\n",
       "      <td>0</td>\n",
       "      <td>2023-10</td>\n",
       "      <td>Sul</td>\n",
       "      <td>0</td>\n",
       "      <td>0</td>\n",
       "      <td>0</td>\n",
       "      <td>0</td>\n",
       "      <td>1</td>\n",
       "      <td>32231027403527000385550010003713691968754968</td>\n",
       "      <td>2023-10-18 00:00:00+00:00</td>\n",
       "      <td>0</td>\n",
       "      <td>0</td>\n",
       "      <td>0</td>\n",
       "      <td>0</td>\n",
       "      <td>1</td>\n",
       "      <td>0</td>\n",
       "    </tr>\n",
       "    <tr>\n",
       "      <th>3</th>\n",
       "      <td>SP</td>\n",
       "      <td>Loggi</td>\n",
       "      <td>2023-10-18 08:07:42.429000+00:00</td>\n",
       "      <td>2023-10-18 17:42:27+00:00</td>\n",
       "      <td>2023-11-01 23:58:59+00:00</td>\n",
       "      <td>2023-10-25 18:23:59+00:00</td>\n",
       "      <td>2023-10-26 23:59:59+00:00</td>\n",
       "      <td>Entregue</td>\n",
       "      <td>6.0</td>\n",
       "      <td>0</td>\n",
       "      <td>32231027403527000385550010003711891757010537</td>\n",
       "      <td>1.0</td>\n",
       "      <td>0</td>\n",
       "      <td>2023-10</td>\n",
       "      <td>Sudeste</td>\n",
       "      <td>0</td>\n",
       "      <td>0</td>\n",
       "      <td>0</td>\n",
       "      <td>1</td>\n",
       "      <td>0</td>\n",
       "      <td>32231027403527000385550010003711891757010537</td>\n",
       "      <td>2023-10-18 00:00:00+00:00</td>\n",
       "      <td>0</td>\n",
       "      <td>0</td>\n",
       "      <td>0</td>\n",
       "      <td>0</td>\n",
       "      <td>1</td>\n",
       "      <td>0</td>\n",
       "    </tr>\n",
       "    <tr>\n",
       "      <th>4</th>\n",
       "      <td>SP</td>\n",
       "      <td>Loggi</td>\n",
       "      <td>2023-10-18 17:25:29.989000+00:00</td>\n",
       "      <td>2023-10-19 17:58:44+00:00</td>\n",
       "      <td>2023-10-24 23:58:59+00:00</td>\n",
       "      <td>2023-10-23 10:48:59+00:00</td>\n",
       "      <td>2023-10-24 23:59:59+00:00</td>\n",
       "      <td>Entregue</td>\n",
       "      <td>3.0</td>\n",
       "      <td>1</td>\n",
       "      <td>32231027403527000385550010003715971896074902</td>\n",
       "      <td>0.0</td>\n",
       "      <td>0</td>\n",
       "      <td>2023-10</td>\n",
       "      <td>Sudeste</td>\n",
       "      <td>0</td>\n",
       "      <td>0</td>\n",
       "      <td>0</td>\n",
       "      <td>1</td>\n",
       "      <td>0</td>\n",
       "      <td>32231027403527000385550010003715971896074902</td>\n",
       "      <td>2023-10-18 00:00:00+00:00</td>\n",
       "      <td>1</td>\n",
       "      <td>0</td>\n",
       "      <td>0</td>\n",
       "      <td>0</td>\n",
       "      <td>1</td>\n",
       "      <td>0</td>\n",
       "    </tr>\n",
       "  </tbody>\n",
       "</table>\n",
       "</div>"
      ],
      "text/plain": [
       "   uf transportadora                     data_criacao  \\\n",
       "0  MS          Total 2023-10-15 08:28:05.999000+00:00   \n",
       "1  MT          Total 2023-10-16 18:04:51.632000+00:00   \n",
       "2  SC          Loggi 2023-10-18 10:20:17.853000+00:00   \n",
       "3  SP          Loggi 2023-10-18 08:07:42.429000+00:00   \n",
       "4  SP          Loggi 2023-10-18 17:25:29.989000+00:00   \n",
       "\n",
       "              data_despacho  previsao_entrega_cliente  \\\n",
       "0 2023-10-17 18:19:46+00:00 2023-11-01 23:58:59+00:00   \n",
       "1 2023-10-17 18:19:46+00:00 2023-11-01 23:58:59+00:00   \n",
       "2 2023-10-18 17:42:27+00:00 2023-11-01 23:58:59+00:00   \n",
       "3 2023-10-18 17:42:27+00:00 2023-11-01 23:58:59+00:00   \n",
       "4 2023-10-19 17:58:44+00:00 2023-10-24 23:58:59+00:00   \n",
       "\n",
       "               data_entrega   previsao_entrega_transp status_transportador  \\\n",
       "0 2023-10-24 14:43:59+00:00 2023-10-30 23:59:59+00:00             Entregue   \n",
       "1 2023-10-27 11:54:59+00:00 2023-10-30 23:59:59+00:00             Entregue   \n",
       "2 2023-10-27 14:40:59+00:00 2023-10-26 23:59:59+00:00             Entregue   \n",
       "3 2023-10-25 18:23:59+00:00 2023-10-26 23:59:59+00:00             Entregue   \n",
       "4 2023-10-23 10:48:59+00:00 2023-10-24 23:59:59+00:00             Entregue   \n",
       "\n",
       "   prazo_transportadora_dias_uteis  praca  \\\n",
       "0                              9.0      1   \n",
       "1                              9.0      0   \n",
       "2                              6.0      0   \n",
       "3                              6.0      0   \n",
       "4                              3.0      1   \n",
       "\n",
       "                                  chave_da_nota  quantidade_de_ocorrencias  \\\n",
       "0  32231027403527000385550010003694421223920208                        1.0   \n",
       "1  32231027403527000385550010003704651604294733                        1.0   \n",
       "2  32231027403527000385550010003713691968754968                        1.0   \n",
       "3  32231027403527000385550010003711891757010537                        1.0   \n",
       "4  32231027403527000385550010003715971896074902                        0.0   \n",
       "\n",
       "   situacao      mes        region  regiao_Centro-Oeste  regiao_Nordeste  \\\n",
       "0         0  2023-10  Centro-Oeste                    1                0   \n",
       "1         0  2023-10  Centro-Oeste                    1                0   \n",
       "2         0  2023-10           Sul                    0                0   \n",
       "3         0  2023-10       Sudeste                    0                0   \n",
       "4         0  2023-10       Sudeste                    0                0   \n",
       "\n",
       "   regiao_Norte  regiao_Sudeste  regiao_Sul  \\\n",
       "0             0               0           0   \n",
       "1             0               0           0   \n",
       "2             0               0           1   \n",
       "3             0               1           0   \n",
       "4             0               1           0   \n",
       "\n",
       "                               chave_acesso_NFe            criado_shopify  \\\n",
       "0  32231027403527000385550010003694421223920208 2023-10-15 00:00:00+00:00   \n",
       "1  32231027403527000385550010003704651604294733 2023-10-16 00:00:00+00:00   \n",
       "2  32231027403527000385550010003713691968754968 2023-10-18 00:00:00+00:00   \n",
       "3  32231027403527000385550010003711891757010537 2023-10-18 00:00:00+00:00   \n",
       "4  32231027403527000385550010003715971896074902 2023-10-18 00:00:00+00:00   \n",
       "\n",
       "   tempo_total_despacho  campaing  transportadora_Braspress  \\\n",
       "0                     2         0                         0   \n",
       "1                     1         0                         0   \n",
       "2                     0         0                         0   \n",
       "3                     0         0                         0   \n",
       "4                     1         0                         0   \n",
       "\n",
       "   transportadora_Correios  transportadora_Loggi  transportadora_Total  \n",
       "0                        0                     0                     1  \n",
       "1                        0                     0                     1  \n",
       "2                        0                     1                     0  \n",
       "3                        0                     1                     0  \n",
       "4                        0                     1                     0  "
      ]
     },
     "execution_count": 100,
     "metadata": {},
     "output_type": "execute_result"
    }
   ],
   "source": [
    "## Criar dummies transportadoras\n",
    "dummy_df = pd.get_dummies(variaveis_interesse['transportadora'], prefix='transportadora')\n",
    "variaveis_interesse = pd.concat([variaveis_interesse, dummy_df], axis=1)\n",
    "variaveis_interesse.head()"
   ]
  },
  {
   "cell_type": "markdown",
   "metadata": {
    "colab": {
     "base_uri": "https://localhost:8080/"
    },
    "id": "WMnY8I2ogxXI",
    "outputId": "5ce2bae6-2e0f-4202-d953-4da98aa3d900"
   },
   "source": [
    "## Transform states in regions"
   ]
  },
  {
   "cell_type": "code",
   "execution_count": 213,
   "metadata": {},
   "outputs": [
    {
     "data": {
      "text/html": [
       "<div>\n",
       "<style scoped>\n",
       "    .dataframe tbody tr th:only-of-type {\n",
       "        vertical-align: middle;\n",
       "    }\n",
       "\n",
       "    .dataframe tbody tr th {\n",
       "        vertical-align: top;\n",
       "    }\n",
       "\n",
       "    .dataframe thead th {\n",
       "        text-align: right;\n",
       "    }\n",
       "</style>\n",
       "<table border=\"1\" class=\"dataframe\">\n",
       "  <thead>\n",
       "    <tr style=\"text-align: right;\">\n",
       "      <th></th>\n",
       "      <th>uf</th>\n",
       "      <th>transportadora</th>\n",
       "      <th>data_criacao</th>\n",
       "      <th>data_despacho</th>\n",
       "      <th>previsao_entrega_cliente</th>\n",
       "      <th>data_entrega</th>\n",
       "      <th>previsao_entrega_transp</th>\n",
       "      <th>status_transportador</th>\n",
       "      <th>prazo_transportadora_dias_uteis</th>\n",
       "      <th>praca</th>\n",
       "      <th>chave_da_nota</th>\n",
       "      <th>quantidade_de_ocorrencias</th>\n",
       "      <th>situacao</th>\n",
       "      <th>mes</th>\n",
       "      <th>region</th>\n",
       "      <th>chave_acesso_NFe</th>\n",
       "      <th>criado_shopify</th>\n",
       "      <th>tempo_total_despacho</th>\n",
       "      <th>campaing</th>\n",
       "      <th>transportadora_Braspress</th>\n",
       "      <th>transportadora_Correios</th>\n",
       "      <th>transportadora_Loggi</th>\n",
       "      <th>transportadora_Total</th>\n",
       "      <th>regiao_CentroOeste</th>\n",
       "      <th>regiao_Nordeste</th>\n",
       "      <th>regiao_Norte</th>\n",
       "      <th>regiao_Sudeste</th>\n",
       "      <th>regiao_Sul</th>\n",
       "    </tr>\n",
       "  </thead>\n",
       "  <tbody>\n",
       "    <tr>\n",
       "      <th>0</th>\n",
       "      <td>MS</td>\n",
       "      <td>Total</td>\n",
       "      <td>2023-10-15 08:28:05.999000+00:00</td>\n",
       "      <td>2023-10-17 18:19:46+00:00</td>\n",
       "      <td>2023-11-01 23:58:59+00:00</td>\n",
       "      <td>2023-10-24 14:43:59+00:00</td>\n",
       "      <td>2023-10-30 23:59:59+00:00</td>\n",
       "      <td>Entregue</td>\n",
       "      <td>9.0</td>\n",
       "      <td>1</td>\n",
       "      <td>32231027403527000385550010003694421223920208</td>\n",
       "      <td>1.0</td>\n",
       "      <td>0</td>\n",
       "      <td>2023-10</td>\n",
       "      <td>CentroOeste</td>\n",
       "      <td>32231027403527000385550010003694421223920208</td>\n",
       "      <td>2023-10-15 00:00:00+00:00</td>\n",
       "      <td>2</td>\n",
       "      <td>0</td>\n",
       "      <td>0</td>\n",
       "      <td>0</td>\n",
       "      <td>0</td>\n",
       "      <td>1</td>\n",
       "      <td>1</td>\n",
       "      <td>0</td>\n",
       "      <td>0</td>\n",
       "      <td>0</td>\n",
       "      <td>0</td>\n",
       "    </tr>\n",
       "    <tr>\n",
       "      <th>1</th>\n",
       "      <td>MT</td>\n",
       "      <td>Total</td>\n",
       "      <td>2023-10-16 18:04:51.632000+00:00</td>\n",
       "      <td>2023-10-17 18:19:46+00:00</td>\n",
       "      <td>2023-11-01 23:58:59+00:00</td>\n",
       "      <td>2023-10-27 11:54:59+00:00</td>\n",
       "      <td>2023-10-30 23:59:59+00:00</td>\n",
       "      <td>Entregue</td>\n",
       "      <td>9.0</td>\n",
       "      <td>0</td>\n",
       "      <td>32231027403527000385550010003704651604294733</td>\n",
       "      <td>1.0</td>\n",
       "      <td>0</td>\n",
       "      <td>2023-10</td>\n",
       "      <td>CentroOeste</td>\n",
       "      <td>32231027403527000385550010003704651604294733</td>\n",
       "      <td>2023-10-16 00:00:00+00:00</td>\n",
       "      <td>1</td>\n",
       "      <td>0</td>\n",
       "      <td>0</td>\n",
       "      <td>0</td>\n",
       "      <td>0</td>\n",
       "      <td>1</td>\n",
       "      <td>1</td>\n",
       "      <td>0</td>\n",
       "      <td>0</td>\n",
       "      <td>0</td>\n",
       "      <td>0</td>\n",
       "    </tr>\n",
       "    <tr>\n",
       "      <th>2</th>\n",
       "      <td>SC</td>\n",
       "      <td>Loggi</td>\n",
       "      <td>2023-10-18 10:20:17.853000+00:00</td>\n",
       "      <td>2023-10-18 17:42:27+00:00</td>\n",
       "      <td>2023-11-01 23:58:59+00:00</td>\n",
       "      <td>2023-10-27 14:40:59+00:00</td>\n",
       "      <td>2023-10-26 23:59:59+00:00</td>\n",
       "      <td>Entregue</td>\n",
       "      <td>6.0</td>\n",
       "      <td>0</td>\n",
       "      <td>32231027403527000385550010003713691968754968</td>\n",
       "      <td>1.0</td>\n",
       "      <td>0</td>\n",
       "      <td>2023-10</td>\n",
       "      <td>Sul</td>\n",
       "      <td>32231027403527000385550010003713691968754968</td>\n",
       "      <td>2023-10-18 00:00:00+00:00</td>\n",
       "      <td>0</td>\n",
       "      <td>0</td>\n",
       "      <td>0</td>\n",
       "      <td>0</td>\n",
       "      <td>1</td>\n",
       "      <td>0</td>\n",
       "      <td>0</td>\n",
       "      <td>0</td>\n",
       "      <td>0</td>\n",
       "      <td>0</td>\n",
       "      <td>1</td>\n",
       "    </tr>\n",
       "    <tr>\n",
       "      <th>3</th>\n",
       "      <td>SP</td>\n",
       "      <td>Loggi</td>\n",
       "      <td>2023-10-18 08:07:42.429000+00:00</td>\n",
       "      <td>2023-10-18 17:42:27+00:00</td>\n",
       "      <td>2023-11-01 23:58:59+00:00</td>\n",
       "      <td>2023-10-25 18:23:59+00:00</td>\n",
       "      <td>2023-10-26 23:59:59+00:00</td>\n",
       "      <td>Entregue</td>\n",
       "      <td>6.0</td>\n",
       "      <td>0</td>\n",
       "      <td>32231027403527000385550010003711891757010537</td>\n",
       "      <td>1.0</td>\n",
       "      <td>0</td>\n",
       "      <td>2023-10</td>\n",
       "      <td>Sudeste</td>\n",
       "      <td>32231027403527000385550010003711891757010537</td>\n",
       "      <td>2023-10-18 00:00:00+00:00</td>\n",
       "      <td>0</td>\n",
       "      <td>0</td>\n",
       "      <td>0</td>\n",
       "      <td>0</td>\n",
       "      <td>1</td>\n",
       "      <td>0</td>\n",
       "      <td>0</td>\n",
       "      <td>0</td>\n",
       "      <td>0</td>\n",
       "      <td>1</td>\n",
       "      <td>0</td>\n",
       "    </tr>\n",
       "    <tr>\n",
       "      <th>4</th>\n",
       "      <td>SP</td>\n",
       "      <td>Loggi</td>\n",
       "      <td>2023-10-18 17:25:29.989000+00:00</td>\n",
       "      <td>2023-10-19 17:58:44+00:00</td>\n",
       "      <td>2023-10-24 23:58:59+00:00</td>\n",
       "      <td>2023-10-23 10:48:59+00:00</td>\n",
       "      <td>2023-10-24 23:59:59+00:00</td>\n",
       "      <td>Entregue</td>\n",
       "      <td>3.0</td>\n",
       "      <td>1</td>\n",
       "      <td>32231027403527000385550010003715971896074902</td>\n",
       "      <td>0.0</td>\n",
       "      <td>0</td>\n",
       "      <td>2023-10</td>\n",
       "      <td>Sudeste</td>\n",
       "      <td>32231027403527000385550010003715971896074902</td>\n",
       "      <td>2023-10-18 00:00:00+00:00</td>\n",
       "      <td>1</td>\n",
       "      <td>0</td>\n",
       "      <td>0</td>\n",
       "      <td>0</td>\n",
       "      <td>1</td>\n",
       "      <td>0</td>\n",
       "      <td>0</td>\n",
       "      <td>0</td>\n",
       "      <td>0</td>\n",
       "      <td>1</td>\n",
       "      <td>0</td>\n",
       "    </tr>\n",
       "  </tbody>\n",
       "</table>\n",
       "</div>"
      ],
      "text/plain": [
       "   uf transportadora                     data_criacao  \\\n",
       "0  MS          Total 2023-10-15 08:28:05.999000+00:00   \n",
       "1  MT          Total 2023-10-16 18:04:51.632000+00:00   \n",
       "2  SC          Loggi 2023-10-18 10:20:17.853000+00:00   \n",
       "3  SP          Loggi 2023-10-18 08:07:42.429000+00:00   \n",
       "4  SP          Loggi 2023-10-18 17:25:29.989000+00:00   \n",
       "\n",
       "              data_despacho  previsao_entrega_cliente  \\\n",
       "0 2023-10-17 18:19:46+00:00 2023-11-01 23:58:59+00:00   \n",
       "1 2023-10-17 18:19:46+00:00 2023-11-01 23:58:59+00:00   \n",
       "2 2023-10-18 17:42:27+00:00 2023-11-01 23:58:59+00:00   \n",
       "3 2023-10-18 17:42:27+00:00 2023-11-01 23:58:59+00:00   \n",
       "4 2023-10-19 17:58:44+00:00 2023-10-24 23:58:59+00:00   \n",
       "\n",
       "               data_entrega   previsao_entrega_transp status_transportador  \\\n",
       "0 2023-10-24 14:43:59+00:00 2023-10-30 23:59:59+00:00             Entregue   \n",
       "1 2023-10-27 11:54:59+00:00 2023-10-30 23:59:59+00:00             Entregue   \n",
       "2 2023-10-27 14:40:59+00:00 2023-10-26 23:59:59+00:00             Entregue   \n",
       "3 2023-10-25 18:23:59+00:00 2023-10-26 23:59:59+00:00             Entregue   \n",
       "4 2023-10-23 10:48:59+00:00 2023-10-24 23:59:59+00:00             Entregue   \n",
       "\n",
       "   prazo_transportadora_dias_uteis  praca  \\\n",
       "0                              9.0      1   \n",
       "1                              9.0      0   \n",
       "2                              6.0      0   \n",
       "3                              6.0      0   \n",
       "4                              3.0      1   \n",
       "\n",
       "                                  chave_da_nota  quantidade_de_ocorrencias  \\\n",
       "0  32231027403527000385550010003694421223920208                        1.0   \n",
       "1  32231027403527000385550010003704651604294733                        1.0   \n",
       "2  32231027403527000385550010003713691968754968                        1.0   \n",
       "3  32231027403527000385550010003711891757010537                        1.0   \n",
       "4  32231027403527000385550010003715971896074902                        0.0   \n",
       "\n",
       "   situacao      mes       region  \\\n",
       "0         0  2023-10  CentroOeste   \n",
       "1         0  2023-10  CentroOeste   \n",
       "2         0  2023-10          Sul   \n",
       "3         0  2023-10      Sudeste   \n",
       "4         0  2023-10      Sudeste   \n",
       "\n",
       "                               chave_acesso_NFe            criado_shopify  \\\n",
       "0  32231027403527000385550010003694421223920208 2023-10-15 00:00:00+00:00   \n",
       "1  32231027403527000385550010003704651604294733 2023-10-16 00:00:00+00:00   \n",
       "2  32231027403527000385550010003713691968754968 2023-10-18 00:00:00+00:00   \n",
       "3  32231027403527000385550010003711891757010537 2023-10-18 00:00:00+00:00   \n",
       "4  32231027403527000385550010003715971896074902 2023-10-18 00:00:00+00:00   \n",
       "\n",
       "   tempo_total_despacho  campaing  transportadora_Braspress  \\\n",
       "0                     2         0                         0   \n",
       "1                     1         0                         0   \n",
       "2                     0         0                         0   \n",
       "3                     0         0                         0   \n",
       "4                     1         0                         0   \n",
       "\n",
       "   transportadora_Correios  transportadora_Loggi  transportadora_Total  \\\n",
       "0                        0                     0                     1   \n",
       "1                        0                     0                     1   \n",
       "2                        0                     1                     0   \n",
       "3                        0                     1                     0   \n",
       "4                        0                     1                     0   \n",
       "\n",
       "   regiao_CentroOeste  regiao_Nordeste  regiao_Norte  regiao_Sudeste  \\\n",
       "0                   1                0             0               0   \n",
       "1                   1                0             0               0   \n",
       "2                   0                0             0               0   \n",
       "3                   0                0             0               1   \n",
       "4                   0                0             0               1   \n",
       "\n",
       "   regiao_Sul  \n",
       "0           0  \n",
       "1           0  \n",
       "2           1  \n",
       "3           0  \n",
       "4           0  "
      ]
     },
     "execution_count": 213,
     "metadata": {},
     "output_type": "execute_result"
    }
   ],
   "source": [
    "dummy_df = pd.get_dummies(variaveis_interesse['region'], prefix='regiao',)\n",
    "variaveis_interesse = pd.concat([variaveis_interesse, dummy_df], axis=1)\n",
    "variaveis_interesse.head()"
   ]
  },
  {
   "cell_type": "markdown",
   "metadata": {},
   "source": [
    "## Tempo de faturamento"
   ]
  },
  {
   "cell_type": "code",
   "execution_count": 76,
   "metadata": {},
   "outputs": [],
   "source": [
    "notas = tuple(variaveis_interesse['chave_da_nota'])"
   ]
  },
  {
   "cell_type": "code",
   "execution_count": 77,
   "metadata": {},
   "outputs": [],
   "source": [
    "df_notas = get_date_order(notas)"
   ]
  },
  {
   "cell_type": "code",
   "execution_count": 78,
   "metadata": {},
   "outputs": [
    {
     "data": {
      "text/html": [
       "<div>\n",
       "<style scoped>\n",
       "    .dataframe tbody tr th:only-of-type {\n",
       "        vertical-align: middle;\n",
       "    }\n",
       "\n",
       "    .dataframe tbody tr th {\n",
       "        vertical-align: top;\n",
       "    }\n",
       "\n",
       "    .dataframe thead th {\n",
       "        text-align: right;\n",
       "    }\n",
       "</style>\n",
       "<table border=\"1\" class=\"dataframe\">\n",
       "  <thead>\n",
       "    <tr style=\"text-align: right;\">\n",
       "      <th></th>\n",
       "      <th>chave_acesso_NFe</th>\n",
       "      <th>criado_shopify</th>\n",
       "    </tr>\n",
       "  </thead>\n",
       "  <tbody>\n",
       "    <tr>\n",
       "      <th>0</th>\n",
       "      <td>32230627403527000385550010002877661228020275</td>\n",
       "      <td>2023-06-01</td>\n",
       "    </tr>\n",
       "    <tr>\n",
       "      <th>1</th>\n",
       "      <td>32230627403527000385550010002877721439287171</td>\n",
       "      <td>2023-06-01</td>\n",
       "    </tr>\n",
       "    <tr>\n",
       "      <th>2</th>\n",
       "      <td>32230627403527000385550010002877751780132109</td>\n",
       "      <td>2023-06-01</td>\n",
       "    </tr>\n",
       "    <tr>\n",
       "      <th>3</th>\n",
       "      <td>32230627403527000385550010002877811892613947</td>\n",
       "      <td>2023-06-01</td>\n",
       "    </tr>\n",
       "    <tr>\n",
       "      <th>4</th>\n",
       "      <td>32230627403527000385550010002877991370164142</td>\n",
       "      <td>2023-06-01</td>\n",
       "    </tr>\n",
       "  </tbody>\n",
       "</table>\n",
       "</div>"
      ],
      "text/plain": [
       "                               chave_acesso_NFe criado_shopify\n",
       "0  32230627403527000385550010002877661228020275     2023-06-01\n",
       "1  32230627403527000385550010002877721439287171     2023-06-01\n",
       "2  32230627403527000385550010002877751780132109     2023-06-01\n",
       "3  32230627403527000385550010002877811892613947     2023-06-01\n",
       "4  32230627403527000385550010002877991370164142     2023-06-01"
      ]
     },
     "execution_count": 78,
     "metadata": {},
     "output_type": "execute_result"
    }
   ],
   "source": [
    "df_notas.head()"
   ]
  },
  {
   "cell_type": "code",
   "execution_count": 79,
   "metadata": {},
   "outputs": [
    {
     "name": "stdout",
     "output_type": "stream",
     "text": [
      "<class 'pandas.core.frame.DataFrame'>\n",
      "RangeIndex: 70301 entries, 0 to 70300\n",
      "Data columns (total 2 columns):\n",
      " #   Column            Non-Null Count  Dtype \n",
      "---  ------            --------------  ----- \n",
      " 0   chave_acesso_NFe  70301 non-null  object\n",
      " 1   criado_shopify    70301 non-null  object\n",
      "dtypes: object(2)\n",
      "memory usage: 1.1+ MB\n"
     ]
    }
   ],
   "source": [
    "df_notas.info()\n"
   ]
  },
  {
   "cell_type": "code",
   "execution_count": 80,
   "metadata": {},
   "outputs": [],
   "source": [
    "df_notas['criado_shopify'] = pd.to_datetime(df_notas['criado_shopify'])"
   ]
  },
  {
   "cell_type": "code",
   "execution_count": 81,
   "metadata": {},
   "outputs": [],
   "source": [
    "variaveis_interesse = variaveis_interesse.merge(\n",
    "    df_notas, \n",
    "    left_on = 'chave_da_nota', right_on = 'chave_acesso_NFe', \n",
    "    how = 'left'\n",
    ")"
   ]
  },
  {
   "cell_type": "code",
   "execution_count": 82,
   "metadata": {},
   "outputs": [
    {
     "name": "stdout",
     "output_type": "stream",
     "text": [
      "<class 'pandas.core.frame.DataFrame'>\n",
      "Int64Index: 71290 entries, 0 to 71289\n",
      "Data columns (total 22 columns):\n",
      " #   Column                           Non-Null Count  Dtype              \n",
      "---  ------                           --------------  -----              \n",
      " 0   uf                               71290 non-null  object             \n",
      " 1   transportadora                   71290 non-null  object             \n",
      " 2   data_criacao                     71290 non-null  datetime64[ns, UTC]\n",
      " 3   data_despacho                    71290 non-null  datetime64[ns, UTC]\n",
      " 4   previsao_entrega_cliente         71290 non-null  datetime64[ns, UTC]\n",
      " 5   data_entrega                     71290 non-null  datetime64[ns, UTC]\n",
      " 6   previsao_entrega_transp          71290 non-null  datetime64[ns, UTC]\n",
      " 7   status_transportador             71290 non-null  object             \n",
      " 8   prazo_transportadora_dias_uteis  71290 non-null  float64            \n",
      " 9   praca                            71290 non-null  object             \n",
      " 10  chave_da_nota                    71290 non-null  object             \n",
      " 11  quantidade_de_ocorrencias        71290 non-null  float64            \n",
      " 12  situacao                         71290 non-null  object             \n",
      " 13  mes                              71290 non-null  period[M]          \n",
      " 14  region                           71290 non-null  object             \n",
      " 15  regiao_Centro-Oeste              71290 non-null  uint8              \n",
      " 16  regiao_Nordeste                  71290 non-null  uint8              \n",
      " 17  regiao_Norte                     71290 non-null  uint8              \n",
      " 18  regiao_Sudeste                   71290 non-null  uint8              \n",
      " 19  regiao_Sul                       71290 non-null  uint8              \n",
      " 20  chave_acesso_NFe                 70301 non-null  object             \n",
      " 21  criado_shopify                   70301 non-null  datetime64[ns]     \n",
      "dtypes: datetime64[ns, UTC](5), datetime64[ns](1), float64(2), object(8), period[M](1), uint8(5)\n",
      "memory usage: 10.1+ MB\n"
     ]
    }
   ],
   "source": [
    "variaveis_interesse.info()"
   ]
  },
  {
   "cell_type": "code",
   "execution_count": 83,
   "metadata": {},
   "outputs": [
    {
     "data": {
      "text/plain": [
       "989"
      ]
     },
     "execution_count": 83,
     "metadata": {},
     "output_type": "execute_result"
    }
   ],
   "source": [
    "variaveis_interesse['criado_shopify'].isnull().sum()"
   ]
  },
  {
   "cell_type": "code",
   "execution_count": 84,
   "metadata": {},
   "outputs": [],
   "source": [
    "variaveis_interesse['criado_shopify'] = variaveis_interesse['criado_shopify'].fillna(variaveis_interesse['data_criacao'])"
   ]
  },
  {
   "cell_type": "code",
   "execution_count": 85,
   "metadata": {},
   "outputs": [
    {
     "data": {
      "text/plain": [
       "0        2023-10-15 00:00:00\n",
       "1        2023-10-16 00:00:00\n",
       "2        2023-10-18 00:00:00\n",
       "3        2023-10-18 00:00:00\n",
       "4        2023-10-18 00:00:00\n",
       "                ...         \n",
       "71285    2023-06-17 00:00:00\n",
       "71286    2023-06-17 00:00:00\n",
       "71287    2023-06-17 00:00:00\n",
       "71288    2023-06-17 00:00:00\n",
       "71289    2023-06-17 00:00:00\n",
       "Name: criado_shopify, Length: 71290, dtype: object"
      ]
     },
     "execution_count": 85,
     "metadata": {},
     "output_type": "execute_result"
    }
   ],
   "source": [
    "variaveis_interesse['criado_shopify']"
   ]
  },
  {
   "cell_type": "markdown",
   "metadata": {},
   "source": [
    "# Tempo integração até despacho"
   ]
  },
  {
   "cell_type": "code",
   "execution_count": 86,
   "metadata": {},
   "outputs": [
    {
     "name": "stdout",
     "output_type": "stream",
     "text": [
      "<class 'pandas.core.frame.DataFrame'>\n",
      "Int64Index: 71290 entries, 0 to 71289\n",
      "Data columns (total 22 columns):\n",
      " #   Column                           Non-Null Count  Dtype              \n",
      "---  ------                           --------------  -----              \n",
      " 0   uf                               71290 non-null  object             \n",
      " 1   transportadora                   71290 non-null  object             \n",
      " 2   data_criacao                     71290 non-null  datetime64[ns, UTC]\n",
      " 3   data_despacho                    71290 non-null  datetime64[ns, UTC]\n",
      " 4   previsao_entrega_cliente         71290 non-null  datetime64[ns, UTC]\n",
      " 5   data_entrega                     71290 non-null  datetime64[ns, UTC]\n",
      " 6   previsao_entrega_transp          71290 non-null  datetime64[ns, UTC]\n",
      " 7   status_transportador             71290 non-null  object             \n",
      " 8   prazo_transportadora_dias_uteis  71290 non-null  float64            \n",
      " 9   praca                            71290 non-null  object             \n",
      " 10  chave_da_nota                    71290 non-null  object             \n",
      " 11  quantidade_de_ocorrencias        71290 non-null  float64            \n",
      " 12  situacao                         71290 non-null  object             \n",
      " 13  mes                              71290 non-null  period[M]          \n",
      " 14  region                           71290 non-null  object             \n",
      " 15  regiao_Centro-Oeste              71290 non-null  uint8              \n",
      " 16  regiao_Nordeste                  71290 non-null  uint8              \n",
      " 17  regiao_Norte                     71290 non-null  uint8              \n",
      " 18  regiao_Sudeste                   71290 non-null  uint8              \n",
      " 19  regiao_Sul                       71290 non-null  uint8              \n",
      " 20  chave_acesso_NFe                 70301 non-null  object             \n",
      " 21  criado_shopify                   71290 non-null  object             \n",
      "dtypes: datetime64[ns, UTC](5), float64(2), object(9), period[M](1), uint8(5)\n",
      "memory usage: 10.1+ MB\n"
     ]
    }
   ],
   "source": [
    "variaveis_interesse.info()"
   ]
  },
  {
   "cell_type": "code",
   "execution_count": 87,
   "metadata": {},
   "outputs": [],
   "source": [
    "variaveis_interesse['criado_shopify'] = pd.to_datetime(variaveis_interesse['criado_shopify'],utc = True)"
   ]
  },
  {
   "cell_type": "code",
   "execution_count": 88,
   "metadata": {},
   "outputs": [],
   "source": [
    "variaveis_interesse['tempo_total_despacho'] = (variaveis_interesse['data_despacho'] - variaveis_interesse['criado_shopify']).dt.days.astype(int)"
   ]
  },
  {
   "cell_type": "code",
   "execution_count": 90,
   "metadata": {},
   "outputs": [
    {
     "data": {
      "text/plain": [
       "<AxesSubplot:>"
      ]
     },
     "execution_count": 90,
     "metadata": {},
     "output_type": "execute_result"
    },
    {
     "data": {
      "image/png": "[encoded data removed]",
      "text/plain": [
       "<Figure size 432x288 with 1 Axes>"
      ]
     },
     "metadata": {
      "needs_background": "light"
     },
     "output_type": "display_data"
    }
   ],
   "source": [
    "variaveis_interesse['tempo_total_despacho'].value_counts().sort_index().plot(kind='bar')\n"
   ]
  },
  {
   "cell_type": "code",
   "execution_count": 351,
   "metadata": {},
   "outputs": [
    {
     "data": {
      "image/png": "[encoded data removed]",
      "text/plain": [
       "<Figure size 432x288 with 1 Axes>"
      ]
     },
     "metadata": {
      "needs_background": "light"
     },
     "output_type": "display_data"
    }
   ],
   "source": [
    "import matplotlib.pyplot as plt\n",
    "import seaborn as sns\n",
    "\n",
    "\n",
    "# Assuming 'tempo_total_despacho' is a numerical column in your DataFrame\n",
    "# Replace 'your_dataframe' with the actual DataFrame containing your data\n",
    "\n",
    "plt.title('Tempo total de despacho por situação da entrega')\n",
    "sns.boxplot(x='situacao',y='tempo_total_despacho', data=variaveis_interesse)\n",
    "plt.show()\n",
    "\n"
   ]
  },
  {
   "cell_type": "code",
   "execution_count": 377,
   "metadata": {},
   "outputs": [
    {
     "name": "stdout",
     "output_type": "stream",
     "text": [
      "Estatística atrasado \n",
      " count    60936.000000\n",
      "mean         2.190134\n",
      "std          1.900008\n",
      "min          0.000000\n",
      "25%          1.000000\n",
      "50%          2.000000\n",
      "75%          3.000000\n",
      "max         14.000000\n",
      "Name: tempo_total_despacho, dtype: float64\n",
      "\n",
      "Estatística no prazo \n",
      " count    10354.000000\n",
      "mean         3.371934\n",
      "std          2.342595\n",
      "min          0.000000\n",
      "25%          2.000000\n",
      "50%          3.000000\n",
      "75%          5.000000\n",
      "max         38.000000\n",
      "Name: tempo_total_despacho, dtype: float64\n"
     ]
    }
   ],
   "source": [
    "tdespacho_estatis_atrasado = variaveis_interesse.query(\"situacao == 'No prazo'\")['tempo_total_despacho'].describe()\n",
    "tdespacho_estatis_noprazo = variaveis_interesse.query(\"situacao == 'Atrasado'\")['tempo_total_despacho'].describe()\n",
    "print(f'Estatística atrasado \\n {tdespacho_estatis_atrasado}')\n",
    "print()\n",
    "print(f'Estatística no prazo \\n {tdespacho_estatis_noprazo}')"
   ]
  },
  {
   "cell_type": "code",
   "execution_count": 353,
   "metadata": {},
   "outputs": [
    {
     "data": {
      "image/png": "[encoded data removed]",
      "text/plain": [
       "<Figure size 432x288 with 1 Axes>"
      ]
     },
     "metadata": {
      "needs_background": "light"
     },
     "output_type": "display_data"
    }
   ],
   "source": [
    "import matplotlib.pyplot as plt\n",
    "import seaborn as sns\n",
    "\n",
    "\n",
    "plt.title('Prazo de entrega da transportadora por situação da entrega')\n",
    "sns.boxplot(x='situacao',y='prazo_transportadora_dias_uteis', data=variaveis_interesse)\n",
    "plt.show()\n",
    "\n"
   ]
  },
  {
   "cell_type": "code",
   "execution_count": 376,
   "metadata": {},
   "outputs": [
    {
     "name": "stdout",
     "output_type": "stream",
     "text": [
      "Estatística atrasado \n",
      " count    10354.000000\n",
      "mean         3.126328\n",
      "std          1.797612\n",
      "min          1.000000\n",
      "25%          2.000000\n",
      "50%          3.000000\n",
      "75%          3.000000\n",
      "max         23.000000\n",
      "Name: prazo_transportadora_dias_uteis, dtype: float64\n",
      "\n",
      "Estatística no prazo \n",
      " count    60936.000000\n",
      "mean         3.838552\n",
      "std          2.328019\n",
      "min          1.000000\n",
      "25%          2.000000\n",
      "50%          3.000000\n",
      "75%          5.000000\n",
      "max         37.000000\n",
      "Name: prazo_transportadora_dias_uteis, dtype: float64\n"
     ]
    }
   ],
   "source": [
    "prazo_estatis_atrasado = variaveis_interesse.query(\"situacao == 'Atrasado'\")['prazo_transportadora_dias_uteis'].describe()\n",
    "prazo_estatis_noprazo = variaveis_interesse.query(\"situacao == 'No prazo'\")['prazo_transportadora_dias_uteis'].describe()\n",
    "\n",
    "print(f'Estatística atrasado \\n {prazo_estatis_atrasado}')\n",
    "print()\n",
    "print(f'Estatística no prazo \\n {prazo_estatis_noprazo}')"
   ]
  },
  {
   "cell_type": "markdown",
   "metadata": {},
   "source": [
    "## Campanha"
   ]
  },
  {
   "cell_type": "code",
   "execution_count": 94,
   "metadata": {},
   "outputs": [],
   "source": [
    "# Define the date ranges and corresponding categories\n",
    "'''\n",
    "\n",
    "date_ranges = {\n",
    "    'Choconilla': (pd.to_datetime('2023-04-10'), pd.to_datetime('2023-04-28')),\n",
    "    'RTD': (pd.to_datetime('2023-07-11'), pd.to_datetime('2023-07-21')),\n",
    "    'Paçoca': (pd.to_datetime('2023-08-28'), pd.to_datetime('2023-08-31')),\n",
    "    'Beijinho': (pd.to_datetime('2023-09-25'), pd.to_datetime('2023-09-29')),\n",
    "    'Black Friday':(pd.to_datetime('2023-11-05'),pd.to_datetime('2023-11-30'))}\n",
    "'''\n",
    "\n",
    "date_ranges = {\n",
    "    'Choconilla': (pd.Timestamp('2023-04-10', tz='UTC'), pd.Timestamp('2023-04-28', tz='UTC')),\n",
    "    'RTD': (pd.Timestamp('2023-07-11', tz='UTC'), pd.Timestamp('2023-07-21', tz='UTC')),\n",
    "    'Paçoca': (pd.Timestamp('2023-08-28', tz='UTC'), pd.Timestamp('2023-08-31', tz='UTC')),\n",
    "    'Beijinho': (pd.Timestamp('2023-09-25', tz='UTC'), pd.Timestamp('2023-09-29', tz='UTC')),\n",
    "    'BlackFriday': (pd.Timestamp('2023-11-01', tz='UTC'), pd.Timestamp('2023-11-30', tz='UTC')),\n",
    "    'Sampling': (pd.Timestamp('2023-10-23', tz='UTC'), pd.Timestamp('2023-11-01', tz='UTC')),\n",
    "}\n",
    "\n",
    "\n",
    "# Create a new column 'event' with values 1 or 0 based on date ranges\n",
    "variaveis_interesse['campaing'] = 0  # Initialize 'event' column with 0\n",
    "for category, (start_date, end_date) in date_ranges.items():\n",
    "    variaveis_interesse.loc[variaveis_interesse['criado_shopify'].between(start_date, end_date), 'campaing'] = 1\n",
    "\n",
    "\n"
   ]
  },
  {
   "cell_type": "code",
   "execution_count": 95,
   "metadata": {},
   "outputs": [
    {
     "data": {
      "text/plain": [
       "1    35821\n",
       "0    35469\n",
       "Name: campaing, dtype: int64"
      ]
     },
     "execution_count": 95,
     "metadata": {},
     "output_type": "execute_result"
    }
   ],
   "source": [
    "# Display the resulting DataFrame\n",
    "variaveis_interesse['campaing'].value_counts()"
   ]
  },
  {
   "cell_type": "code",
   "execution_count": 324,
   "metadata": {},
   "outputs": [
    {
     "data": {
      "text/html": [
       "<div>\n",
       "<style scoped>\n",
       "    .dataframe tbody tr th:only-of-type {\n",
       "        vertical-align: middle;\n",
       "    }\n",
       "\n",
       "    .dataframe tbody tr th {\n",
       "        vertical-align: top;\n",
       "    }\n",
       "\n",
       "    .dataframe thead th {\n",
       "        text-align: right;\n",
       "    }\n",
       "</style>\n",
       "<table border=\"1\" class=\"dataframe\">\n",
       "  <thead>\n",
       "    <tr style=\"text-align: right;\">\n",
       "      <th>situacao</th>\n",
       "      <th>Atrasado</th>\n",
       "      <th>No prazo</th>\n",
       "    </tr>\n",
       "    <tr>\n",
       "      <th>campaing</th>\n",
       "      <th></th>\n",
       "      <th></th>\n",
       "    </tr>\n",
       "  </thead>\n",
       "  <tbody>\n",
       "    <tr>\n",
       "      <th>0</th>\n",
       "      <td>6224</td>\n",
       "      <td>29245</td>\n",
       "    </tr>\n",
       "    <tr>\n",
       "      <th>1</th>\n",
       "      <td>4130</td>\n",
       "      <td>31691</td>\n",
       "    </tr>\n",
       "  </tbody>\n",
       "</table>\n",
       "</div>"
      ],
      "text/plain": [
       "situacao  Atrasado  No prazo\n",
       "campaing                    \n",
       "0             6224     29245\n",
       "1             4130     31691"
      ]
     },
     "execution_count": 324,
     "metadata": {},
     "output_type": "execute_result"
    }
   ],
   "source": [
    "campanhas = variaveis_interesse.groupby(['campaing', 'situacao']).size().unstack()\n",
    "campanhas"
   ]
  },
  {
   "cell_type": "code",
   "execution_count": 96,
   "metadata": {},
   "outputs": [
    {
     "data": {
      "text/html": [
       "<div>\n",
       "<style scoped>\n",
       "    .dataframe tbody tr th:only-of-type {\n",
       "        vertical-align: middle;\n",
       "    }\n",
       "\n",
       "    .dataframe tbody tr th {\n",
       "        vertical-align: top;\n",
       "    }\n",
       "\n",
       "    .dataframe thead th {\n",
       "        text-align: right;\n",
       "    }\n",
       "</style>\n",
       "<table border=\"1\" class=\"dataframe\">\n",
       "  <thead>\n",
       "    <tr style=\"text-align: right;\">\n",
       "      <th></th>\n",
       "      <th>uf</th>\n",
       "      <th>transportadora</th>\n",
       "      <th>data_criacao</th>\n",
       "      <th>data_despacho</th>\n",
       "      <th>previsao_entrega_cliente</th>\n",
       "      <th>data_entrega</th>\n",
       "      <th>previsao_entrega_transp</th>\n",
       "      <th>status_transportador</th>\n",
       "      <th>prazo_transportadora_dias_uteis</th>\n",
       "      <th>praca</th>\n",
       "      <th>chave_da_nota</th>\n",
       "      <th>quantidade_de_ocorrencias</th>\n",
       "      <th>situacao</th>\n",
       "      <th>mes</th>\n",
       "      <th>region</th>\n",
       "      <th>regiao_Centro-Oeste</th>\n",
       "      <th>regiao_Nordeste</th>\n",
       "      <th>regiao_Norte</th>\n",
       "      <th>regiao_Sudeste</th>\n",
       "      <th>regiao_Sul</th>\n",
       "      <th>chave_acesso_NFe</th>\n",
       "      <th>criado_shopify</th>\n",
       "      <th>tempo_total_despacho</th>\n",
       "      <th>campaing</th>\n",
       "    </tr>\n",
       "  </thead>\n",
       "  <tbody>\n",
       "    <tr>\n",
       "      <th>0</th>\n",
       "      <td>MS</td>\n",
       "      <td>Total</td>\n",
       "      <td>2023-10-15 08:28:05.999000+00:00</td>\n",
       "      <td>2023-10-17 18:19:46+00:00</td>\n",
       "      <td>2023-11-01 23:58:59+00:00</td>\n",
       "      <td>2023-10-24 14:43:59+00:00</td>\n",
       "      <td>2023-10-30 23:59:59+00:00</td>\n",
       "      <td>Entregue</td>\n",
       "      <td>9.0</td>\n",
       "      <td>Capital</td>\n",
       "      <td>32231027403527000385550010003694421223920208</td>\n",
       "      <td>1.0</td>\n",
       "      <td>No prazo</td>\n",
       "      <td>2023-10</td>\n",
       "      <td>Centro-Oeste</td>\n",
       "      <td>1</td>\n",
       "      <td>0</td>\n",
       "      <td>0</td>\n",
       "      <td>0</td>\n",
       "      <td>0</td>\n",
       "      <td>32231027403527000385550010003694421223920208</td>\n",
       "      <td>2023-10-15 00:00:00+00:00</td>\n",
       "      <td>2</td>\n",
       "      <td>0</td>\n",
       "    </tr>\n",
       "    <tr>\n",
       "      <th>1</th>\n",
       "      <td>MT</td>\n",
       "      <td>Total</td>\n",
       "      <td>2023-10-16 18:04:51.632000+00:00</td>\n",
       "      <td>2023-10-17 18:19:46+00:00</td>\n",
       "      <td>2023-11-01 23:58:59+00:00</td>\n",
       "      <td>2023-10-27 11:54:59+00:00</td>\n",
       "      <td>2023-10-30 23:59:59+00:00</td>\n",
       "      <td>Entregue</td>\n",
       "      <td>9.0</td>\n",
       "      <td>Interior</td>\n",
       "      <td>32231027403527000385550010003704651604294733</td>\n",
       "      <td>1.0</td>\n",
       "      <td>No prazo</td>\n",
       "      <td>2023-10</td>\n",
       "      <td>Centro-Oeste</td>\n",
       "      <td>1</td>\n",
       "      <td>0</td>\n",
       "      <td>0</td>\n",
       "      <td>0</td>\n",
       "      <td>0</td>\n",
       "      <td>32231027403527000385550010003704651604294733</td>\n",
       "      <td>2023-10-16 00:00:00+00:00</td>\n",
       "      <td>1</td>\n",
       "      <td>0</td>\n",
       "    </tr>\n",
       "    <tr>\n",
       "      <th>2</th>\n",
       "      <td>SC</td>\n",
       "      <td>Loggi</td>\n",
       "      <td>2023-10-18 10:20:17.853000+00:00</td>\n",
       "      <td>2023-10-18 17:42:27+00:00</td>\n",
       "      <td>2023-11-01 23:58:59+00:00</td>\n",
       "      <td>2023-10-27 14:40:59+00:00</td>\n",
       "      <td>2023-10-26 23:59:59+00:00</td>\n",
       "      <td>Entregue</td>\n",
       "      <td>6.0</td>\n",
       "      <td>Interior</td>\n",
       "      <td>32231027403527000385550010003713691968754968</td>\n",
       "      <td>1.0</td>\n",
       "      <td>No prazo</td>\n",
       "      <td>2023-10</td>\n",
       "      <td>Sul</td>\n",
       "      <td>0</td>\n",
       "      <td>0</td>\n",
       "      <td>0</td>\n",
       "      <td>0</td>\n",
       "      <td>1</td>\n",
       "      <td>32231027403527000385550010003713691968754968</td>\n",
       "      <td>2023-10-18 00:00:00+00:00</td>\n",
       "      <td>0</td>\n",
       "      <td>0</td>\n",
       "    </tr>\n",
       "    <tr>\n",
       "      <th>3</th>\n",
       "      <td>SP</td>\n",
       "      <td>Loggi</td>\n",
       "      <td>2023-10-18 08:07:42.429000+00:00</td>\n",
       "      <td>2023-10-18 17:42:27+00:00</td>\n",
       "      <td>2023-11-01 23:58:59+00:00</td>\n",
       "      <td>2023-10-25 18:23:59+00:00</td>\n",
       "      <td>2023-10-26 23:59:59+00:00</td>\n",
       "      <td>Entregue</td>\n",
       "      <td>6.0</td>\n",
       "      <td>Interior</td>\n",
       "      <td>32231027403527000385550010003711891757010537</td>\n",
       "      <td>1.0</td>\n",
       "      <td>No prazo</td>\n",
       "      <td>2023-10</td>\n",
       "      <td>Sudeste</td>\n",
       "      <td>0</td>\n",
       "      <td>0</td>\n",
       "      <td>0</td>\n",
       "      <td>1</td>\n",
       "      <td>0</td>\n",
       "      <td>32231027403527000385550010003711891757010537</td>\n",
       "      <td>2023-10-18 00:00:00+00:00</td>\n",
       "      <td>0</td>\n",
       "      <td>0</td>\n",
       "    </tr>\n",
       "    <tr>\n",
       "      <th>4</th>\n",
       "      <td>SP</td>\n",
       "      <td>Loggi</td>\n",
       "      <td>2023-10-18 17:25:29.989000+00:00</td>\n",
       "      <td>2023-10-19 17:58:44+00:00</td>\n",
       "      <td>2023-10-24 23:58:59+00:00</td>\n",
       "      <td>2023-10-23 10:48:59+00:00</td>\n",
       "      <td>2023-10-24 23:59:59+00:00</td>\n",
       "      <td>Entregue</td>\n",
       "      <td>3.0</td>\n",
       "      <td>Capital</td>\n",
       "      <td>32231027403527000385550010003715971896074902</td>\n",
       "      <td>0.0</td>\n",
       "      <td>No prazo</td>\n",
       "      <td>2023-10</td>\n",
       "      <td>Sudeste</td>\n",
       "      <td>0</td>\n",
       "      <td>0</td>\n",
       "      <td>0</td>\n",
       "      <td>1</td>\n",
       "      <td>0</td>\n",
       "      <td>32231027403527000385550010003715971896074902</td>\n",
       "      <td>2023-10-18 00:00:00+00:00</td>\n",
       "      <td>1</td>\n",
       "      <td>0</td>\n",
       "    </tr>\n",
       "  </tbody>\n",
       "</table>\n",
       "</div>"
      ],
      "text/plain": [
       "   uf transportadora                     data_criacao  \\\n",
       "0  MS          Total 2023-10-15 08:28:05.999000+00:00   \n",
       "1  MT          Total 2023-10-16 18:04:51.632000+00:00   \n",
       "2  SC          Loggi 2023-10-18 10:20:17.853000+00:00   \n",
       "3  SP          Loggi 2023-10-18 08:07:42.429000+00:00   \n",
       "4  SP          Loggi 2023-10-18 17:25:29.989000+00:00   \n",
       "\n",
       "              data_despacho  previsao_entrega_cliente  \\\n",
       "0 2023-10-17 18:19:46+00:00 2023-11-01 23:58:59+00:00   \n",
       "1 2023-10-17 18:19:46+00:00 2023-11-01 23:58:59+00:00   \n",
       "2 2023-10-18 17:42:27+00:00 2023-11-01 23:58:59+00:00   \n",
       "3 2023-10-18 17:42:27+00:00 2023-11-01 23:58:59+00:00   \n",
       "4 2023-10-19 17:58:44+00:00 2023-10-24 23:58:59+00:00   \n",
       "\n",
       "               data_entrega   previsao_entrega_transp status_transportador  \\\n",
       "0 2023-10-24 14:43:59+00:00 2023-10-30 23:59:59+00:00             Entregue   \n",
       "1 2023-10-27 11:54:59+00:00 2023-10-30 23:59:59+00:00             Entregue   \n",
       "2 2023-10-27 14:40:59+00:00 2023-10-26 23:59:59+00:00             Entregue   \n",
       "3 2023-10-25 18:23:59+00:00 2023-10-26 23:59:59+00:00             Entregue   \n",
       "4 2023-10-23 10:48:59+00:00 2023-10-24 23:59:59+00:00             Entregue   \n",
       "\n",
       "   prazo_transportadora_dias_uteis     praca  \\\n",
       "0                              9.0   Capital   \n",
       "1                              9.0  Interior   \n",
       "2                              6.0  Interior   \n",
       "3                              6.0  Interior   \n",
       "4                              3.0   Capital   \n",
       "\n",
       "                                  chave_da_nota  quantidade_de_ocorrencias  \\\n",
       "0  32231027403527000385550010003694421223920208                        1.0   \n",
       "1  32231027403527000385550010003704651604294733                        1.0   \n",
       "2  32231027403527000385550010003713691968754968                        1.0   \n",
       "3  32231027403527000385550010003711891757010537                        1.0   \n",
       "4  32231027403527000385550010003715971896074902                        0.0   \n",
       "\n",
       "   situacao      mes        region  regiao_Centro-Oeste  regiao_Nordeste  \\\n",
       "0  No prazo  2023-10  Centro-Oeste                    1                0   \n",
       "1  No prazo  2023-10  Centro-Oeste                    1                0   \n",
       "2  No prazo  2023-10           Sul                    0                0   \n",
       "3  No prazo  2023-10       Sudeste                    0                0   \n",
       "4  No prazo  2023-10       Sudeste                    0                0   \n",
       "\n",
       "   regiao_Norte  regiao_Sudeste  regiao_Sul  \\\n",
       "0             0               0           0   \n",
       "1             0               0           0   \n",
       "2             0               0           1   \n",
       "3             0               1           0   \n",
       "4             0               1           0   \n",
       "\n",
       "                               chave_acesso_NFe            criado_shopify  \\\n",
       "0  32231027403527000385550010003694421223920208 2023-10-15 00:00:00+00:00   \n",
       "1  32231027403527000385550010003704651604294733 2023-10-16 00:00:00+00:00   \n",
       "2  32231027403527000385550010003713691968754968 2023-10-18 00:00:00+00:00   \n",
       "3  32231027403527000385550010003711891757010537 2023-10-18 00:00:00+00:00   \n",
       "4  32231027403527000385550010003715971896074902 2023-10-18 00:00:00+00:00   \n",
       "\n",
       "   tempo_total_despacho  campaing  \n",
       "0                     2         0  \n",
       "1                     1         0  \n",
       "2                     0         0  \n",
       "3                     0         0  \n",
       "4                     1         0  "
      ]
     },
     "execution_count": 96,
     "metadata": {},
     "output_type": "execute_result"
    }
   ],
   "source": [
    "variaveis_interesse.head()"
   ]
  },
  {
   "cell_type": "code",
   "execution_count": 210,
   "metadata": {},
   "outputs": [],
   "source": [
    "drop_columns = ['regiao_Centro-Oeste','regiao_Nordeste','regiao_Norte','regiao_Sudeste','regiao_Sul']\n",
    "for i in drop_columns:\n",
    "    variaveis_interesse = variaveis_interesse.drop(columns=i)"
   ]
  },
  {
   "cell_type": "markdown",
   "metadata": {},
   "source": [
    "## Step Wise"
   ]
  },
  {
   "cell_type": "code",
   "execution_count": 275,
   "metadata": {},
   "outputs": [],
   "source": [
    "y = variaveis_interesse['situacao']\n",
    "X = variaveis_interesse[['quantidade_de_ocorrencias','prazo_transportadora_dias_uteis','praca','tempo_total_despacho',\n",
    "                         'transportadora_Correios','transportadora_Total','transportadora_Loggi',\n",
    "                         'campaing',\n",
    "                        'regiao_CentroOeste','regiao_Nordeste','regiao_Norte','regiao_Sul']]"
   ]
  },
  {
   "cell_type": "code",
   "execution_count": 215,
   "metadata": {},
   "outputs": [
    {
     "name": "stdout",
     "output_type": "stream",
     "text": [
      "Optimization terminated successfully.\n",
      "         Current function value: 0.414350\n",
      "         Iterations 6\n",
      "Optimization terminated successfully.\n",
      "         Current function value: 0.413887\n",
      "         Iterations 6\n",
      "Optimization terminated successfully.\n",
      "         Current function value: 0.406674\n",
      "         Iterations 7\n",
      "Optimization terminated successfully.\n",
      "         Current function value: 0.414354\n",
      "         Iterations 6\n",
      "Optimization terminated successfully.\n",
      "         Current function value: 0.411516\n",
      "         Iterations 6\n",
      "Optimization terminated successfully.\n",
      "         Current function value: 0.414334\n",
      "         Iterations 6\n",
      "Optimization terminated successfully.\n",
      "         Current function value: 0.406937\n",
      "         Iterations 6\n",
      "Optimization terminated successfully.\n",
      "         Current function value: 0.413579\n",
      "         Iterations 6\n",
      "Optimization terminated successfully.\n",
      "         Current function value: 0.413623\n",
      "         Iterations 6\n",
      "Optimization terminated successfully.\n",
      "         Current function value: 0.410691\n",
      "         Iterations 6\n",
      "Optimization terminated successfully.\n",
      "         Current function value: 0.394540\n",
      "         Iterations 6\n",
      "Optimization terminated successfully.\n",
      "         Current function value: 0.407582\n",
      "         Iterations 6\n",
      "Added tempo_total_despacho with pseudo R-squared: 0.04783007937524819\n",
      "Optimization terminated successfully.\n",
      "         Current function value: 0.394503\n",
      "         Iterations 6\n",
      "Optimization terminated successfully.\n",
      "         Current function value: 0.393772\n",
      "         Iterations 6\n",
      "Optimization terminated successfully.\n",
      "         Current function value: 0.383695\n",
      "         Iterations 7\n",
      "Optimization terminated successfully.\n",
      "         Current function value: 0.394504\n",
      "         Iterations 6\n",
      "Optimization terminated successfully.\n",
      "         Current function value: 0.391169\n",
      "         Iterations 6\n",
      "Optimization terminated successfully.\n",
      "         Current function value: 0.394449\n",
      "         Iterations 6\n",
      "Optimization terminated successfully.\n",
      "         Current function value: 0.384525\n",
      "         Iterations 7\n",
      "Optimization terminated successfully.\n",
      "         Current function value: 0.392762\n",
      "         Iterations 6\n",
      "Optimization terminated successfully.\n",
      "         Current function value: 0.393610\n",
      "         Iterations 6\n",
      "Optimization terminated successfully.\n",
      "         Current function value: 0.364576\n",
      "         Iterations 7\n",
      "Optimization terminated successfully.\n",
      "         Current function value: 0.385206\n",
      "         Iterations 7\n",
      "Added campaing with pseudo R-squared: 0.12014309086008812\n",
      "Optimization terminated successfully.\n",
      "         Current function value: 0.364562\n",
      "         Iterations 7\n",
      "Optimization terminated successfully.\n",
      "         Current function value: 0.363767\n",
      "         Iterations 7\n",
      "Optimization terminated successfully.\n",
      "         Current function value: 0.355466\n",
      "         Iterations 7\n",
      "Optimization terminated successfully.\n",
      "         Current function value: 0.364563\n",
      "         Iterations 7\n",
      "Optimization terminated successfully.\n",
      "         Current function value: 0.361310\n",
      "         Iterations 7\n",
      "Optimization terminated successfully.\n",
      "         Current function value: 0.364517\n",
      "         Iterations 7\n",
      "Optimization terminated successfully.\n",
      "         Current function value: 0.358399\n",
      "         Iterations 7\n",
      "Optimization terminated successfully.\n",
      "         Current function value: 0.363452\n",
      "         Iterations 7\n",
      "Optimization terminated successfully.\n",
      "         Current function value: 0.363746\n",
      "         Iterations 7\n",
      "Optimization terminated successfully.\n",
      "         Current function value: 0.358875\n",
      "         Iterations 7\n",
      "Added prazo_transportadora_dias_uteis with pseudo R-squared: 0.14212897286855553\n",
      "Optimization terminated successfully.\n",
      "         Current function value: 0.355464\n",
      "         Iterations 7\n",
      "Optimization terminated successfully.\n",
      "         Current function value: 0.355193\n",
      "         Iterations 7\n",
      "Optimization terminated successfully.\n",
      "         Current function value: 0.355372\n",
      "         Iterations 7\n",
      "Optimization terminated successfully.\n",
      "         Current function value: 0.354963\n",
      "         Iterations 7\n",
      "Optimization terminated successfully.\n",
      "         Current function value: 0.354657\n",
      "         Iterations 7\n",
      "Optimization terminated successfully.\n",
      "         Current function value: 0.352416\n",
      "         Iterations 7\n",
      "Optimization terminated successfully.\n",
      "         Current function value: 0.354799\n",
      "         Iterations 7\n",
      "Optimization terminated successfully.\n",
      "         Current function value: 0.355403\n",
      "         Iterations 7\n",
      "Optimization terminated successfully.\n",
      "         Current function value: 0.352738\n",
      "         Iterations 7\n",
      "Added transportadora_Total with pseudo R-squared: 0.1494907259227366\n",
      "Optimization terminated successfully.\n",
      "         Current function value: 0.352416\n",
      "         Iterations 7\n",
      "Optimization terminated successfully.\n",
      "         Current function value: 0.352385\n",
      "         Iterations 7\n",
      "Optimization terminated successfully.\n",
      "         Current function value: 0.352415\n",
      "         Iterations 7\n",
      "Optimization terminated successfully.\n",
      "         Current function value: 0.351778\n",
      "         Iterations 7\n",
      "Optimization terminated successfully.\n",
      "         Current function value: 0.351914\n",
      "         Iterations 7\n",
      "Optimization terminated successfully.\n",
      "         Current function value: 0.351947\n",
      "         Iterations 7\n",
      "Optimization terminated successfully.\n",
      "         Current function value: 0.352348\n",
      "         Iterations 7\n",
      "Optimization terminated successfully.\n",
      "         Current function value: 0.352317\n",
      "         Iterations 7\n",
      "Added praca with pseudo R-squared: 0.1510307264983055\n",
      "Optimization terminated successfully.\n",
      "         Current function value: 0.351778\n",
      "         Iterations 7\n",
      "Optimization terminated successfully.\n",
      "         Current function value: 0.351776\n",
      "         Iterations 7\n",
      "Optimization terminated successfully.\n",
      "         Current function value: 0.351761\n",
      "         Iterations 7\n",
      "Optimization terminated successfully.\n",
      "         Current function value: 0.351410\n",
      "         Iterations 7\n",
      "Optimization terminated successfully.\n",
      "         Current function value: 0.351293\n",
      "         Iterations 7\n",
      "Optimization terminated successfully.\n",
      "         Current function value: 0.351616\n",
      "         Iterations 7\n",
      "Optimization terminated successfully.\n",
      "         Current function value: 0.351679\n",
      "         Iterations 7\n",
      "Added quantidade_de_ocorrencias with pseudo R-squared: 0.15220126973683434\n",
      "Optimization terminated successfully.\n",
      "         Current function value: 0.351292\n",
      "         Iterations 7\n",
      "Optimization terminated successfully.\n",
      "         Current function value: 0.351286\n",
      "         Iterations 7\n",
      "Optimization terminated successfully.\n",
      "         Current function value: 0.351269\n",
      "         Iterations 7\n",
      "Optimization terminated successfully.\n",
      "         Current function value: 0.350905\n",
      "         Iterations 7\n",
      "Optimization terminated successfully.\n",
      "         Current function value: 0.351137\n",
      "         Iterations 7\n",
      "Optimization terminated successfully.\n",
      "         Current function value: 0.351185\n",
      "         Iterations 7\n",
      "Added regiao_Norte with pseudo R-squared: 0.15313768768090097\n",
      "Optimization terminated successfully.\n",
      "         Current function value: 0.350905\n",
      "         Iterations 7\n",
      "Optimization terminated successfully.\n",
      "         Current function value: 0.350892\n",
      "         Iterations 7\n",
      "Optimization terminated successfully.\n",
      "         Current function value: 0.350857\n",
      "         Iterations 7\n",
      "Optimization terminated successfully.\n",
      "         Current function value: 0.350802\n",
      "         Iterations 7\n",
      "Optimization terminated successfully.\n",
      "         Current function value: 0.350801\n",
      "         Iterations 7\n",
      "Added transportadora_Loggi with pseudo R-squared: 0.15338820554047006\n",
      "Optimization terminated successfully.\n",
      "         Current function value: 0.350513\n",
      "         Iterations 7\n",
      "Optimization terminated successfully.\n",
      "         Current function value: 0.350789\n",
      "         Iterations 7\n",
      "Optimization terminated successfully.\n",
      "         Current function value: 0.350753\n",
      "         Iterations 7\n",
      "Optimization terminated successfully.\n",
      "         Current function value: 0.350696\n",
      "         Iterations 7\n",
      "Added transportadora_Correios with pseudo R-squared: 0.15408347951797785\n",
      "Optimization terminated successfully.\n",
      "         Current function value: 0.350495\n",
      "         Iterations 7\n",
      "Optimization terminated successfully.\n",
      "         Current function value: 0.350460\n",
      "         Iterations 7\n",
      "Optimization terminated successfully.\n",
      "         Current function value: 0.350414\n",
      "         Iterations 7\n"
     ]
    },
    {
     "name": "stdout",
     "output_type": "stream",
     "text": [
      "Added regiao_CentroOeste with pseudo R-squared: 0.1543233737788382\n",
      "Optimization terminated successfully.\n",
      "         Current function value: 0.350412\n",
      "         Iterations 7\n",
      "Optimization terminated successfully.\n",
      "         Current function value: 0.350379\n",
      "         Iterations 7\n",
      "Added regiao_Sul with pseudo R-squared: 0.1544063159659207\n",
      "Optimization terminated successfully.\n",
      "         Current function value: 0.350367\n",
      "         Iterations 7\n",
      "Added regiao_Nordeste with pseudo R-squared: 0.15443664966830672\n",
      "Optimization terminated successfully.\n",
      "         Current function value: 0.350367\n",
      "         Iterations 7\n",
      "situacao ~ tempo_total_despacho + campaing + prazo_transportadora_dias_uteis + transportadora_Total + praca + quantidade_de_ocorrencias + regiao_Norte + transportadora_Loggi + transportadora_Correios + regiao_CentroOeste + regiao_Sul + regiao_Nordeste\n",
      "                           Logit Regression Results                           \n",
      "==============================================================================\n",
      "Dep. Variable:               situacao   No. Observations:                71290\n",
      "Model:                          Logit   Df Residuals:                    71277\n",
      "Method:                           MLE   Df Model:                           12\n",
      "Date:                Sun, 21 Jan 2024   Pseudo R-squ.:                  0.1544\n",
      "Time:                        12:11:04   Log-Likelihood:                -24978.\n",
      "converged:                       True   LL-Null:                       -29540.\n",
      "Covariance Type:            nonrobust   LLR p-value:                     0.000\n",
      "===================================================================================================\n",
      "                                      coef    std err          z      P>|z|      [0.025      0.975]\n",
      "---------------------------------------------------------------------------------------------------\n",
      "Intercept                           0.3356      0.305      1.100      0.272      -0.263       0.934\n",
      "tempo_total_despacho                0.5712      0.008     74.232      0.000       0.556       0.586\n",
      "campaing                           -1.8192      0.033    -55.250      0.000      -1.884      -1.755\n",
      "prazo_transportadora_dias_uteis    -0.2000      0.012    -16.144      0.000      -0.224      -0.176\n",
      "transportadora_Total               -2.7953      0.299     -9.350      0.000      -3.381      -2.209\n",
      "praca                               0.2476      0.031      7.976      0.000       0.187       0.308\n",
      "quantidade_de_ocorrencias          -0.3532      0.043     -8.215      0.000      -0.437      -0.269\n",
      "regiao_Norte                        1.0275      0.139      7.398      0.000       0.755       1.300\n",
      "transportadora_Loggi               -2.2182      0.299     -7.426      0.000      -2.804      -1.633\n",
      "transportadora_Correios            -2.2002      0.348     -6.318      0.000      -2.883      -1.518\n",
      "regiao_CentroOeste                 -0.1466      0.055     -2.666      0.008      -0.254      -0.039\n",
      "regiao_Sul                          0.0898      0.035      2.552      0.011       0.021       0.159\n",
      "regiao_Nordeste                     0.0834      0.062      1.340      0.180      -0.039       0.205\n",
      "===================================================================================================\n"
     ]
    }
   ],
   "source": [
    "import statsmodels.api as sm\n",
    "import pandas as pd\n",
    "\n",
    "# Function for stepwise forward selection for logistic regression\n",
    "def forward_selected_logistic(data, response):\n",
    "    remaining = set(data.columns)\n",
    "    remaining.remove(response)  # Remove the response variable\n",
    "    selected = []\n",
    "    current_score, best_new_score = 0, 0\n",
    "    \n",
    "    while remaining and current_score == best_new_score:\n",
    "        scores_with_candidates = []\n",
    "        for candidate in remaining:\n",
    "            formula = \"{} ~ {}\".format(response, ' + '.join(selected + [candidate]))\n",
    "            model = sm.Logit.from_formula(formula, data)\n",
    "            result = model.fit()\n",
    "            score = result.prsquared  # Adjusted R-squared is not directly available for logistic regression\n",
    "            scores_with_candidates.append((score, candidate))\n",
    "        \n",
    "        scores_with_candidates.sort()\n",
    "        best_new_score, best_candidate = scores_with_candidates.pop()\n",
    "        \n",
    "        if current_score < best_new_score:\n",
    "            remaining.remove(best_candidate)\n",
    "            selected.append(best_candidate)\n",
    "            current_score = best_new_score\n",
    "            \n",
    "            print(f\"Added {best_candidate} with pseudo R-squared: {best_new_score}\")\n",
    "    \n",
    "    formula = \"{} ~ {}\".format(response, ' + '.join(selected))\n",
    "    model = sm.Logit.from_formula(formula, data)\n",
    "    result = model.fit()\n",
    "    return result\n",
    "\n",
    "# Combine X and y into a single DataFrame\n",
    "data = pd.concat([X, y], axis=1)\n",
    "\n",
    "# Perform forward stepwise selection for logistic regression\n",
    "result_logistic = forward_selected_logistic(data, 'situacao')\n",
    "\n",
    "# Display the selected features and summary\n",
    "print(result_logistic.model.formula)\n",
    "print(result_logistic.summary())\n"
   ]
  },
  {
   "cell_type": "markdown",
   "metadata": {},
   "source": [
    "## Z Wald"
   ]
  },
  {
   "cell_type": "code",
   "execution_count": 378,
   "metadata": {},
   "outputs": [
    {
     "name": "stdout",
     "output_type": "stream",
     "text": [
      "Optimization terminated successfully.\n",
      "         Current function value: 0.351045\n",
      "         Iterations 7\n",
      "<Wald test (chi2): statistic=[[23308.82228339]], p-value=0.0, df_denom=8>\n"
     ]
    },
    {
     "name": "stderr",
     "output_type": "stream",
     "text": [
      "C:\\Users\\rodri\\anaconda3\\lib\\site-packages\\statsmodels\\base\\model.py:1889: FutureWarning: The behavior of wald_test will change after 0.14 to returning scalar test statistic values. To get the future behavior now, set scalar to True. To silence this message while retaining the legacy behavior, set scalar to False.\n",
      "  warnings.warn(\n"
     ]
    }
   ],
   "source": [
    "import statsmodels.api as sm\n",
    "\n",
    "# Fit logistic regression model\n",
    "model = sm.Logit(y, X)\n",
    "result = model.fit()\n",
    "\n",
    "# Access Wald statistics and p-values\n",
    "wald_statistic = result.wald_test(np.eye(len(result.params)))\n",
    "print(wald_statistic)"
   ]
  },
  {
   "cell_type": "markdown",
   "metadata": {
    "id": "pxgmJ0Cef0J2"
   },
   "source": [
    "## Mudar as variáveis para binárias -> fora do prazo e praça"
   ]
  },
  {
   "cell_type": "code",
   "execution_count": 346,
   "metadata": {
    "id": "BIDO8KitfyUE"
   },
   "outputs": [],
   "source": [
    "mapeamento = {\n",
    "    \"No prazo\": 0, \"Atrasado\": 1,\n",
    "    \"Capital\":1, \"Interior\":0,}\n"
   ]
  },
  {
   "cell_type": "code",
   "execution_count": 347,
   "metadata": {
    "colab": {
     "base_uri": "https://localhost:8080/"
    },
    "id": "OBfgjtHUgYDP",
    "outputId": "a3fe2340-e344-4334-f294-ac32c418f9b9"
   },
   "outputs": [],
   "source": [
    "variaveis_interesse[['situacao','praca']] = variaveis_interesse[['situacao','praca']].replace(mapeamento)"
   ]
  },
  {
   "cell_type": "markdown",
   "metadata": {
    "id": "OgqGSTlWjbi7"
   },
   "source": [
    "### Definindo Variáveis X e Y"
   ]
  },
  {
   "cell_type": "code",
   "execution_count": 249,
   "metadata": {},
   "outputs": [],
   "source": [
    "y = variaveis_interesse['situacao']\n",
    "X = variaveis_interesse[['quantidade_de_ocorrencias','prazo_transportadora_dias_uteis','praca','tempo_total_despacho',\n",
    "                         'transportadora_Correios','transportadora_Total','transportadora_Loggi',\n",
    "                         'campaing',\n",
    "                        'regiao_Norte','regiao_Centro-Oeste','regiao_Norte','regiao_Sudeste','regiao_Sul']]\n"
   ]
  },
  {
   "cell_type": "markdown",
   "metadata": {
    "id": "SkGpp4zfjG7J"
   },
   "source": [
    "### Separando em base e treino"
   ]
  },
  {
   "cell_type": "code",
   "execution_count": 338,
   "metadata": {},
   "outputs": [],
   "source": [
    "from sklearn.model_selection import train_test_split\n",
    "from sklearn.linear_model import LogisticRegression\n",
    "from sklearn import metrics\n",
    "\n",
    "# Split the data into training and testing sets\n",
    "X_train, X_test, y_train, y_test = train_test_split(X, y, test_size=0.25, random_state=31)\n",
    "\n",
    "# Initialize the Logistic Regression model with balanced class weights\n",
    "logistic_regression = LogisticRegression(class_weight='balanced')\n",
    "logistic_regression.fit(X_train, y_train)\n",
    "\n",
    "# Predict probabilities on the test set\n",
    "y_proba = logistic_regression.predict_proba(X_test)[:, 1]\n",
    "\n",
    "\n"
   ]
  },
  {
   "cell_type": "code",
   "execution_count": 341,
   "metadata": {},
   "outputs": [
    {
     "data": {
      "image/png": "[encoded data removed]",
      "text/plain": [
       "<Figure size 576x576 with 1 Axes>"
      ]
     },
     "metadata": {
      "needs_background": "light"
     },
     "output_type": "display_data"
    },
    {
     "name": "stdout",
     "output_type": "stream",
     "text": [
      "Best Cutoff: 0.48801\n"
     ]
    }
   ],
   "source": [
    "import matplotlib.pyplot as plt\n",
    "from sklearn.metrics import roc_curve, auc\n",
    "\n",
    "# Assuming y_true is your true labels\n",
    "y_true = y_test\n",
    "\n",
    "# Model scores\n",
    "y_scores_model = y_proba  # Replace this with the predicted scores for your model\n",
    "\n",
    "# Compute ROC curve and ROC area\n",
    "fpr_model, tpr_model, thresholds_model = roc_curve(y_true, y_scores_model)\n",
    "roc_auc_model = auc(fpr_model, tpr_model)\n",
    "\n",
    "# Calculate Youden's Index for each threshold\n",
    "youden_index = tpr_model - fpr_model\n",
    "\n",
    "# Find the threshold that maximizes Youden's Index\n",
    "best_cutoff_index = np.argmax(youden_index)\n",
    "best_cutoff = thresholds_model[best_cutoff_index]\n",
    "\n",
    "# Plot ROC curve\n",
    "plt.figure(figsize=(8, 8))\n",
    "plt.plot(fpr_model, tpr_model, color='darkorange', lw=2, label='Model (area = {:.2f})'.format(roc_auc_model))\n",
    "plt.plot([0, 1], [0, 1], color='navy', lw=2, linestyle='--')\n",
    "plt.scatter(fpr_model[best_cutoff_index], tpr_model[best_cutoff_index], c='red', marker='o', label=f'Melhor Cutoff ({best_cutoff:.2f})')\n",
    "plt.xlabel('Taxa Falso Positivo')\n",
    "plt.ylabel('Taxa Verdadeiro Positivo')\n",
    "plt.title('Característica de Operação do Receptor (ROC) Curva')\n",
    "plt.legend(loc='lower right')\n",
    "plt.show()\n",
    "\n",
    "print(f'Best Cutoff: {best_cutoff:.5f}')\n"
   ]
  },
  {
   "cell_type": "code",
   "execution_count": 340,
   "metadata": {},
   "outputs": [
    {
     "name": "stdout",
     "output_type": "stream",
     "text": [
      "variaveis independentes: Index(['prazo_transportadora_dias_uteis', 'praca', 'tempo_total_despacho',\n",
      "       'transportadora_Correios', 'transportadora_Total',\n",
      "       'transportadora_Loggi', 'campaing', 'regiao_Norte'],\n",
      "      dtype='object')\n",
      "\n",
      "Acurácia: 0.6818717387645178\n",
      "\n",
      "Log loss: 10.987989368167849\n",
      "\n",
      "Curva Roc: 0.7213116669993834\n",
      "\n",
      "Classification Report\n",
      "              precision    recall  f1-score   support\n",
      "\n",
      "           0       0.95      0.67      0.78     15237\n",
      "           1       0.28      0.78      0.41      2586\n",
      "\n",
      "    accuracy                           0.68     17823\n",
      "   macro avg       0.61      0.72      0.60     17823\n",
      "weighted avg       0.85      0.68      0.73     17823\n",
      "\n",
      "matriz de confusão:\n",
      "[[10144  5093]\n",
      " [  577  2009]]\n"
     ]
    }
   ],
   "source": [
    "# Set a custom cutoff/threshold (e.g., 0.3)\n",
    "custom_cutoff = best_cutoff\n",
    "y_pred_custom = (y_proba >= custom_cutoff).astype(int)\n",
    "\n",
    "acuracia = metrics.accuracy_score(y_test,y_pred_custom)\n",
    "log_loss = metrics.log_loss(y_test,y_pred_custom)\n",
    "roc_auc = metrics.roc_auc_score(y_test,y_pred_custom)\n",
    "classification = metrics.classification_report(y_test, y_pred_custom)\n",
    "cm = metrics.confusion_matrix(y_test, y_pred_custom)\n",
    "\n",
    "\n",
    "print(f\"variaveis independentes: {X.columns}\\n\")\n",
    "print(f\"Acurácia: {acuracia}\\n\")\n",
    "print(f\"Log loss: {log_loss}\\n\")\n",
    "print(f\"Curva Roc: {roc_auc}\\n\")\n",
    "print(f\"Classification Report\")\n",
    "print(classification)\n",
    "print(f\"matriz de confusão:\")\n",
    "print(cm)"
   ]
  },
  {
   "cell_type": "code",
   "execution_count": 219,
   "metadata": {},
   "outputs": [
    {
     "data": {
      "image/png": "[encoded data removed]",
      "text/plain": [
       "<Figure size 576x576 with 1 Axes>"
      ]
     },
     "metadata": {
      "needs_background": "light"
     },
     "output_type": "display_data"
    }
   ],
   "source": [
    "import matplotlib.pyplot as plt\n",
    "from sklearn.metrics import roc_curve, auc\n",
    "\n",
    "# Assuming y_true is your true labels and y_scores is the predicted scores\n",
    "# Replace them with your actual values\n",
    "y_true = y_test\n",
    "y_scores = y_pred_custom\n",
    "\n",
    "# Compute ROC curve and ROC area for each class\n",
    "fpr, tpr, thresholds = roc_curve(y_true, y_scores)\n",
    "roc_auc = auc(fpr, tpr)\n",
    "\n",
    "# Plot ROC curve\n",
    "plt.figure(figsize=(8, 8))\n",
    "plt.plot(fpr, tpr, color='darkorange', lw=2, label='ROC curve (area = {:.2f})'.format(roc_auc))\n",
    "plt.plot([0, 1], [0, 1], color='navy', lw=2, linestyle='--')\n",
    "plt.xlabel('False Positive Rate')\n",
    "plt.ylabel('True Positive Rate')\n",
    "plt.title('Receiver Operating Characteristic (ROC) Curve')\n",
    "plt.legend(loc='lower right')\n",
    "plt.show()\n"
   ]
  },
  {
   "cell_type": "markdown",
   "metadata": {},
   "source": [
    "https://www.researchgate.net/figure/Sensitivity-vs-specificity-plot-for-decision-tree-and-logistic-regression-over-the_fig3_356763881"
   ]
  },
  {
   "cell_type": "markdown",
   "metadata": {},
   "source": [
    "### Ploting  Confusion Matrix"
   ]
  },
  {
   "cell_type": "code",
   "execution_count": 342,
   "metadata": {},
   "outputs": [
    {
     "data": {
      "image/png": "[encoded data removed]",
      "text/plain": [
       "<Figure size 432x432 with 1 Axes>"
      ]
     },
     "metadata": {
      "needs_background": "light"
     },
     "output_type": "display_data"
    }
   ],
   "source": [
    "import matplotlib.pyplot as plt\n",
    "import seaborn as sns\n",
    "\n",
    "\n",
    "plt.figure(figsize=(6, 6))\n",
    "sns.heatmap(cm, annot=True, fmt=\"d\", cmap=\"Blues\", cbar=False,\n",
    "            annot_kws={\"size\": 14}, xticklabels=[\"Não Atrasado\", \"Atrasado\"],\n",
    "            yticklabels=[\"Não Atrasado\", \"Atrasado\"])\n",
    "plt.xlabel('Predito')\n",
    "plt.ylabel('Verdadeiro')\n",
    "plt.title('Matriz de Confusão')\n",
    "plt.show()"
   ]
  },
  {
   "cell_type": "markdown",
   "metadata": {},
   "source": [
    "### Backlog"
   ]
  },
  {
   "cell_type": "code",
   "execution_count": 271,
   "metadata": {},
   "outputs": [],
   "source": [
    "#Random Forest\n",
    "\n",
    "from sklearn.ensemble import RandomForestClassifier\n",
    "\n",
    "# Example with class_weight parameter\n",
    "model = RandomForestClassifier(class_weight='balanced',random_state=31)\n",
    "model.fit(X_train,y_train)\n",
    "ypred = model.predict(X_test)"
   ]
  },
  {
   "cell_type": "code",
   "execution_count": 272,
   "metadata": {},
   "outputs": [
    {
     "name": "stdout",
     "output_type": "stream",
     "text": [
      "variaveis independentes: Index(['prazo_transportadora_dias_uteis', 'praca', 'tempo_total_despacho',\n",
      "       'transportadora_Correios', 'transportadora_Total',\n",
      "       'transportadora_Loggi', 'campaing', 'regiao_Norte'],\n",
      "      dtype='object')\n",
      "\n",
      "Acurácia: 0.7231028194697714\n",
      "\n",
      "Log loss: 9.563880308569066\n",
      "\n",
      "Curva Roc: 0.7307567193971997\n",
      "\n",
      "Classification Report\n",
      "              precision    recall  f1-score   support\n",
      "\n",
      "           0       0.94      0.72      0.82     12125\n",
      "           1       0.32      0.74      0.44      2133\n",
      "\n",
      "    accuracy                           0.72     14258\n",
      "   macro avg       0.63      0.73      0.63     14258\n",
      "weighted avg       0.85      0.72      0.76     14258\n",
      "\n",
      "matriz de confusão:\n",
      "[[8728 3397]\n",
      " [ 551 1582]]\n"
     ]
    }
   ],
   "source": [
    "acuracia = metrics.accuracy_score(y_test,ypred)\n",
    "log_loss = metrics.log_loss(y_test,ypred)\n",
    "roc_auc = metrics.roc_auc_score(y_test,ypred)\n",
    "classification = metrics.classification_report(y_test, ypred)\n",
    "cm = metrics.confusion_matrix(y_test, ypred)\n",
    "\n",
    "\n",
    "print(f\"variaveis independentes: {X.columns}\\n\")\n",
    "print(f\"Acurácia: {acuracia}\\n\")\n",
    "print(f\"Log loss: {log_loss}\\n\")\n",
    "print(f\"Curva Roc: {roc_auc}\\n\")\n",
    "print(f\"Classification Report\")\n",
    "print(classification)\n",
    "print(f\"matriz de confusão:\")\n",
    "print(cm)\n"
   ]
  },
  {
   "cell_type": "code",
   "execution_count": 265,
   "metadata": {},
   "outputs": [
    {
     "name": "stderr",
     "output_type": "stream",
     "text": [
      "[Parallel(n_jobs=1)]: Using backend SequentialBackend with 1 concurrent workers.\n"
     ]
    },
    {
     "name": "stdout",
     "output_type": "stream",
     "text": [
      "[CV] END .................................................... total time=   0.6s\n"
     ]
    },
    {
     "name": "stderr",
     "output_type": "stream",
     "text": [
      "[Parallel(n_jobs=1)]: Done   1 out of   1 | elapsed:    0.6s remaining:    0.0s\n"
     ]
    },
    {
     "name": "stdout",
     "output_type": "stream",
     "text": [
      "[CV] END .................................................... total time=   0.7s\n",
      "[CV] END .................................................... total time=   0.7s\n",
      "[CV] END .................................................... total time=   0.7s\n",
      "[CV] END .................................................... total time=   0.7s\n",
      "{'fit_time': array([0.6467638 , 0.73107934, 0.73661184, 0.73177886, 0.76480103]), 'score_time': array([0.02371526, 0.02359915, 0.03596139, 0.02414465, 0.02203488]), 'test_accuracy': array([0.6968018 , 0.69918642, 0.69147145, 0.69967737, 0.69904615]), 'test_log_loss': array([-0.57006838, -0.57050112, -0.57513248, -0.56996629, -0.56971448]), 'test_roc_auc': array([0.72700447, 0.71461435, 0.71310737, 0.71870918, 0.71994315])}\n"
     ]
    },
    {
     "name": "stderr",
     "output_type": "stream",
     "text": [
      "[Parallel(n_jobs=1)]: Done   5 out of   5 | elapsed:    3.7s finished\n"
     ]
    }
   ],
   "source": [
    "import pandas as pd\n",
    "from sklearn.model_selection import cross_validate, StratifiedKFold\n",
    "from sklearn.linear_model import LogisticRegression\n",
    "from sklearn.metrics import make_scorer, accuracy_score, log_loss, roc_auc_score\n",
    "\n",
    "# Assuming you have a DataFrame 'data' with features and target variable\n",
    "# For demonstration purposes, replace 'X' and 'y' with your actual feature matrix and target variable\n",
    "X = data.drop('situacao', axis=1)\n",
    "y = data['situacao']\n",
    "\n",
    "# Define the classifier (replace with your actual model)\n",
    "classifier = LogisticRegression(class_weight='balanced')\n",
    "\n",
    "# Define the evaluation metrics\n",
    "scoring = {\n",
    "    'accuracy': make_scorer(accuracy_score),\n",
    "    'log_loss': make_scorer(log_loss, greater_is_better=False, needs_proba=True),\n",
    "    'roc_auc': make_scorer(roc_auc_score)\n",
    "}\n",
    "\n",
    "# Perform cross-validation with 5 folds\n",
    "cv = StratifiedKFold(n_splits=5, shuffle=True, random_state=42)\n",
    "\n",
    "# Evaluate the model using cross_validate\n",
    "results = cross_validate(classifier, X, y, cv=cv, scoring=scoring, return_train_score=False, verbose=2)\n",
    "print(results)"
   ]
  },
  {
   "cell_type": "code",
   "execution_count": 266,
   "metadata": {},
   "outputs": [
    {
     "data": {
      "text/plain": [
       "{'fit_time': array([0.6467638 , 0.73107934, 0.73661184, 0.73177886, 0.76480103]),\n",
       " 'score_time': array([0.02371526, 0.02359915, 0.03596139, 0.02414465, 0.02203488]),\n",
       " 'test_accuracy': array([0.6968018 , 0.69918642, 0.69147145, 0.69967737, 0.69904615]),\n",
       " 'test_log_loss': array([-0.57006838, -0.57050112, -0.57513248, -0.56996629, -0.56971448]),\n",
       " 'test_roc_auc': array([0.72700447, 0.71461435, 0.71310737, 0.71870918, 0.71994315])}"
      ]
     },
     "execution_count": 266,
     "metadata": {},
     "output_type": "execute_result"
    }
   ],
   "source": [
    "results"
   ]
  },
  {
   "cell_type": "code",
   "execution_count": 273,
   "metadata": {},
   "outputs": [
    {
     "name": "stdout",
     "output_type": "stream",
     "text": [
      "Accuracy: 0.6966\n",
      "Log Loss: 0.5386\n",
      "ROC AUC: 0.7999\n"
     ]
    }
   ],
   "source": [
    "import numpy as np\n",
    "from sklearn.ensemble import GradientBoostingClassifier\n",
    "from sklearn.model_selection import train_test_split\n",
    "from sklearn.metrics import accuracy_score, log_loss, roc_auc_score\n",
    "\n",
    "# Assuming you have a DataFrame 'data' with features and target variable\n",
    "# For demonstration purposes, replace 'X' and 'y' with your actual feature matrix and target variable\n",
    "X = data.drop('situacao', axis=1)\n",
    "y = data['situacao']\n",
    "\n",
    "# Split the data into training and testing sets\n",
    "X_train, X_test, y_train, y_test = train_test_split(X, y, test_size=0.2, random_state=42)\n",
    "\n",
    "# Calculate class weights based on the inverse of class frequencies\n",
    "class_weights = len(y_train) / (2 * np.bincount(y_train))\n",
    "\n",
    "# Initialize the Gradient Boosting model\n",
    "gradient_boosted_model = GradientBoostingClassifier(n_estimators=100, learning_rate=0.1, max_depth=3, random_state=42)\n",
    "\n",
    "# Fit the model on the training data with sample weights\n",
    "gradient_boosted_model.fit(X_train, y_train, sample_weight=np.vectorize(class_weights.__getitem__)(y_train))\n",
    "\n",
    "# Make predictions on the test set\n",
    "y_pred = gradient_boosted_model.predict(X_test)\n",
    "y_proba = gradient_boosted_model.predict_proba(X_test)[:, 1]\n",
    "\n",
    "# Evaluate the model\n",
    "accuracy = accuracy_score(y_test, y_pred)\n",
    "logloss = log_loss(y_test, y_proba)\n",
    "roc_auc = roc_auc_score(y_test, y_proba)\n",
    "\n",
    "print(f\"Accuracy: {accuracy:.4f}\")\n",
    "print(f\"Log Loss: {logloss:.4f}\")\n",
    "print(f\"ROC AUC: {roc_auc:.4f}\")\n"
   ]
  },
  {
   "cell_type": "markdown",
   "metadata": {},
   "source": [
    "# ANOTAÇÕES"
   ]
  },
  {
   "cell_type": "markdown",
   "metadata": {},
   "source": [
    "### COMPARE 2 ROC MODELS"
   ]
  },
  {
   "cell_type": "code",
   "execution_count": 226,
   "metadata": {},
   "outputs": [
    {
     "ename": "IndexError",
     "evalue": "index 325 is out of bounds for axis 0 with size 3",
     "output_type": "error",
     "traceback": [
      "\u001b[1;31m---------------------------------------------------------------------------\u001b[0m",
      "\u001b[1;31mIndexError\u001b[0m                                Traceback (most recent call last)",
      "Input \u001b[1;32mIn [226]\u001b[0m, in \u001b[0;36m<cell line: 27>\u001b[1;34m()\u001b[0m\n\u001b[0;32m     25\u001b[0m \u001b[38;5;66;03m# Find the threshold that maximizes Youden's Index\u001b[39;00m\n\u001b[0;32m     26\u001b[0m best_cutoff_index \u001b[38;5;241m=\u001b[39m np\u001b[38;5;241m.\u001b[39margmax(youden_index)\n\u001b[1;32m---> 27\u001b[0m best_cutoff \u001b[38;5;241m=\u001b[39m \u001b[43mthresholds\u001b[49m\u001b[43m[\u001b[49m\u001b[43mbest_cutoff_index\u001b[49m\u001b[43m]\u001b[49m\n\u001b[0;32m     29\u001b[0m \u001b[38;5;66;03m# Plot ROC curves for both models\u001b[39;00m\n\u001b[0;32m     30\u001b[0m plt\u001b[38;5;241m.\u001b[39mfigure(figsize\u001b[38;5;241m=\u001b[39m(\u001b[38;5;241m8\u001b[39m, \u001b[38;5;241m8\u001b[39m))\n",
      "\u001b[1;31mIndexError\u001b[0m: index 325 is out of bounds for axis 0 with size 3"
     ]
    }
   ],
   "source": [
    "import matplotlib.pyplot as plt\n",
    "from sklearn.metrics import roc_curve, auc\n",
    "\n",
    "# Assuming y_true is your true labels\n",
    "y_true = y_test\n",
    "\n",
    "# Model 1 scores\n",
    "y_scores_model1 = y_proba # Replace this with the predicted scores for Model 1\n",
    "\n",
    "# Model 2 scores\n",
    "y_scores_model2 = y_proba2 # Replace this with the predicted scores for Model 2\n",
    "\n",
    "# Compute ROC curve and ROC area for each model\n",
    "fpr_model1, tpr_model1, thresholds_model1 = roc_curve(y_true, y_scores_model1)\n",
    "roc_auc_model1 = auc(fpr_model1, tpr_model1)\n",
    "\n",
    "fpr_model2, tpr_model2, thresholds_model2 = roc_curve(y_true, y_scores_model2)\n",
    "roc_auc_model2 = auc(fpr_model2, tpr_model2)\n",
    "\n",
    "fpr_model1, tpr_model1, thresholds_model1 = roc_curve(y_true, y_scores_model1)\n",
    "\n",
    "# Calculate Youden's Index for each threshold\n",
    "youden_index = tpr_model1 - fpr_model1\n",
    "\n",
    "# Find the threshold that maximizes Youden's Index\n",
    "best_cutoff_index = np.argmax(youden_index)\n",
    "best_cutoff = thresholds[best_cutoff_index]\n",
    "\n",
    "# Plot ROC curves for both models\n",
    "plt.figure(figsize=(8, 8))\n",
    "plt.plot(fpr_model1, tpr_model1, color='darkorange', lw=2, label='Model 1 (area = {:.2f})'.format(roc_auc_model1))\n",
    "plt.plot(fpr_model2, tpr_model2, color='green', lw=2, label='Model 2 (area = {:.2f})'.format(roc_auc_model2))\n",
    "plt.plot([0, 1], [0, 1], color='navy', lw=2, linestyle='--')\n",
    "plt.scatter(fpr[best_cutoff_index], tpr[best_cutoff_index], c='red', marker='o', label=f'Best Cutoff ({best_cutoff:.2f})')\n",
    "plt.xlabel('False Positive Rate')\n",
    "plt.ylabel('True Positive Rate')\n",
    "plt.title('Receiver Operating Characteristic (ROC) Curve')\n",
    "plt.legend(loc='lower right')\n",
    "plt.show()\n",
    "\n",
    "print(f'Best Cutoff: {best_cutoff:.5f}')\n"
   ]
  }
 ],
 "metadata": {
  "colab": {
   "provenance": []
  },
  "kernelspec": {
   "display_name": "Python 3 (ipykernel)",
   "language": "python",
   "name": "python3"
  },
  "language_info": {
   "codemirror_mode": {
    "name": "ipython",
    "version": 3
   },
   "file_extension": ".py",
   "mimetype": "text/x-python",
   "name": "python",
   "nbconvert_exporter": "python",
   "pygments_lexer": "ipython3",
   "version": "3.9.12"
  }
 },
 "nbformat": 4,
 "nbformat_minor": 1
}
